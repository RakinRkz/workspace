{
 "cells": [
  {
   "cell_type": "code",
   "execution_count": 1,
   "metadata": {
    "colab": {
     "base_uri": "https://localhost:8080/"
    },
    "id": "3om5b7ViaZ0_",
    "outputId": "4840f409-cdd0-423e-ada8-5fc4ad97c4c4"
   },
   "outputs": [
    {
     "name": "stdout",
     "output_type": "stream",
     "text": [
      "Defaulting to user installation because normal site-packages is not writeable\n",
      "Requirement already satisfied: pandas in /home/rakin/.local/lib/python3.10/site-packages (2.1.3)\n",
      "Requirement already satisfied: scikit-learn in /home/rakin/.local/lib/python3.10/site-packages (1.3.2)\n",
      "Requirement already satisfied: xgboost in /home/rakin/.local/lib/python3.10/site-packages (2.0.2)\n",
      "Requirement already satisfied: caimcaim in /home/rakin/.local/lib/python3.10/site-packages (0.3)\n",
      "Requirement already satisfied: numpy<2,>=1.22.4 in /home/rakin/.local/lib/python3.10/site-packages (from pandas) (1.26.2)\n",
      "Requirement already satisfied: python-dateutil>=2.8.2 in /home/rakin/.local/lib/python3.10/site-packages (from pandas) (2.8.2)\n",
      "Requirement already satisfied: tzdata>=2022.1 in /home/rakin/.local/lib/python3.10/site-packages (from pandas) (2023.3)\n",
      "Requirement already satisfied: pytz>=2020.1 in /home/rakin/.local/lib/python3.10/site-packages (from pandas) (2023.3.post1)\n",
      "Requirement already satisfied: threadpoolctl>=2.0.0 in /home/rakin/.local/lib/python3.10/site-packages (from scikit-learn) (3.2.0)\n",
      "Requirement already satisfied: joblib>=1.1.1 in /home/rakin/.local/lib/python3.10/site-packages (from scikit-learn) (1.3.2)\n",
      "Requirement already satisfied: scipy>=1.5.0 in /home/rakin/.local/lib/python3.10/site-packages (from scikit-learn) (1.11.3)\n",
      "Requirement already satisfied: sklearn in /home/rakin/.local/lib/python3.10/site-packages (from caimcaim) (0.0.post11)\n",
      "Requirement already satisfied: six>=1.5 in /usr/lib/python3/dist-packages (from python-dateutil>=2.8.2->pandas) (1.16.0)\n",
      "Note: you may need to restart the kernel to use updated packages.\n"
     ]
    }
   ],
   "source": [
    "%pip install pandas scikit-learn xgboost caimcaim"
   ]
  },
  {
   "cell_type": "code",
   "execution_count": 2,
   "metadata": {
    "colab": {
     "base_uri": "https://localhost:8080/",
     "height": 356
    },
    "id": "J9pec9xsYESA",
    "outputId": "940341e9-2204-43e7-af39-967448623870"
   },
   "outputs": [],
   "source": [
    "import pandas as pd \n",
    "from IPython.display import  clear_output\n",
    "import numpy as np\n",
    "from sklearn.ensemble import RandomForestClassifier\n",
    "from sklearn.model_selection import train_test_split \n",
    "from sklearn.feature_selection import SelectKBest\n",
    "from sklearn.feature_selection import mutual_info_classif\n",
    "import math\n",
    "from collections import defaultdict\n",
    "from sklearn.metrics import accuracy_score\n",
    "from scipy.io import loadmat\n",
    "from sklearn.neighbors import KNeighborsClassifier\n",
    "from sklearn.tree import DecisionTreeClassifier\n",
    "from sklearn.svm import SVC\n",
    "from sklearn.naive_bayes import GaussianNB\n",
    "from xgboost import XGBClassifier\n",
    "from sklearn.model_selection import GridSearchCV\n",
    "from sklearn.model_selection import cross_validate\n",
    "from caimcaim import CAIMD\n",
    "import time"
   ]
  },
  {
   "cell_type": "code",
   "execution_count": 3,
   "metadata": {},
   "outputs": [],
   "source": [
    "datasetFile = '/home/rakin/Desktop/Thesis datasets/unsw_nb_15_cat_in_num_binaryclass.csv' #need to edit this depending on dataset file"
   ]
  },
  {
   "cell_type": "code",
   "execution_count": 4,
   "metadata": {
    "id": "-e0ni8-KZcQH"
   },
   "outputs": [
    {
     "name": "stdout",
     "output_type": "stream",
     "text": [
      "   0  proto  state       dur  sbytes  dbytes  sttl  dttl  sloss  dloss  ...  \\\n",
      "0  0      1      1  0.001055     132     164    31    29      0      0  ...   \n",
      "1  0      1      1  0.036133     528     304    31    29      0      0  ...   \n",
      "2  0      1      1  0.001119     146     178    31    29      0      0  ...   \n",
      "3  0      1      1  0.001209     132     164    31    29      0      0  ...   \n",
      "4  0      1      1  0.001169     146     178    31    29      0      0  ...   \n",
      "\n",
      "   ct_flw_http_mthd  is_ftp_login  ct_ftp_cmd  ct_srv_src  ct_srv_dst  \\\n",
      "0               0.0           0.0         0.0           3           7   \n",
      "1               0.0           0.0         0.0           2           4   \n",
      "2               0.0           0.0         0.0          12           8   \n",
      "3               0.0           0.0         0.0           6           9   \n",
      "4               0.0           0.0         0.0           7           9   \n",
      "\n",
      "   ct_dst_ltm  ct_src_ltm  ct_src_dport_ltm  ct_dst_sport_ltm  ct_dst_src_ltm  \n",
      "0           1           3                 1                 1               1  \n",
      "1           2           3                 1                 1               2  \n",
      "2           1           2                 2                 1               1  \n",
      "3           1           1                 1                 1               1  \n",
      "4           1           1                 1                 1               1  \n",
      "\n",
      "[5 rows x 44 columns]\n",
      "(2540047, 44)\n"
     ]
    }
   ],
   "source": [
    "main_data = pd.read_csv(datasetFile)\n",
    "clear_output()\n",
    "print(main_data.head())\n",
    "print(main_data.shape)"
   ]
  },
  {
   "cell_type": "code",
   "execution_count": 5,
   "metadata": {},
   "outputs": [],
   "source": [
    "class_column = '0' #might need to edit this depending on dataset's target or class' name"
   ]
  },
  {
   "cell_type": "code",
   "execution_count": 6,
   "metadata": {
    "id": "4j-hlntbZfoW"
   },
   "outputs": [],
   "source": [
    "feature_list = main_data\n",
    "feature_list =  feature_list.drop(class_column, axis=1)\n",
    "feature_list = feature_list.columns\n",
    "\n",
    "x = main_data[feature_list]\n",
    "y = main_data[class_column]\n",
    "\n",
    "feature_list = main_data.columns"
   ]
  },
  {
   "cell_type": "code",
   "execution_count": 7,
   "metadata": {
    "id": "IeDFXSSVZnt_"
   },
   "outputs": [
    {
     "name": "stdout",
     "output_type": "stream",
     "text": [
      "Categorical [31]\n",
      "# 0  GLOBAL CAIM  1001037.9578593759\n",
      "# 1  GLOBAL CAIM  982599.4381570463\n"
     ]
    },
    {
     "ename": "KeyboardInterrupt",
     "evalue": "",
     "output_type": "error",
     "traceback": [
      "\u001b[0;31m---------------------------------------------------------------------------\u001b[0m",
      "\u001b[0;31mKeyboardInterrupt\u001b[0m                         Traceback (most recent call last)",
      "\u001b[1;32m/home/rakin/Desktop/workspace/discretization_unswBinary.ipynb Cell 7\u001b[0m line \u001b[0;36m3\n\u001b[1;32m      <a href='vscode-notebook-cell:/home/rakin/Desktop/workspace/discretization_unswBinary.ipynb#W6sZmlsZQ%3D%3D?line=0'>1</a>\u001b[0m caim \u001b[39m=\u001b[39m CAIMD()\n\u001b[0;32m----> <a href='vscode-notebook-cell:/home/rakin/Desktop/workspace/discretization_unswBinary.ipynb#W6sZmlsZQ%3D%3D?line=2'>3</a>\u001b[0m x_disc \u001b[39m=\u001b[39m caim\u001b[39m.\u001b[39;49mfit_transform(x, y)\n",
      "File \u001b[0;32m~/.local/lib/python3.10/site-packages/sklearn/utils/_set_output.py:157\u001b[0m, in \u001b[0;36m_wrap_method_output.<locals>.wrapped\u001b[0;34m(self, X, *args, **kwargs)\u001b[0m\n\u001b[1;32m    155\u001b[0m \u001b[39m@wraps\u001b[39m(f)\n\u001b[1;32m    156\u001b[0m \u001b[39mdef\u001b[39;00m \u001b[39mwrapped\u001b[39m(\u001b[39mself\u001b[39m, X, \u001b[39m*\u001b[39margs, \u001b[39m*\u001b[39m\u001b[39m*\u001b[39mkwargs):\n\u001b[0;32m--> 157\u001b[0m     data_to_wrap \u001b[39m=\u001b[39m f(\u001b[39mself\u001b[39;49m, X, \u001b[39m*\u001b[39;49margs, \u001b[39m*\u001b[39;49m\u001b[39m*\u001b[39;49mkwargs)\n\u001b[1;32m    158\u001b[0m     \u001b[39mif\u001b[39;00m \u001b[39misinstance\u001b[39m(data_to_wrap, \u001b[39mtuple\u001b[39m):\n\u001b[1;32m    159\u001b[0m         \u001b[39m# only wrap the first output for cross decomposition\u001b[39;00m\n\u001b[1;32m    160\u001b[0m         return_tuple \u001b[39m=\u001b[39m (\n\u001b[1;32m    161\u001b[0m             _wrap_data_with_container(method, data_to_wrap[\u001b[39m0\u001b[39m], X, \u001b[39mself\u001b[39m),\n\u001b[1;32m    162\u001b[0m             \u001b[39m*\u001b[39mdata_to_wrap[\u001b[39m1\u001b[39m:],\n\u001b[1;32m    163\u001b[0m         )\n",
      "File \u001b[0;32m~/.local/lib/python3.10/site-packages/caimcaim/caimcaim.py:175\u001b[0m, in \u001b[0;36mCAIMD.fit_transform\u001b[0;34m(self, X, y)\u001b[0m\n\u001b[1;32m    170\u001b[0m \u001b[39mdef\u001b[39;00m \u001b[39mfit_transform\u001b[39m(\u001b[39mself\u001b[39m, X, y):\n\u001b[1;32m    171\u001b[0m \u001b[39m    \u001b[39m\u001b[39m\"\"\"\u001b[39;00m\n\u001b[1;32m    172\u001b[0m \u001b[39m    Fit CAIM to X,y, then discretize X.\u001b[39;00m\n\u001b[1;32m    173\u001b[0m \u001b[39m    Equivalent to self.fit(X).transform(X)\u001b[39;00m\n\u001b[1;32m    174\u001b[0m \u001b[39m    \"\"\"\u001b[39;00m\n\u001b[0;32m--> 175\u001b[0m     \u001b[39mself\u001b[39;49m\u001b[39m.\u001b[39;49mfit(X, y)\n\u001b[1;32m    176\u001b[0m     \u001b[39mreturn\u001b[39;00m \u001b[39mself\u001b[39m\u001b[39m.\u001b[39mtransform(X)\n",
      "File \u001b[0;32m~/.local/lib/python3.10/site-packages/caimcaim/caimcaim.py:116\u001b[0m, in \u001b[0;36mCAIMD.fit\u001b[0;34m(self, X, y)\u001b[0m\n\u001b[1;32m    114\u001b[0m scheme\u001b[39m.\u001b[39mappend(sp)\n\u001b[1;32m    115\u001b[0m scheme\u001b[39m.\u001b[39msort()\n\u001b[0;32m--> 116\u001b[0m c \u001b[39m=\u001b[39m \u001b[39mself\u001b[39;49m\u001b[39m.\u001b[39;49mget_caim(scheme, xj, yj)\n\u001b[1;32m    117\u001b[0m \u001b[39mif\u001b[39;00m c \u001b[39m>\u001b[39m best_caim:\n\u001b[1;32m    118\u001b[0m     best_caim \u001b[39m=\u001b[39m c\n",
      "File \u001b[0;32m~/.local/lib/python3.10/site-packages/caimcaim/caimcaim.py:188\u001b[0m, in \u001b[0;36mCAIMD.get_caim\u001b[0;34m(self, scheme, xi, y)\u001b[0m\n\u001b[1;32m    186\u001b[0m fin \u001b[39m=\u001b[39m sp[j \u001b[39m+\u001b[39m \u001b[39m1\u001b[39m]\n\u001b[1;32m    187\u001b[0m Mr \u001b[39m=\u001b[39m xi[init:fin]\u001b[39m.\u001b[39mshape[\u001b[39m0\u001b[39m]\n\u001b[0;32m--> 188\u001b[0m val, counts \u001b[39m=\u001b[39m np\u001b[39m.\u001b[39;49munique(y[init:fin], return_counts\u001b[39m=\u001b[39;49m\u001b[39mTrue\u001b[39;49;00m)\n\u001b[1;32m    189\u001b[0m maxr \u001b[39m=\u001b[39m counts\u001b[39m.\u001b[39mmax()\n\u001b[1;32m    190\u001b[0m isum \u001b[39m=\u001b[39m isum \u001b[39m+\u001b[39m (maxr \u001b[39m/\u001b[39m Mr) \u001b[39m*\u001b[39m maxr\n",
      "File \u001b[0;32m~/.local/lib/python3.10/site-packages/numpy/lib/arraysetops.py:274\u001b[0m, in \u001b[0;36munique\u001b[0;34m(ar, return_index, return_inverse, return_counts, axis, equal_nan)\u001b[0m\n\u001b[1;32m    272\u001b[0m ar \u001b[39m=\u001b[39m np\u001b[39m.\u001b[39masanyarray(ar)\n\u001b[1;32m    273\u001b[0m \u001b[39mif\u001b[39;00m axis \u001b[39mis\u001b[39;00m \u001b[39mNone\u001b[39;00m:\n\u001b[0;32m--> 274\u001b[0m     ret \u001b[39m=\u001b[39m _unique1d(ar, return_index, return_inverse, return_counts, \n\u001b[1;32m    275\u001b[0m                     equal_nan\u001b[39m=\u001b[39;49mequal_nan)\n\u001b[1;32m    276\u001b[0m     \u001b[39mreturn\u001b[39;00m _unpack_tuple(ret)\n\u001b[1;32m    278\u001b[0m \u001b[39m# axis was specified and not None\u001b[39;00m\n",
      "File \u001b[0;32m~/.local/lib/python3.10/site-packages/numpy/lib/arraysetops.py:336\u001b[0m, in \u001b[0;36m_unique1d\u001b[0;34m(ar, return_index, return_inverse, return_counts, equal_nan)\u001b[0m\n\u001b[1;32m    334\u001b[0m     aux \u001b[39m=\u001b[39m ar[perm]\n\u001b[1;32m    335\u001b[0m \u001b[39melse\u001b[39;00m:\n\u001b[0;32m--> 336\u001b[0m     ar\u001b[39m.\u001b[39;49msort()\n\u001b[1;32m    337\u001b[0m     aux \u001b[39m=\u001b[39m ar\n\u001b[1;32m    338\u001b[0m mask \u001b[39m=\u001b[39m np\u001b[39m.\u001b[39mempty(aux\u001b[39m.\u001b[39mshape, dtype\u001b[39m=\u001b[39mnp\u001b[39m.\u001b[39mbool_)\n",
      "\u001b[0;31mKeyboardInterrupt\u001b[0m: "
     ]
    }
   ],
   "source": [
    "caim = CAIMD()\n",
    "\n",
    "x_disc = caim.fit_transform(x, y)"
   ]
  },
  {
   "cell_type": "code",
   "execution_count": null,
   "metadata": {
    "id": "j4Cmd5OjZqcn"
   },
   "outputs": [],
   "source": [
    "data = x_disc\n",
    "data[class_column] = y \n",
    "print(data.shape)"
   ]
  },
  {
   "cell_type": "code",
   "execution_count": null,
   "metadata": {},
   "outputs": [],
   "source": [
    "data.to_csv('./datasets/unsw_nb_15_cat_in_num_binaryclass_discretized.csv', index=False)"
   ]
  }
 ],
 "metadata": {
  "accelerator": "GPU",
  "colab": {
   "provenance": []
  },
  "gpuClass": "standard",
  "kernelspec": {
   "display_name": "Python 3 (ipykernel)",
   "language": "python",
   "name": "python3"
  },
  "language_info": {
   "codemirror_mode": {
    "name": "ipython",
    "version": 3
   },
   "file_extension": ".py",
   "mimetype": "text/x-python",
   "name": "python",
   "nbconvert_exporter": "python",
   "pygments_lexer": "ipython3",
   "version": "3.10.12"
  }
 },
 "nbformat": 4,
 "nbformat_minor": 1
}
