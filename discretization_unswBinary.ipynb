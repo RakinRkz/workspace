{
 "cells": [
  {
   "cell_type": "code",
   "execution_count": 1,
   "metadata": {
    "colab": {
     "base_uri": "https://localhost:8080/"
    },
    "id": "3om5b7ViaZ0_",
    "outputId": "4840f409-cdd0-423e-ada8-5fc4ad97c4c4"
   },
   "outputs": [
    {
     "name": "stdout",
     "output_type": "stream",
     "text": [
      "Defaulting to user installation because normal site-packages is not writeable\n",
      "Requirement already satisfied: pandas in /home/rakin/.local/lib/python3.10/site-packages (2.1.3)\n",
      "Requirement already satisfied: scikit-learn in /home/rakin/.local/lib/python3.10/site-packages (1.3.2)\n",
      "Requirement already satisfied: xgboost in /home/rakin/.local/lib/python3.10/site-packages (2.0.2)\n",
      "Requirement already satisfied: caimcaim in /home/rakin/.local/lib/python3.10/site-packages (0.3)\n",
      "Requirement already satisfied: python-dateutil>=2.8.2 in /home/rakin/.local/lib/python3.10/site-packages (from pandas) (2.8.2)\n",
      "Requirement already satisfied: numpy<2,>=1.22.4 in /home/rakin/.local/lib/python3.10/site-packages (from pandas) (1.26.2)\n",
      "Requirement already satisfied: pytz>=2020.1 in /home/rakin/.local/lib/python3.10/site-packages (from pandas) (2023.3.post1)\n",
      "Requirement already satisfied: tzdata>=2022.1 in /home/rakin/.local/lib/python3.10/site-packages (from pandas) (2023.3)\n",
      "Requirement already satisfied: threadpoolctl>=2.0.0 in /home/rakin/.local/lib/python3.10/site-packages (from scikit-learn) (3.2.0)\n",
      "Requirement already satisfied: scipy>=1.5.0 in /home/rakin/.local/lib/python3.10/site-packages (from scikit-learn) (1.11.3)\n",
      "Requirement already satisfied: joblib>=1.1.1 in /home/rakin/.local/lib/python3.10/site-packages (from scikit-learn) (1.3.2)\n",
      "Requirement already satisfied: sklearn in /home/rakin/.local/lib/python3.10/site-packages (from caimcaim) (0.0.post11)\n",
      "Requirement already satisfied: six>=1.5 in /usr/lib/python3/dist-packages (from python-dateutil>=2.8.2->pandas) (1.16.0)\n",
      "Note: you may need to restart the kernel to use updated packages.\n"
     ]
    }
   ],
   "source": [
    "%pip install pandas scikit-learn xgboost caimcaim"
   ]
  },
  {
   "cell_type": "code",
   "execution_count": 2,
   "metadata": {
    "colab": {
     "base_uri": "https://localhost:8080/",
     "height": 356
    },
    "id": "J9pec9xsYESA",
    "outputId": "940341e9-2204-43e7-af39-967448623870"
   },
   "outputs": [],
   "source": [
    "import pandas as pd \n",
    "from IPython.display import  clear_output\n",
    "import numpy as np\n",
    "from sklearn.ensemble import RandomForestClassifier\n",
    "from sklearn.model_selection import train_test_split \n",
    "from sklearn.feature_selection import SelectKBest\n",
    "from sklearn.feature_selection import mutual_info_classif\n",
    "import math\n",
    "from collections import defaultdict\n",
    "from sklearn.metrics import accuracy_score\n",
    "from scipy.io import loadmat\n",
    "from sklearn.neighbors import KNeighborsClassifier\n",
    "from sklearn.tree import DecisionTreeClassifier\n",
    "from sklearn.svm import SVC\n",
    "from sklearn.naive_bayes import GaussianNB\n",
    "from xgboost import XGBClassifier\n",
    "from sklearn.model_selection import GridSearchCV\n",
    "from sklearn.model_selection import cross_validate\n",
    "from caimcaim import CAIMD\n",
    "import time"
   ]
  },
  {
   "cell_type": "code",
   "execution_count": 3,
   "metadata": {},
   "outputs": [],
   "source": [
    "datasetFile = '/home/rakin/Desktop/Thesis datasets/unsw_nb_15_cat_in_num_binaryclass.csv' #need to edit this depending on dataset file"
   ]
  },
  {
   "cell_type": "code",
   "execution_count": 4,
   "metadata": {
    "id": "-e0ni8-KZcQH"
   },
   "outputs": [
    {
     "name": "stdout",
     "output_type": "stream",
     "text": [
      "   0  proto  state       dur  sbytes  dbytes  sttl  dttl  sloss  dloss  ...  \\\n",
      "0  0      1      1  0.001055     132     164    31    29      0      0  ...   \n",
      "1  0      1      1  0.036133     528     304    31    29      0      0  ...   \n",
      "2  0      1      1  0.001119     146     178    31    29      0      0  ...   \n",
      "3  0      1      1  0.001209     132     164    31    29      0      0  ...   \n",
      "4  0      1      1  0.001169     146     178    31    29      0      0  ...   \n",
      "\n",
      "   ct_flw_http_mthd  is_ftp_login  ct_ftp_cmd  ct_srv_src  ct_srv_dst  \\\n",
      "0               0.0           0.0         0.0           3           7   \n",
      "1               0.0           0.0         0.0           2           4   \n",
      "2               0.0           0.0         0.0          12           8   \n",
      "3               0.0           0.0         0.0           6           9   \n",
      "4               0.0           0.0         0.0           7           9   \n",
      "\n",
      "   ct_dst_ltm  ct_src_ltm  ct_src_dport_ltm  ct_dst_sport_ltm  ct_dst_src_ltm  \n",
      "0           1           3                 1                 1               1  \n",
      "1           2           3                 1                 1               2  \n",
      "2           1           2                 2                 1               1  \n",
      "3           1           1                 1                 1               1  \n",
      "4           1           1                 1                 1               1  \n",
      "\n",
      "[5 rows x 44 columns]\n",
      "(2540047, 44)\n"
     ]
    }
   ],
   "source": [
    "main_data = pd.read_csv(datasetFile)\n",
    "clear_output()\n",
    "print(main_data.head())\n",
    "print(main_data.shape)"
   ]
  },
  {
   "cell_type": "code",
   "execution_count": 5,
   "metadata": {},
   "outputs": [],
   "source": [
    "class_column = '0' #might need to edit this depending on dataset's target or class' name"
   ]
  },
  {
   "cell_type": "code",
   "execution_count": 6,
   "metadata": {
    "id": "4j-hlntbZfoW"
   },
   "outputs": [],
   "source": [
    "feature_list = main_data\n",
    "feature_list =  feature_list.drop(class_column, axis=1)\n",
    "feature_list = feature_list.columns\n",
    "\n",
    "x = main_data[feature_list]\n",
    "y = main_data[class_column]\n",
    "\n",
    "feature_list = main_data.columns"
   ]
  },
  {
   "cell_type": "code",
   "execution_count": 7,
   "metadata": {
    "id": "IeDFXSSVZnt_"
   },
   "outputs": [
    {
     "name": "stdout",
     "output_type": "stream",
     "text": [
      "Categorical [31]\n",
      "# 0  GLOBAL CAIM  1001037.9578593759\n",
      "# 1  GLOBAL CAIM  982599.4381570463\n",
      "# 2  GLOBAL CAIM  1029696.3553504919\n",
      "# 3  GLOBAL CAIM  1151189.3398915352\n",
      "# 4  GLOBAL CAIM  1029745.7941639364\n",
      "# 5  GLOBAL CAIM  1227722.6974444706\n",
      "# 6  GLOBAL CAIM  998458.5026549258\n",
      "# 7  GLOBAL CAIM  984379.9703241291\n",
      "# 8  GLOBAL CAIM  986305.2073419807\n",
      "# 9  GLOBAL CAIM  970820.6136989448\n",
      "# 10  GLOBAL CAIM  1033380.8522012044\n",
      "# 11  GLOBAL CAIM  1029588.6029830889\n",
      "# 12  GLOBAL CAIM  988273.2487543582\n",
      "# 13  GLOBAL CAIM  1029597.5117125262\n",
      "# 14  GLOBAL CAIM  982993.1392556906\n",
      "# 15  GLOBAL CAIM  982888.1179193006\n",
      "# 16  GLOBAL CAIM  982903.4068100045\n",
      "# 17  GLOBAL CAIM  982894.2127385046\n",
      "# 18  GLOBAL CAIM  1007897.5622316411\n",
      "# 19  GLOBAL CAIM  1036373.356344037\n",
      "# 20  GLOBAL CAIM  969097.0039560697\n",
      "# 21  GLOBAL CAIM  970075.5620688734\n",
      "# 22  GLOBAL CAIM  984533.3011463059\n",
      "# 23  GLOBAL CAIM  988188.0906183345\n",
      "# 24  GLOBAL CAIM  980313.5643895201\n",
      "# 25  GLOBAL CAIM  980313.3925611224\n",
      "# 26  GLOBAL CAIM  991493.6415819172\n",
      "# 27  GLOBAL CAIM  1019932.5666104723\n",
      "# 28  GLOBAL CAIM  995467.7808147203\n",
      "# 29  GLOBAL CAIM  993388.9899282658\n",
      "# 30  GLOBAL CAIM  995570.5469073955\n",
      "# 32  GLOBAL CAIM  1194141.0112539185\n",
      "# 33  GLOBAL CAIM  969119.1208912397\n",
      "# 34  GLOBAL CAIM  969059.6108034275\n",
      "# 35  GLOBAL CAIM  969085.3893029988\n",
      "# 36  GLOBAL CAIM  993857.3792804289\n",
      "# 37  GLOBAL CAIM  995097.2317088213\n",
      "# 38  GLOBAL CAIM  991197.4443248914\n",
      "# 39  GLOBAL CAIM  990989.2489747318\n",
      "# 40  GLOBAL CAIM  998706.1350530382\n",
      "# 41  GLOBAL CAIM  1000904.1132284552\n",
      "# 42  GLOBAL CAIM  1001041.0935102074\n"
     ]
    }
   ],
   "source": [
    "caim = CAIMD()\n",
    "\n",
    "x_disc = caim.fit_transform(x, y)"
   ]
  },
  {
   "cell_type": "code",
   "execution_count": 8,
   "metadata": {
    "id": "j4Cmd5OjZqcn"
   },
   "outputs": [
    {
     "name": "stdout",
     "output_type": "stream",
     "text": [
      "(2540047, 44)\n"
     ]
    }
   ],
   "source": [
    "data = x_disc\n",
    "data[class_column] = y \n",
    "print(data.shape)"
   ]
  },
  {
   "cell_type": "code",
   "execution_count": 9,
   "metadata": {},
   "outputs": [],
   "source": [
    "data.to_csv('./datasets/unsw_nb_15_cat_in_num_binaryclass_discretized.csv', index=False)"
   ]
  }
 ],
 "metadata": {
  "accelerator": "GPU",
  "colab": {
   "provenance": []
  },
  "gpuClass": "standard",
  "kernelspec": {
   "display_name": "Python 3 (ipykernel)",
   "language": "python",
   "name": "python3"
  },
  "language_info": {
   "codemirror_mode": {
    "name": "ipython",
    "version": 3
   },
   "file_extension": ".py",
   "mimetype": "text/x-python",
   "name": "python",
   "nbconvert_exporter": "python",
   "pygments_lexer": "ipython3",
   "version": "3.10.12"
  }
 },
 "nbformat": 4,
 "nbformat_minor": 1
}
