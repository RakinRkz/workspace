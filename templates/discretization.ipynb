{
 "cells": [
  {
   "cell_type": "code",
   "execution_count": 16,
   "metadata": {
    "colab": {
     "base_uri": "https://localhost:8080/"
    },
    "id": "3om5b7ViaZ0_",
    "outputId": "4840f409-cdd0-423e-ada8-5fc4ad97c4c4"
   },
   "outputs": [
    {
     "name": "stdout",
     "output_type": "stream",
     "text": [
      "Requirement already satisfied: caimcaim in /home/rakinrkz/anaconda3/envs/thesis0/lib/python3.11/site-packages (0.3)\n",
      "Requirement already satisfied: pandas in /home/rakinrkz/anaconda3/envs/thesis0/lib/python3.11/site-packages (2.1.4)\n",
      "Requirement already satisfied: scikit-learn in /home/rakinrkz/anaconda3/envs/thesis0/lib/python3.11/site-packages (1.3.2)\n",
      "Requirement already satisfied: xgboost in /home/rakinrkz/anaconda3/envs/thesis0/lib/python3.11/site-packages (2.0.2)\n",
      "Requirement already satisfied: numpy in /home/rakinrkz/anaconda3/envs/thesis0/lib/python3.11/site-packages (from caimcaim) (1.26.2)\n",
      "Requirement already satisfied: sklearn in /home/rakinrkz/anaconda3/envs/thesis0/lib/python3.11/site-packages (from caimcaim) (0.0.post12)\n",
      "Requirement already satisfied: python-dateutil>=2.8.2 in /home/rakinrkz/anaconda3/envs/thesis0/lib/python3.11/site-packages (from pandas) (2.8.2)\n",
      "Requirement already satisfied: pytz>=2020.1 in /home/rakinrkz/anaconda3/envs/thesis0/lib/python3.11/site-packages (from pandas) (2023.3.post1)\n",
      "Requirement already satisfied: tzdata>=2022.1 in /home/rakinrkz/anaconda3/envs/thesis0/lib/python3.11/site-packages (from pandas) (2023.3)\n",
      "Requirement already satisfied: scipy>=1.5.0 in /home/rakinrkz/anaconda3/envs/thesis0/lib/python3.11/site-packages (from scikit-learn) (1.11.4)\n",
      "Requirement already satisfied: joblib>=1.1.1 in /home/rakinrkz/anaconda3/envs/thesis0/lib/python3.11/site-packages (from scikit-learn) (1.3.2)\n",
      "Requirement already satisfied: threadpoolctl>=2.0.0 in /home/rakinrkz/anaconda3/envs/thesis0/lib/python3.11/site-packages (from scikit-learn) (3.2.0)\n",
      "Requirement already satisfied: six>=1.5 in /home/rakinrkz/anaconda3/envs/thesis0/lib/python3.11/site-packages (from python-dateutil>=2.8.2->pandas) (1.16.0)\n",
      "Note: you may need to restart the kernel to use updated packages.\n"
     ]
    }
   ],
   "source": [
    "%pip install pandas scikit-learn xgboost"
   ]
  },
  {
   "cell_type": "code",
   "execution_count": 17,
   "metadata": {
    "colab": {
     "base_uri": "https://localhost:8080/",
     "height": 356
    },
    "id": "J9pec9xsYESA",
    "outputId": "940341e9-2204-43e7-af39-967448623870"
   },
   "outputs": [],
   "source": [
    "import pandas as pd\n",
    "from caim import CAIMD\n",
    "import time"
   ]
  },
  {
   "cell_type": "code",
   "execution_count": 18,
   "metadata": {},
   "outputs": [
    {
     "name": "stdout",
     "output_type": "stream",
     "text": [
      "../datasets/movement_libras.csv\n"
     ]
    }
   ],
   "source": [
    "datasetFileName = 'movement_libras.csv'     #need to edit this depending on dataset file\n",
    "location = '../datasets/' + datasetFileName \n",
    "print(location)"
   ]
  },
  {
   "cell_type": "code",
   "execution_count": 19,
   "metadata": {
    "id": "-e0ni8-KZcQH"
   },
   "outputs": [
    {
     "name": "stdout",
     "output_type": "stream",
     "text": [
      "       a01      a02      a03      a04      a05      a06      a07      a08  \\\n",
      "0  0.79691  0.38194  0.79691  0.37731  0.79884  0.37731  0.79497  0.37731   \n",
      "1  0.67892  0.27315  0.68085  0.27315  0.68085  0.27315  0.68085  0.27315   \n",
      "2  0.72147  0.23611  0.72340  0.23611  0.72340  0.23611  0.72340  0.23611   \n",
      "3  0.56480  0.32407  0.56286  0.32407  0.56093  0.32407  0.55899  0.32407   \n",
      "4  0.67118  0.38426  0.67118  0.38657  0.67311  0.38657  0.67311  0.38426   \n",
      "\n",
      "       a09      a10  ...      a82      a83      a84      a85      a86  \\\n",
      "0  0.77563  0.35417  ...  0.51389  0.39845  0.42593  0.47389  0.36111   \n",
      "1  0.67892  0.26852  ...  0.57407  0.17795  0.63657  0.17215  0.67361   \n",
      "2  0.72340  0.23611  ...  0.30556  0.59768  0.25926  0.67118  0.25231   \n",
      "3  0.55899  0.32407  ...  0.49074  0.26306  0.42361  0.33269  0.34722   \n",
      "4  0.67311  0.37963  ...  0.76389  0.44101  0.64120  0.45068  0.54167   \n",
      "\n",
      "       a87      a88      a89      a90  class  \n",
      "0  0.55899  0.31250  0.63830  0.29398      1  \n",
      "1  0.17021  0.69213  0.17215  0.69213      1  \n",
      "2  0.73501  0.26620  0.78143  0.27778      1  \n",
      "3  0.41006  0.28009  0.49130  0.24306      1  \n",
      "4  0.47776  0.44213  0.53191  0.34259      1  \n",
      "\n",
      "[5 rows x 91 columns]\n",
      "(360, 91)\n"
     ]
    }
   ],
   "source": [
    "main_data = pd.read_csv(location)\n",
    "clear_output()\n",
    "print(main_data.head())\n",
    "print(main_data.shape)"
   ]
  },
  {
   "cell_type": "code",
   "execution_count": 20,
   "metadata": {},
   "outputs": [],
   "source": [
    "class_column = 'class' #might need to edit this depending on dataset's target or class' name"
   ]
  },
  {
   "cell_type": "code",
   "execution_count": 21,
   "metadata": {
    "id": "4j-hlntbZfoW"
   },
   "outputs": [],
   "source": [
    "feature_list = main_data\n",
    "feature_list =  feature_list.drop(class_column, axis=1)\n",
    "feature_list = feature_list.columns\n",
    "\n",
    "x = main_data[feature_list]\n",
    "y = main_data[class_column]\n",
    "\n",
    "feature_list = main_data.columns"
   ]
  },
  {
   "cell_type": "code",
   "execution_count": 22,
   "metadata": {
    "id": "IeDFXSSVZnt_"
   },
   "outputs": [
    {
     "name": "stdout",
     "output_type": "stream",
     "text": [
      "Categorical []\n",
      "# 3  GLOBAL CAIM  3.039055424713319\n",
      "Processed 1 out of 90 features.\n",
      "# 9  GLOBAL CAIM  3.1611434437715986\n",
      "Processed 2 out of 90 features.\n",
      "# 11  GLOBAL CAIM  3.170265148207688\n",
      "Processed 3 out of 90 features.\n",
      "# 5  GLOBAL CAIM  3.168634439048527\n",
      "Processed 4 out of 90 features.\n",
      "# 1  GLOBAL CAIM  3.053189162442313\n",
      "Processed 5 out of 90 features.\n",
      "# 7  GLOBAL CAIM  3.1448212249378815\n",
      "Processed 6 out of 90 features.\n",
      "# 0  GLOBAL CAIM  3.099337033337034\n",
      "Processed 7 out of 90 features.\n",
      "# 10  GLOBAL CAIM  2.944838045884298\n",
      "Processed 8 out of 90 features.\n",
      "# 4  GLOBAL CAIM  3.0788473323283445\n",
      "Processed 9 out of 90 features.\n",
      "# 2  GLOBAL CAIM  3.0985707829678764\n",
      "Processed 10 out of 90 features.\n",
      "# 6  GLOBAL CAIM  3.1046515218057444\n",
      "Processed 11 out of 90 features.\n",
      "# 8  GLOBAL CAIM  2.8765674261013827\n",
      "Processed 12 out of 90 features.\n",
      "# 13  GLOBAL CAIM  2.808602549198366\n",
      "Processed 13 out of 90 features.\n",
      "# 17  GLOBAL CAIM  2.8535330166909114\n",
      "Processed 14 out of 90 features.\n",
      "# 15  GLOBAL CAIM  2.7197333523652136\n",
      "Processed 15 out of 90 features.\n",
      "# 14  GLOBAL CAIM  3.091783277638541\n",
      "Processed 16 out of 90 features.\n",
      "# 19  GLOBAL CAIM  2.995104532720541\n",
      "Processed 17 out of 90 features.\n",
      "# 16  GLOBAL CAIM  3.010089527667764\n",
      "Processed 18 out of 90 features.\n",
      "# 23  GLOBAL CAIM  3.001620414673047\n",
      "Processed 19 out of 90 features.\n",
      "# 21  GLOBAL CAIM  2.8338801063280328\n",
      "Processed 20 out of 90 features.\n",
      "# 12  GLOBAL CAIM  2.9326205657021402\n",
      "Processed 21 out of 90 features.\n",
      "# 18  GLOBAL CAIM  2.532762871039445\n",
      "Processed 22 out of 90 features.\n",
      "# 20  GLOBAL CAIM  2.2286447377646876\n",
      "Processed 23 out of 90 features.\n",
      "# 22  GLOBAL CAIM  2.30359473226978\n",
      "Processed 24 out of 90 features.\n",
      "# 27  GLOBAL CAIM  2.8715550236480474\n",
      "Processed 25 out of 90 features.\n",
      "# 31  GLOBAL CAIM  2.6724931303615036\n",
      "Processed 26 out of 90 features.\n",
      "# 25  GLOBAL CAIM  2.946860979011035\n",
      "Processed 27 out of 90 features.\n",
      "# 29  GLOBAL CAIM  2.77078905805143\n",
      "Processed 28 out of 90 features.\n",
      "# 33  GLOBAL CAIM  2.5651264150116733\n",
      "Processed 29 out of 90 features.\n",
      "# 24  GLOBAL CAIM  2.4173194310469706\n",
      "Processed 30 out of 90 features.\n",
      "# 35  GLOBAL CAIM  2.6220427243657736\n",
      "Processed 31 out of 90 features.\n",
      "# 26  GLOBAL CAIM  2.413292238080435\n",
      "Processed 32 out of 90 features.\n",
      "# 28  GLOBAL CAIM  2.2661348206560974\n",
      "Processed 33 out of 90 features.\n",
      "# 32  GLOBAL CAIM  2.321729542281785\n",
      "Processed 34 out of 90 features.\n",
      "# 30  GLOBAL CAIM  2.3481824883063274\n",
      "Processed 35 out of 90 features.\n",
      "# 34  GLOBAL CAIM  2.253620499246511\n",
      "Processed 36 out of 90 features.\n",
      "# 37  GLOBAL CAIM  2.3518019501082086\n",
      "Processed 37 out of 90 features.\n",
      "# 39  GLOBAL CAIM  2.6058502935826566\n",
      "Processed 38 out of 90 features.\n",
      "# 38  GLOBAL CAIM  1.9262596286444424\n",
      "Processed 39 out of 90 features.\n",
      "# 41  GLOBAL CAIM  2.390242966698446\n",
      "Processed 40 out of 90 features.\n",
      "# 36  GLOBAL CAIM  1.8282235325879392\n",
      "Processed 41 out of 90 features.\n",
      "# 43  GLOBAL CAIM  2.020143978783641\n",
      "Processed 42 out of 90 features.\n",
      "# 47  GLOBAL CAIM  2.7287970282405767\n",
      "Processed 43 out of 90 features.\n",
      "# 45  GLOBAL CAIM  2.272795048170988\n",
      "Processed 44 out of 90 features.\n",
      "# 40  GLOBAL CAIM  2.1519042688645635\n",
      "Processed 45 out of 90 features.\n",
      "# 42  GLOBAL CAIM  1.972480008615375\n",
      "Processed 46 out of 90 features.\n",
      "# 46  GLOBAL CAIM  2.35772815229987\n",
      "Processed 47 out of 90 features.\n",
      "# 44  GLOBAL CAIM  2.4591779199241883\n",
      "Processed 48 out of 90 features.\n",
      "# 49  GLOBAL CAIM  2.6270829793170303\n",
      "Processed 49 out of 90 features.\n",
      "# 51  GLOBAL CAIM  2.73409700293321\n",
      "Processed 50 out of 90 features.\n",
      "# 53  GLOBAL CAIM  2.8083974654024364\n",
      "Processed 51 out of 90 features.\n",
      "# 55  GLOBAL CAIM  3.1320139685673407\n",
      "Processed 52 out of 90 features.\n",
      "# 48  GLOBAL CAIM  2.3779793241133698\n",
      "Processed 53 out of 90 features.\n",
      "# 57  GLOBAL CAIM  2.9903547826907593\n",
      "Processed 54 out of 90 features.\n",
      "# 52  GLOBAL CAIM  2.333014826337875\n",
      "Processed 55 out of 90 features.\n",
      "# 50  GLOBAL CAIM  2.4751017541549896\n",
      "Processed 56 out of 90 features.\n",
      "# 54  GLOBAL CAIM  2.262609874009829\n",
      "Processed 57 out of 90 features.\n",
      "# 59  GLOBAL CAIM  3.0343800889127865\n",
      "Processed 58 out of 90 features.\n",
      "# 58  GLOBAL CAIM  2.3733842475126634\n",
      "Processed 59 out of 90 features.\n",
      "# 56  GLOBAL CAIM  2.4562724728554475\n",
      "Processed 60 out of 90 features.\n",
      "# 61  GLOBAL CAIM  2.420259886189173\n",
      "Processed 61 out of 90 features.\n",
      "# 60  GLOBAL CAIM  2.391931216931217\n",
      "Processed 62 out of 90 features.\n",
      "# 63  GLOBAL CAIM  1.962609816653934\n",
      "Processed 63 out of 90 features.\n",
      "# 62  GLOBAL CAIM  2.0426133260982438\n",
      "Processed 64 out of 90 features.\n",
      "# 65  GLOBAL CAIM  2.4540574279957355\n",
      "Processed 65 out of 90 features.\n",
      "# 67  GLOBAL CAIM  2.4529990634042096\n",
      "Processed 66 out of 90 features.\n",
      "# 71  GLOBAL CAIM  2.2324284652545523\n",
      "Processed 67 out of 90 features.\n",
      "# 69  GLOBAL CAIM  2.4689422000978665\n",
      "Processed 68 out of 90 features.\n",
      "# 66  GLOBAL CAIM  2.491374203579538\n",
      "Processed 69 out of 90 features.\n",
      "# 64  GLOBAL CAIM  2.057389221422835\n",
      "Processed 70 out of 90 features.\n",
      "# 68  GLOBAL CAIM  2.1966741666741667\n",
      "Processed 71 out of 90 features.\n",
      "# 70  GLOBAL CAIM  2.1555384355959073\n",
      "Processed 72 out of 90 features.\n",
      "# 77  GLOBAL CAIM  2.5563906381018575\n",
      "Processed 73 out of 90 features.\n",
      "# 75  GLOBAL CAIM  2.6093081694819937\n",
      "Processed 74 out of 90 features.\n",
      "# 73  GLOBAL CAIM  2.714967698967699\n",
      "Processed 75 out of 90 features.\n",
      "# 72  GLOBAL CAIM  2.157184565100478\n",
      "Processed 76 out of 90 features.\n",
      "# 74  GLOBAL CAIM  2.4059386248193513\n",
      "Processed 77 out of 90 features.\n",
      "# 76  GLOBAL CAIM  2.2524121105232218\n",
      "Processed 78 out of 90 features.\n",
      "# 79  GLOBAL CAIM  2.7033926480160475\n",
      "Processed 79 out of 90 features.\n",
      "# 81  GLOBAL CAIM  2.8557050432769677\n",
      "Processed 80 out of 90 features.\n",
      "# 80  GLOBAL CAIM  2.3787717496563077\n",
      "Processed 81 out of 90 features.\n",
      "# 78  GLOBAL CAIM  2.373844616147987\n",
      "Processed 82 out of 90 features.\n",
      "# 83  GLOBAL CAIM  2.8810117561512203\n",
      "Processed 83 out of 90 features.\n",
      "# 82  GLOBAL CAIM  2.6064642462685432\n",
      "Processed 84 out of 90 features.\n",
      "# 85  GLOBAL CAIM  2.842400189408914\n",
      "Processed 85 out of 90 features.\n",
      "# 84  GLOBAL CAIM  2.5670659468248034\n",
      "Processed 86 out of 90 features.\n",
      "# 86  GLOBAL CAIM  2.53975385368491\n",
      "Processed 87 out of 90 features.\n",
      "# 87  GLOBAL CAIM  2.8210576882945606\n",
      "Processed 88 out of 90 features.\n",
      "# 89  GLOBAL CAIM  2.9584564726054086\n",
      "Processed 89 out of 90 features.\n",
      "# 88  GLOBAL CAIM  2.5659542204346124\n",
      "Processed 90 out of 90 features.\n"
     ]
    }
   ],
   "source": [
    "caim = CAIMD()\n",
    "\n",
    "x_disc = caim.fit_transform(x, y)"
   ]
  },
  {
   "cell_type": "code",
   "execution_count": 23,
   "metadata": {
    "id": "j4Cmd5OjZqcn"
   },
   "outputs": [
    {
     "name": "stdout",
     "output_type": "stream",
     "text": [
      "(360, 91)\n"
     ]
    }
   ],
   "source": [
    "data = x_disc\n",
    "data[class_column] = y \n",
    "print(data.shape)"
   ]
  },
  {
   "cell_type": "code",
   "execution_count": 24,
   "metadata": {},
   "outputs": [],
   "source": [
    "data.to_csv(f'../datasets/{datasetFileName}_discretized.csv', index=False)"
   ]
  }
 ],
 "metadata": {
  "accelerator": "GPU",
  "colab": {
   "provenance": []
  },
  "gpuClass": "standard",
  "kernelspec": {
   "display_name": "Python 3 (ipykernel)",
   "language": "python",
   "name": "python3"
  },
  "language_info": {
   "codemirror_mode": {
    "name": "ipython",
    "version": 3
   },
   "file_extension": ".py",
   "mimetype": "text/x-python",
   "name": "python",
   "nbconvert_exporter": "python",
   "pygments_lexer": "ipython3",
   "version": "3.11.5"
  }
 },
 "nbformat": 4,
 "nbformat_minor": 1
}
