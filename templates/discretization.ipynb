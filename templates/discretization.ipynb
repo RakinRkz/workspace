{
 "cells": [
  {
   "cell_type": "code",
   "execution_count": 25,
   "metadata": {
    "colab": {
     "base_uri": "https://localhost:8080/"
    },
    "id": "3om5b7ViaZ0_",
    "outputId": "4840f409-cdd0-423e-ada8-5fc4ad97c4c4"
   },
   "outputs": [
    {
     "name": "stdout",
     "output_type": "stream",
     "text": [
      "Requirement already satisfied: pandas in /home/rakinrkz/anaconda3/envs/thesis0/lib/python3.11/site-packages (2.1.4)\n",
      "Requirement already satisfied: scikit-learn in /home/rakinrkz/anaconda3/envs/thesis0/lib/python3.11/site-packages (1.3.2)\n",
      "Requirement already satisfied: xgboost in /home/rakinrkz/anaconda3/envs/thesis0/lib/python3.11/site-packages (2.0.2)\n",
      "Requirement already satisfied: numpy<2,>=1.23.2 in /home/rakinrkz/anaconda3/envs/thesis0/lib/python3.11/site-packages (from pandas) (1.26.2)\n",
      "Requirement already satisfied: python-dateutil>=2.8.2 in /home/rakinrkz/anaconda3/envs/thesis0/lib/python3.11/site-packages (from pandas) (2.8.2)\n",
      "Requirement already satisfied: pytz>=2020.1 in /home/rakinrkz/anaconda3/envs/thesis0/lib/python3.11/site-packages (from pandas) (2023.3.post1)\n",
      "Requirement already satisfied: tzdata>=2022.1 in /home/rakinrkz/anaconda3/envs/thesis0/lib/python3.11/site-packages (from pandas) (2023.3)\n",
      "Requirement already satisfied: scipy>=1.5.0 in /home/rakinrkz/anaconda3/envs/thesis0/lib/python3.11/site-packages (from scikit-learn) (1.11.4)\n",
      "Requirement already satisfied: joblib>=1.1.1 in /home/rakinrkz/anaconda3/envs/thesis0/lib/python3.11/site-packages (from scikit-learn) (1.3.2)\n",
      "Requirement already satisfied: threadpoolctl>=2.0.0 in /home/rakinrkz/anaconda3/envs/thesis0/lib/python3.11/site-packages (from scikit-learn) (3.2.0)\n",
      "Requirement already satisfied: six>=1.5 in /home/rakinrkz/anaconda3/envs/thesis0/lib/python3.11/site-packages (from python-dateutil>=2.8.2->pandas) (1.16.0)\n",
      "Note: you may need to restart the kernel to use updated packages.\n"
     ]
    }
   ],
   "source": [
    "%pip install pandas scikit-learn xgboost"
   ]
  },
  {
   "cell_type": "code",
   "execution_count": 26,
   "metadata": {
    "colab": {
     "base_uri": "https://localhost:8080/",
     "height": 356
    },
    "id": "J9pec9xsYESA",
    "outputId": "940341e9-2204-43e7-af39-967448623870"
   },
   "outputs": [],
   "source": [
    "import pandas as pd\n",
    "from caim import CAIMD\n",
    "import time"
   ]
  },
  {
   "cell_type": "code",
   "execution_count": 33,
   "metadata": {},
   "outputs": [
    {
     "name": "stdout",
     "output_type": "stream",
     "text": [
      "../datasets/ionosphere_csv.csv\n"
     ]
    }
   ],
   "source": [
    "datasetFileName = 'ionosphere_csv.csv'     #need to edit this depending on dataset file\n",
    "location = '../datasets/' + datasetFileName \n",
    "print(location)"
   ]
  },
  {
   "cell_type": "code",
   "execution_count": 34,
   "metadata": {
    "id": "-e0ni8-KZcQH"
   },
   "outputs": [
    {
     "name": "stdout",
     "output_type": "stream",
     "text": [
      "   a01  a02      a03      a04      a05      a06      a07      a08      a09  \\\n",
      "0    1    0  0.99539 -0.05889  0.85243  0.02306  0.83398 -0.37708  1.00000   \n",
      "1    1    0  1.00000 -0.18829  0.93035 -0.36156 -0.10868 -0.93597  1.00000   \n",
      "2    1    0  1.00000 -0.03365  1.00000  0.00485  1.00000 -0.12062  0.88965   \n",
      "3    1    0  1.00000 -0.45161  1.00000  1.00000  0.71216 -1.00000  0.00000   \n",
      "4    1    0  1.00000 -0.02401  0.94140  0.06531  0.92106 -0.23255  0.77152   \n",
      "\n",
      "       a10  ...      a26      a27      a28      a29      a30      a31  \\\n",
      "0  0.03760  ... -0.51171  0.41078 -0.46168  0.21266 -0.34090  0.42267   \n",
      "1 -0.04549  ... -0.26569 -0.20468 -0.18401 -0.19040 -0.11593 -0.16626   \n",
      "2  0.01198  ... -0.40220  0.58984 -0.22145  0.43100 -0.17365  0.60436   \n",
      "3  0.00000  ...  0.90695  0.51613  1.00000  1.00000 -0.20099  0.25682   \n",
      "4 -0.16399  ... -0.65158  0.13290 -0.53206  0.02431 -0.62197 -0.05707   \n",
      "\n",
      "       a32      a33      a34  class  \n",
      "0 -0.54487  0.18641 -0.45300      g  \n",
      "1 -0.06288 -0.13738 -0.02447      b  \n",
      "2 -0.24180  0.56045 -0.38238      g  \n",
      "3  1.00000 -0.32382  1.00000      b  \n",
      "4 -0.59573 -0.04608 -0.65697      g  \n",
      "\n",
      "[5 rows x 35 columns]\n",
      "(351, 35)\n"
     ]
    }
   ],
   "source": [
    "main_data = pd.read_csv(location)\n",
    "clear_output()\n",
    "print(main_data.head())\n",
    "print(main_data.shape)"
   ]
  },
  {
   "cell_type": "code",
   "execution_count": 35,
   "metadata": {},
   "outputs": [],
   "source": [
    "class_column = 'class' #might need to edit this depending on dataset's target or class' name"
   ]
  },
  {
   "cell_type": "code",
   "execution_count": 36,
   "metadata": {
    "id": "4j-hlntbZfoW"
   },
   "outputs": [],
   "source": [
    "feature_list = main_data\n",
    "feature_list =  feature_list.drop(class_column, axis=1)\n",
    "feature_list = feature_list.columns\n",
    "\n",
    "x = main_data[feature_list]\n",
    "y = main_data[class_column]\n",
    "\n",
    "feature_list = main_data.columns"
   ]
  },
  {
   "cell_type": "code",
   "execution_count": 37,
   "metadata": {
    "id": "IeDFXSSVZnt_"
   },
   "outputs": [
    {
     "name": "stdout",
     "output_type": "stream",
     "text": [
      "Categorical [0, 1]\n",
      "# 4  GLOBAL CAIM  123.72980851265523\n",
      "Processed 1 out of 34 features.\n",
      "# 2  GLOBAL CAIM  116.98453608247424\n",
      "Processed 2 out of 34 features.\n",
      "# 5  GLOBAL CAIM  90.17261904761905\n",
      "Processed 3 out of 34 features.\n",
      "# 8  GLOBAL CAIM  90.6\n",
      "Processed 4 out of 34 features.\n",
      "# 10  GLOBAL CAIM  81.51601185161134\n",
      "Processed 5 out of 34 features.\n",
      "# 12  GLOBAL CAIM  84.79589216944801\n",
      "Processed 6 out of 34 features.\n",
      "# 6  GLOBAL CAIM  118.01997966446365\n",
      "Processed 7 out of 34 features.\n",
      "# 7  GLOBAL CAIM  91.74761904761905\n",
      "Processed 8 out of 34 features.\n",
      "# 3  GLOBAL CAIM  93.35357142857143\n",
      "Processed 9 out of 34 features.\n",
      "# 11  GLOBAL CAIM  86.27804642166345\n",
      "Processed 10 out of 34 features.\n",
      "# 13  GLOBAL CAIM  94.4082332761578\n",
      "Processed 11 out of 34 features.\n",
      "# 9  GLOBAL CAIM  85.89097744360902\n",
      "Processed 12 out of 34 features.\n",
      "# 15  GLOBAL CAIM  88.47705521472393\n",
      "Processed 13 out of 34 features.\n",
      "# 14  GLOBAL CAIM  90.02526025719534\n",
      "Processed 14 out of 34 features.\n",
      "# 18  GLOBAL CAIM  80.12441282122133\n",
      "Processed 15 out of 34 features.\n",
      "# 16  GLOBAL CAIM  78.28976085442304\n",
      "Processed 16 out of 34 features.\n",
      "# 17  GLOBAL CAIM  93.11024844720497\n",
      "Processed 17 out of 34 features.\n",
      "# 21  GLOBAL CAIM  89.65141129032257\n",
      "Processed 18 out of 34 features.\n",
      "# 19  GLOBAL CAIM  89.78790961662027\n",
      "Processed 19 out of 34 features.\n",
      "# 20  GLOBAL CAIM  91.1835305105853\n",
      "Processed 20 out of 34 features.\n",
      "# 22  GLOBAL CAIM  87.01923076923077\n",
      "Processed 21 out of 34 features.\n",
      "# 23  GLOBAL CAIM  90.38827390282131\n",
      "Processed 22 out of 34 features.\n",
      "# 25  GLOBAL CAIM  88.80329153605015\n",
      "Processed 23 out of 34 features.\n",
      "# 26  GLOBAL CAIM  117.40509419287937\n",
      "Processed 24 out of 34 features.\n",
      "# 24  GLOBAL CAIM  85.09328555262167\n",
      "Processed 25 out of 34 features.\n",
      "# 28  GLOBAL CAIM  97.40587044534412\n",
      "Processed 26 out of 34 features.\n",
      "# 30  GLOBAL CAIM  97.71570066030813\n",
      "Processed 27 out of 34 features.\n",
      "# 27  GLOBAL CAIM  98.7568450039339\n",
      "Processed 28 out of 34 features.\n",
      "# 33  GLOBAL CAIM  83.72950920245398\n",
      "Processed 29 out of 34 features.\n",
      "# 32  GLOBAL CAIM  98.46794871794872\n",
      "Processed 30 out of 34 features.\n",
      "# 31  GLOBAL CAIM  87.25269396551725\n",
      "Processed 31 out of 34 features.\n",
      "# 29  GLOBAL CAIM  83.59429213964447\n",
      "Processed 32 out of 34 features.\n"
     ]
    }
   ],
   "source": [
    "caim = CAIMD()\n",
    "\n",
    "x_disc = caim.fit_transform(x, y)"
   ]
  },
  {
   "cell_type": "code",
   "execution_count": 38,
   "metadata": {
    "id": "j4Cmd5OjZqcn"
   },
   "outputs": [
    {
     "name": "stdout",
     "output_type": "stream",
     "text": [
      "(351, 35)\n"
     ]
    }
   ],
   "source": [
    "data = x_disc\n",
    "data[class_column] = y \n",
    "print(data.shape)"
   ]
  },
  {
   "cell_type": "code",
   "execution_count": 39,
   "metadata": {},
   "outputs": [],
   "source": [
    "data.to_csv(f'../datasets/{datasetFileName.split('.')[0]}_discretized.csv', index=False)"
   ]
  }
 ],
 "metadata": {
  "accelerator": "GPU",
  "colab": {
   "provenance": []
  },
  "gpuClass": "standard",
  "kernelspec": {
   "display_name": "Python 3 (ipykernel)",
   "language": "python",
   "name": "python3"
  },
  "language_info": {
   "codemirror_mode": {
    "name": "ipython",
    "version": 3
   },
   "file_extension": ".py",
   "mimetype": "text/x-python",
   "name": "python",
   "nbconvert_exporter": "python",
   "pygments_lexer": "ipython3",
   "version": "3.11.5"
  }
 },
 "nbformat": 4,
 "nbformat_minor": 1
}
