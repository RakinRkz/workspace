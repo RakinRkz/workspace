{
 "cells": [
  {
   "cell_type": "code",
   "execution_count": 1,
   "metadata": {
    "colab": {
     "base_uri": "https://localhost:8080/"
    },
    "id": "3om5b7ViaZ0_",
    "outputId": "4840f409-cdd0-423e-ada8-5fc4ad97c4c4"
   },
   "outputs": [
    {
     "name": "stdout",
     "output_type": "stream",
     "text": [
      "Looking in indexes: https://pypi.org/simple, https://pypi.ngc.nvidia.com\n",
      "Requirement already satisfied: caimcaim in ./lib/python3.10/site-packages (0.3)\n",
      "Requirement already satisfied: pandas in ./lib/python3.10/site-packages (2.0.2)\n",
      "Requirement already satisfied: scikit-learn in ./lib/python3.10/site-packages (1.2.2)\n",
      "Requirement already satisfied: xgboost in ./lib/python3.10/site-packages (1.7.5)\n",
      "Requirement already satisfied: numpy in ./lib/python3.10/site-packages (from caimcaim) (1.24.3)\n",
      "Requirement already satisfied: sklearn in ./lib/python3.10/site-packages (from caimcaim) (0.0.post5)\n",
      "Requirement already satisfied: python-dateutil>=2.8.2 in ./lib/python3.10/site-packages (from pandas) (2.8.2)\n",
      "Requirement already satisfied: pytz>=2020.1 in ./lib/python3.10/site-packages (from pandas) (2023.3)\n",
      "Requirement already satisfied: tzdata>=2022.1 in ./lib/python3.10/site-packages (from pandas) (2023.3)\n",
      "Requirement already satisfied: scipy>=1.3.2 in ./lib/python3.10/site-packages (from scikit-learn) (1.10.1)\n",
      "Requirement already satisfied: joblib>=1.1.1 in ./lib/python3.10/site-packages (from scikit-learn) (1.2.0)\n",
      "Requirement already satisfied: threadpoolctl>=2.0.0 in ./lib/python3.10/site-packages (from scikit-learn) (3.1.0)\n",
      "Requirement already satisfied: six>=1.5 in ./lib/python3.10/site-packages (from python-dateutil>=2.8.2->pandas) (1.16.0)\n",
      "Note: you may need to restart the kernel to use updated packages.\n"
     ]
    }
   ],
   "source": [
    "%pip install caimcaim pandas scikit-learn xgboost"
   ]
  },
  {
   "cell_type": "code",
   "execution_count": 2,
   "metadata": {
    "colab": {
     "base_uri": "https://localhost:8080/",
     "height": 356
    },
    "id": "J9pec9xsYESA",
    "outputId": "940341e9-2204-43e7-af39-967448623870"
   },
   "outputs": [],
   "source": [
    "import pandas as pd \n",
    "from IPython.display import  clear_output\n",
    "import numpy as np\n",
    "from sklearn.ensemble import RandomForestClassifier\n",
    "from sklearn.model_selection import train_test_split \n",
    "from sklearn.feature_selection import SelectKBest\n",
    "from sklearn.feature_selection import mutual_info_classif\n",
    "import math\n",
    "from collections import defaultdict\n",
    "from sklearn.metrics import accuracy_score\n",
    "from scipy.io import loadmat\n",
    "from sklearn.neighbors import KNeighborsClassifier\n",
    "from sklearn.tree import DecisionTreeClassifier\n",
    "from sklearn.svm import SVC\n",
    "from sklearn.naive_bayes import GaussianNB\n",
    "from xgboost import XGBClassifier\n",
    "from sklearn.model_selection import GridSearchCV\n",
    "from sklearn.model_selection import cross_validate\n",
    "from caimcaim import CAIMD\n",
    "import time"
   ]
  },
  {
   "cell_type": "code",
   "execution_count": 3,
   "metadata": {
    "id": "CKNVGHWvYKlA"
   },
   "outputs": [],
   "source": [
    "def entropy(X):\n",
    "    unique, count = np.unique(X, return_counts=True, axis=0)\n",
    "    prob = count / len(X)\n",
    "    en = np.sum((-1) * prob * np.log2(prob))\n",
    "    return en"
   ]
  },
  {
   "cell_type": "code",
   "execution_count": 4,
   "metadata": {
    "id": "rlocyhjyYQ5v"
   },
   "outputs": [],
   "source": [
    "# Joint Entropy H(x,y)\n",
    "def joint_entropy(X, Y):\n",
    "    XY = np.c_[X, Y] \n",
    "    return entropy(XY)\n"
   ]
  },
  {
   "cell_type": "code",
   "execution_count": 5,
   "metadata": {
    "id": "Y5LDDEaBYTu_"
   },
   "outputs": [],
   "source": [
    "# Joint Entropy H(x,y,z)\n",
    "def joint_entropy_3(X, Y, Z):\n",
    "    XYZ = np.c_[X, Y, Z]\n",
    "    return entropy(XYZ)"
   ]
  },
  {
   "cell_type": "code",
   "execution_count": 6,
   "metadata": {
    "id": "qsMtrpWrYe0v"
   },
   "outputs": [],
   "source": [
    "# Conditional Entropy X given Y; H(x|y)\n",
    "def conditional_entropy(X, Y):\n",
    "    return joint_entropy(X, Y) - entropy(Y)"
   ]
  },
  {
   "cell_type": "code",
   "execution_count": 7,
   "metadata": {
    "id": "VvR1xpSjYh4N"
   },
   "outputs": [],
   "source": [
    "def ret_joint_entropy3(x,y):\n",
    "    if(x<y):\n",
    "        return joint_entropy_list3[x][y]\n",
    "    else:\n",
    "        return joint_entropy_list3[y][x]"
   ]
  },
  {
   "cell_type": "code",
   "execution_count": 8,
   "metadata": {
    "id": "WXeUgwjYYlkX"
   },
   "outputs": [],
   "source": [
    "\n",
    "def ret_joint_entropy(x,y):\n",
    "    if(x<y):\n",
    "        return joint_entropy_list[x][y]\n",
    "    else:\n",
    "        return joint_entropy_list[y][x]"
   ]
  },
  {
   "cell_type": "code",
   "execution_count": 9,
   "metadata": {
    "id": "1Zh4WodeYoSO"
   },
   "outputs": [],
   "source": [
    "#### H(x,y|z)\n",
    "def conditional_join_entropy(x, y, z):\n",
    "    if x == length - 1:\n",
    "        return ret_joint_entropy3(y, z) - entropy_list[z];\n",
    "    elif y == length - 1:\n",
    "        return ret_joint_entropy3(x, z) - entropy_list[z];\n",
    "    else:\n",
    "        return ret_joint_entropy3(x, y) - entropy_list[z];"
   ]
  },
  {
   "cell_type": "code",
   "execution_count": 10,
   "metadata": {
    "id": "ToY-jidjYr13"
   },
   "outputs": [],
   "source": [
    "##### I(x,y)\n",
    "def get_mutual_info(x, y):\n",
    "    return entropy_list[x] + entropy_list[y] - ret_joint_entropy(x, y);"
   ]
  },
  {
   "cell_type": "code",
   "execution_count": 11,
   "metadata": {
    "id": "01Jm-Y1vYxP2"
   },
   "outputs": [],
   "source": [
    "########## I(x,y|z)\n",
    "def conditional_mutual_info(x, y, z):\n",
    "    cxz = ret_joint_entropy(x, z)-entropy_list[z];\n",
    "    cyz = ret_joint_entropy(y, z)-entropy_list[z];\n",
    "    return cxz + cyz - conditional_join_entropy(x, y, z)\n"
   ]
  },
  {
   "cell_type": "code",
   "execution_count": 12,
   "metadata": {
    "id": "2CH2HqKPY3JP"
   },
   "outputs": [],
   "source": [
    "def feature_name(arr):\n",
    "    name = \"{\";\n",
    "    for i in range(len(arr)):\n",
    "        if i > 0:\n",
    "            name = name + \", \";\n",
    "\n",
    "        name = name + feature_list[arr[i]]\n",
    "\n",
    "    name = name + \"}\"\n",
    "    return name"
   ]
  },
  {
   "cell_type": "code",
   "execution_count": 13,
   "metadata": {
    "id": "jdd8RosuY6bI"
   },
   "outputs": [],
   "source": [
    "def feature_array(arr):\n",
    "    name = []\n",
    "    for i in range(len(arr)):\n",
    "        name.append(feature_list[arr[i]])\n",
    "    return name"
   ]
  },
  {
   "cell_type": "code",
   "execution_count": 14,
   "metadata": {
    "id": "1eEHsioDY9DW"
   },
   "outputs": [],
   "source": [
    "def return_corelation(x, y):\n",
    "    size = len(x);\n",
    "    ux = x.sum() / size\n",
    "    uy = y.sum() / size\n",
    "\n",
    "    xmux = x - ux\n",
    "    ymuy = y - uy\n",
    "\n",
    "    xmuxymuy = xmux * ymuy;\n",
    "\n",
    "    cov = xmuxymuy.sum() / (size - 1)\n",
    "\n",
    "    var_x = xmux * xmux\n",
    "    var_x = var_x.sum() / (size - 1)\n",
    "\n",
    "    var_y = ymuy * ymuy\n",
    "    var_y = var_y.sum() / (size - 1)\n",
    "\n",
    "    sd_x = math.sqrt(var_x)\n",
    "    sd_y = math.sqrt(var_y)\n",
    "\n",
    "    co_xy = cov / (sd_x * sd_y)\n",
    "\n",
    "    return co_xy"
   ]
  },
  {
   "cell_type": "code",
   "execution_count": 15,
   "metadata": {
    "id": "nXOR_xGzY_q_"
   },
   "outputs": [],
   "source": [
    "def selection_accurecy_svm(selected_features):\n",
    "    x = data[selected_features];\n",
    "    y = data['class'];\n",
    "\n",
    "    model = SVC(gamma='auto', C=10, kernel='linear')\n",
    "    accuracy = cross_validation(model, x, y)\n",
    "    return accuracy;\n"
   ]
  },
  {
   "cell_type": "code",
   "execution_count": 16,
   "metadata": {
    "id": "PdPLyDP6ZDAY"
   },
   "outputs": [],
   "source": [
    "def selection_accurecy_dt(selected_features):\n",
    "\n",
    "    x = data[selected_features];\n",
    "    y = data['class'];\n",
    "\n",
    "    model = DecisionTreeClassifier(random_state=0)\n",
    "    accuracy = cross_validation(model, x, y)\n",
    "    return accuracy;\n"
   ]
  },
  {
   "cell_type": "code",
   "execution_count": 17,
   "metadata": {
    "id": "LTa5Fjt0ZGMI"
   },
   "outputs": [],
   "source": [
    "def selection_accurecy_KNN(selected_features):\n",
    "\n",
    "  x = data[selected_features];\n",
    "  y = data['class'];\n",
    "\n",
    "  model = KNeighborsClassifier(n_neighbors=3)\n",
    "  accuracy = cross_validation(model, x, y)\n",
    "  return accuracy;\n",
    "\n",
    "  return accuracy_score(y_test, predictions)\n"
   ]
  },
  {
   "cell_type": "code",
   "execution_count": 18,
   "metadata": {
    "id": "7HMoILsjZJbm"
   },
   "outputs": [],
   "source": [
    "def selection_accurecy_nb(selected_features):\n",
    "\n",
    "  x = data[selected_features];\n",
    "  y = data['class'];\n",
    "\n",
    "  model = GaussianNB()\n",
    "\n",
    "  accuracy = cross_validation(model, x, y)\n",
    "  return accuracy;"
   ]
  },
  {
   "cell_type": "code",
   "execution_count": 19,
   "metadata": {
    "id": "ky80lJeBZMtn"
   },
   "outputs": [],
   "source": [
    "def selection_accurecy_xgb(selected_features):\n",
    "    x = data[selected_features];\n",
    "    y = data['class'];\n",
    "\n",
    "    model = XGBClassifier()\n",
    "\n",
    "    accuracy = cross_validation(model, x, y)\n",
    "    return accuracy;"
   ]
  },
  {
   "cell_type": "code",
   "execution_count": 20,
   "metadata": {
    "id": "aA4ZJjbYZQWP"
   },
   "outputs": [],
   "source": [
    "def cross_validation(model, _X, _y):\n",
    "    _scoring = ['accuracy', 'precision', 'recall', 'test_score']\n",
    "    results = cross_validate(estimator=model,\n",
    "                             X=_X,\n",
    "                             y=_y,\n",
    "                             cv=10,\n",
    "                             # scoring=_scoring,\n",
    "                             return_train_score=True)\n",
    "\n",
    "    return results['test_score'].mean() * 100"
   ]
  },
  {
   "cell_type": "code",
   "execution_count": 21,
   "metadata": {
    "id": "FhC5EJsbZTfP"
   },
   "outputs": [],
   "source": [
    "def ret_covariance(x,y):\n",
    "    return covariance_list[x][y]\n"
   ]
  },
  {
   "cell_type": "code",
   "execution_count": 22,
   "metadata": {
    "id": "h_NjrpMSZWuX"
   },
   "outputs": [
    {
     "name": "stdout",
     "output_type": "stream",
     "text": [
      "Load Data RELATHE_discreate\n"
     ]
    }
   ],
   "source": [
    "print(\"Load Data RELATHE_discreate\")"
   ]
  },
  {
   "cell_type": "code",
   "execution_count": 23,
   "metadata": {
    "id": "-e0ni8-KZcQH"
   },
   "outputs": [
    {
     "name": "stdout",
     "output_type": "stream",
     "text": [
      "(9298, 257)\n"
     ]
    }
   ],
   "source": [
    "main_data = pd.read_csv(\"USPS_discreate.csv\")\n",
    "clear_output()\n",
    "print(main_data.shape)"
   ]
  },
  {
   "cell_type": "code",
   "execution_count": 24,
   "metadata": {
    "id": "4j-hlntbZfoW"
   },
   "outputs": [],
   "source": [
    "feature_list = main_data.columns"
   ]
  },
  {
   "cell_type": "code",
   "execution_count": 25,
   "metadata": {
    "id": "X57ML-poZih1"
   },
   "outputs": [],
   "source": [
    "caim = CAIMD()\n",
    "x = main_data[feature_list[:-1]];\n",
    "y = main_data['class'];"
   ]
  },
  {
   "cell_type": "code",
   "execution_count": 26,
   "metadata": {
    "id": "IeDFXSSVZnt_"
   },
   "outputs": [
    {
     "name": "stdout",
     "output_type": "stream",
     "text": [
      "Categorical [0, 1, 2, 3, 4, 5, 6, 7, 8, 9, 10, 11, 12, 13, 14, 15, 16, 17, 18, 19, 20, 21, 22, 23, 24, 25, 26, 27, 28, 29, 30, 31, 32, 33, 34, 35, 36, 37, 38, 39, 40, 41, 42, 43, 44, 45, 46, 47, 48, 49, 50, 51, 52, 53, 54, 55, 56, 57, 58, 59, 60, 61, 62, 63, 64, 65, 66, 67, 68, 69, 70, 71, 72, 73, 74, 75, 76, 77, 78, 79, 80, 81, 82, 83, 84, 85, 86, 87, 88, 89, 90, 91, 92, 93, 94, 95, 96, 97, 98, 99, 100, 101, 102, 103, 104, 105, 106, 107, 108, 109, 110, 111, 112, 113, 114, 115, 116, 117, 118, 119, 120, 121, 122, 123, 124, 125, 126, 127, 128, 129, 130, 131, 132, 133, 134, 135, 136, 137, 138, 139, 140, 141, 142, 143, 144, 145, 146, 147, 148, 149, 150, 151, 152, 153, 154, 155, 156, 157, 158, 159, 160, 161, 162, 163, 164, 165, 166, 167, 168, 169, 170, 171, 172, 173, 174, 175, 176, 177, 178, 179, 180, 181, 182, 183, 184, 185, 186, 187, 188, 189, 190, 191, 192, 193, 194, 195, 196, 197, 198, 199, 200, 201, 202, 203, 204, 205, 206, 207, 208, 209, 210, 211, 212, 213, 214, 215, 216, 217, 218, 219, 220, 221, 222, 223, 224, 225, 226, 227, 228, 229, 230, 231, 232, 233, 234, 235, 236, 237, 238, 239, 240, 241, 242, 243, 244, 245, 246, 247, 248, 249, 250, 251, 252, 253, 254, 255]\n"
     ]
    }
   ],
   "source": [
    "x_disc = caim.fit_transform(x, y)"
   ]
  },
  {
   "cell_type": "code",
   "execution_count": 27,
   "metadata": {
    "id": "j4Cmd5OjZqcn"
   },
   "outputs": [
    {
     "name": "stdout",
     "output_type": "stream",
     "text": [
      "(9298, 257)\n"
     ]
    }
   ],
   "source": [
    "data = x_disc\n",
    "data['class'] = y;\n",
    "print(data.shape)"
   ]
  },
  {
   "cell_type": "code",
   "execution_count": 28,
   "metadata": {
    "id": "afRS1pMCZvxW"
   },
   "outputs": [
    {
     "name": "stdout",
     "output_type": "stream",
     "text": [
      "{'criterion': 'entropy', 'max_depth': 8, 'max_features': 'sqrt', 'n_estimators': 500}\n",
      "Random Forest Accuracy\n",
      "0.9731182795698925\n"
     ]
    }
   ],
   "source": [
    "parameters = {'n_estimators': [200, 500], 'max_features': ['sqrt', 'log2'], 'max_depth': [4, 5, 6, 7, 8], 'criterion':['gini', 'entropy', 'log_loss']}\n",
    "rfc=RandomForestClassifier(random_state=42)\n",
    "clf = GridSearchCV(rfc, parameters)\n",
    "x = data[feature_list[:-1]]\n",
    "y = data['class'];\n",
    "x_train, x_test, y_train, y_test = train_test_split(x, y, test_size=0.20, random_state=1, stratify=y)\n",
    "clf.fit(x, y)\n",
    "sorted(clf.cv_results_)\n",
    "print(clf.best_params_)\n",
    "\n",
    "predictions = clf.predict(x_test)\n",
    "print(\"Random Forest Accuracy\")\n",
    "print(accuracy_score(y_test, predictions))"
   ]
  },
  {
   "cell_type": "code",
   "execution_count": 29,
   "metadata": {
    "id": "-CBwY2LfZzW2"
   },
   "outputs": [
    {
     "name": "stdout",
     "output_type": "stream",
     "text": [
      "x: 0\n",
      "x: 1\n",
      "x: 2\n",
      "x: 3\n",
      "x: 4\n",
      "x: 5\n",
      "x: 6\n",
      "x: 7\n",
      "x: 8\n",
      "x: 9\n",
      "x: 10\n",
      "x: 11\n",
      "x: 12\n",
      "x: 13\n",
      "x: 14\n",
      "x: 15\n",
      "x: 16\n",
      "x: 17\n",
      "x: 18\n",
      "x: 19\n",
      "x: 20\n",
      "x: 21\n",
      "x: 22\n",
      "x: 23\n",
      "x: 24\n",
      "x: 25\n",
      "x: 26\n",
      "x: 27\n",
      "x: 28\n",
      "x: 29\n",
      "x: 30\n",
      "x: 31\n",
      "x: 32\n",
      "x: 33\n",
      "x: 34\n",
      "x: 35\n",
      "x: 36\n",
      "x: 37\n",
      "x: 38\n",
      "x: 39\n",
      "x: 40\n",
      "x: 41\n",
      "x: 42\n",
      "x: 43\n",
      "x: 44\n",
      "x: 45\n",
      "x: 46\n",
      "x: 47\n",
      "x: 48\n",
      "x: 49\n",
      "x: 50\n",
      "x: 51\n",
      "x: 52\n",
      "x: 53\n",
      "x: 54\n",
      "x: 55\n",
      "x: 56\n",
      "x: 57\n",
      "x: 58\n",
      "x: 59\n",
      "x: 60\n",
      "x: 61\n",
      "x: 62\n",
      "x: 63\n",
      "x: 64\n",
      "x: 65\n",
      "x: 66\n",
      "x: 67\n",
      "x: 68\n",
      "x: 69\n",
      "x: 70\n",
      "x: 71\n",
      "x: 72\n",
      "x: 73\n",
      "x: 74\n",
      "x: 75\n",
      "x: 76\n",
      "x: 77\n",
      "x: 78\n",
      "x: 79\n",
      "x: 80\n",
      "x: 81\n",
      "x: 82\n",
      "x: 83\n",
      "x: 84\n",
      "x: 85\n",
      "x: 86\n",
      "x: 87\n",
      "x: 88\n",
      "x: 89\n",
      "x: 90\n",
      "x: 91\n",
      "x: 92\n",
      "x: 93\n",
      "x: 94\n",
      "x: 95\n",
      "x: 96\n",
      "x: 97\n",
      "x: 98\n",
      "x: 99\n",
      "x: 100\n",
      "x: 101\n",
      "x: 102\n",
      "x: 103\n",
      "x: 104\n",
      "x: 105\n",
      "x: 106\n",
      "x: 107\n",
      "x: 108\n",
      "x: 109\n",
      "x: 110\n",
      "x: 111\n",
      "x: 112\n",
      "x: 113\n",
      "x: 114\n",
      "x: 115\n",
      "x: 116\n",
      "x: 117\n",
      "x: 118\n",
      "x: 119\n",
      "x: 120\n",
      "x: 121\n",
      "x: 122\n",
      "x: 123\n",
      "x: 124\n",
      "x: 125\n",
      "x: 126\n",
      "x: 127\n",
      "x: 128\n",
      "x: 129\n",
      "x: 130\n",
      "x: 131\n",
      "x: 132\n",
      "x: 133\n",
      "x: 134\n",
      "x: 135\n",
      "x: 136\n",
      "x: 137\n",
      "x: 138\n",
      "x: 139\n",
      "x: 140\n",
      "x: 141\n",
      "x: 142\n",
      "x: 143\n",
      "x: 144\n",
      "x: 145\n",
      "x: 146\n",
      "x: 147\n",
      "x: 148\n",
      "x: 149\n",
      "x: 150\n",
      "x: 151\n",
      "x: 152\n",
      "x: 153\n",
      "x: 154\n",
      "x: 155\n",
      "x: 156\n",
      "x: 157\n",
      "x: 158\n",
      "x: 159\n",
      "x: 160\n",
      "x: 161\n",
      "x: 162\n",
      "x: 163\n",
      "x: 164\n",
      "x: 165\n",
      "x: 166\n",
      "x: 167\n",
      "x: 168\n",
      "x: 169\n",
      "x: 170\n",
      "x: 171\n",
      "x: 172\n",
      "x: 173\n",
      "x: 174\n",
      "x: 175\n",
      "x: 176\n",
      "x: 177\n",
      "x: 178\n",
      "x: 179\n",
      "x: 180\n",
      "x: 181\n",
      "x: 182\n",
      "x: 183\n",
      "x: 184\n",
      "x: 185\n",
      "x: 186\n",
      "x: 187\n",
      "x: 188\n",
      "x: 189\n",
      "x: 190\n",
      "x: 191\n",
      "x: 192\n",
      "x: 193\n",
      "x: 194\n",
      "x: 195\n",
      "x: 196\n",
      "x: 197\n",
      "x: 198\n",
      "x: 199\n",
      "x: 200\n",
      "x: 201\n",
      "x: 202\n",
      "x: 203\n",
      "x: 204\n",
      "x: 205\n",
      "x: 206\n",
      "x: 207\n",
      "x: 208\n",
      "x: 209\n",
      "x: 210\n",
      "x: 211\n",
      "x: 212\n",
      "x: 213\n",
      "x: 214\n",
      "x: 215\n",
      "x: 216\n",
      "x: 217\n",
      "x: 218\n",
      "x: 219\n",
      "x: 220\n",
      "x: 221\n",
      "x: 222\n",
      "x: 223\n",
      "x: 224\n",
      "x: 225\n",
      "x: 226\n",
      "x: 227\n",
      "x: 228\n",
      "x: 229\n",
      "x: 230\n",
      "x: 231\n",
      "x: 232\n",
      "x: 233\n",
      "x: 234\n",
      "x: 235\n",
      "x: 236\n",
      "x: 237\n",
      "x: 238\n",
      "x: 239\n",
      "x: 240\n",
      "x: 241\n",
      "x: 242\n",
      "x: 243\n",
      "x: 244\n",
      "x: 245\n",
      "x: 246\n",
      "x: 247\n",
      "x: 248\n",
      "x: 249\n",
      "x: 250\n",
      "x: 251\n",
      "x: 252\n",
      "x: 253\n",
      "x: 254\n",
      "x: 255\n",
      "x: 256\n",
      "populate Data\n"
     ]
    }
   ],
   "source": [
    "length=len(feature_list)\n",
    "entropy_list = [0]*length;\n",
    "joint_entropy_list = defaultdict(dict);\n",
    "conditional_entropy_list = defaultdict(dict);\n",
    "joint_entropy_list3 = defaultdict(dict);\n",
    "covariance_list = defaultdict(dict);\n",
    "for i in range(length):\n",
    "    entropy_list[i] = entropy(data[feature_list[i]])\n",
    "    for j in range(i,length):\n",
    "        joint_entropy_list[i][j] = joint_entropy(data[feature_list[i]],data[feature_list[j]])\n",
    "        joint_entropy_list3[i][j] = joint_entropy_3(data[feature_list[i]],data[feature_list[j]],data[feature_list[length-1]]);\n",
    "\n",
    "    print(\"x: %s\" %(i))\n",
    "\n",
    "\n",
    "for i in range(length):\n",
    "  for j in range(length):\n",
    "    conditional_entropy_list[i][j] = ret_joint_entropy(i,j)-entropy_list[j];\n",
    "    covariance_list[i][j] = return_corelation(data[feature_list[i]],data[feature_list[j]])\n",
    "\n",
    "print(\"populate Data\")\n"
   ]
  },
  {
   "cell_type": "code",
   "execution_count": 30,
   "metadata": {
    "id": "BOKxhTlJZ3NP"
   },
   "outputs": [
    {
     "name": "stdout",
     "output_type": "stream",
     "text": [
      "MrMr\n",
      "35.17967059041402;34.233353009942476; 24.241883398729126;34.222588747294466; 0\n",
      "51.89262358646711;50.16103568410939; 41.815468129680426;49.67730361007906; 0\n",
      "64.05651816614004;63.04563815873237; 57.904718913851184;61.05606676157736; 0\n",
      "70.2835862356332;71.73561581999375; 69.03584615206547;70.59555308633402; 0\n",
      "71.31590217252914;74.03700359966203; 71.01459541419263;71.660161811174; 0\n",
      "76.09098695556558;79.82314200724562; 78.3927335439888;76.61825063370256; 0\n",
      "76.77943678599951;80.53296989478801; 80.54372258296006;77.08063937405234; 0\n",
      "78.2208294269477;82.67333356482285; 82.51208954014608;78.60771786057387; 0\n",
      "79.89836452654606;83.7057189485746; 83.80262046135861;79.00553259951157; 0\n",
      "79.66167806752549;84.29715152146487; 84.13598851811986;78.90886257624686; 0\n",
      "81.08171580031713;85.08234082201926; 85.42656573723623;80.23170943435535; 0\n",
      "81.46875470213087;85.66307857911733; 86.15793372455063;80.35011632348346; 0\n",
      "81.87743787400026;86.10414713473847; 86.79263168860031;80.26397907334746; 0\n",
      "81.56548259777539;86.51288817898771; 86.62051923099182;80.92002037107768; 0\n",
      "81.716020232184;86.60961607463221; 86.82482030626065;80.64043890412862; 0\n",
      "82.04942301237311;87.20117596675811; 87.42709816313067;81.30719816660299; 0\n",
      "82.63027651423081;87.78191372385615; 87.85728671134414;81.5653784274917; 0\n",
      "82.29686215956573;87.79271270993205; 88.14763244094124;81.75903098487215; 0\n",
      "82.76996886465963;87.80344224915218; 88.06163408451683;81.26431473315046; 0\n",
      "83.5874162297302;87.6097896917717; 88.25520562056553;81.57617741356759; 0\n",
      "83.30788106068499;88.36273250228595; 89.06184242508421;81.98486058543699; 0\n",
      "83.25404817296898;88.28747525955762; 89.0833825248562;81.94184983274882; 0\n",
      "83.63061217403383;88.5456555204463; 89.25546025903678;81.65149252867577; 0\n",
      "83.70569579962266;88.51330486012245; 89.87917404539509;82.12465710614951; 0\n",
      "83.58735835735038;88.59938423787864; 89.7501302128546;81.83423035522065; 0\n",
      "83.2538051089737;88.53489125779831; 89.2661203514011;81.90956861928076; 0\n",
      "83.66245355741519;88.91124691829579; 89.41672743266548;82.04944616132505; 0\n",
      "84.07128719747213;88.97575147285207; 89.49199624986977;82.14626665277729; 0\n",
      "83.96387606051135;88.96499878468003; 89.59956942949407;82.03863560077318; 0\n",
      "84.1036725812239;89.14786393046056; 89.83616329270691;82.26443047791012; 0\n",
      "83.95322754262301;89.28770674907692; 89.7716355891987;81.94178038589304; 0\n",
      "84.20052779610403;89.5672303436462; 89.803835781335;82.25375881106984; 0\n",
      "84.36199173582416;89.66402768614653; 89.7500723404748;82.41513015498224; 0\n",
      "84.08241026887508;89.6317580471544; 89.77150826996306;82.31833281248191; 0\n",
      "84.16825815711194;89.65326342349852; 89.69625102723475;82.28604002453788; 0\n",
      "84.31873791914072;89.94370174890332; 90.11577948308391;82.73774552357142; 0\n",
      "84.2540018750651;89.9330763799669; 90.1480143986481;82.60858594627129; 0\n",
      "84.52299269650567;89.75016493628249; 90.13723856152413;82.46875470213088; 0\n",
      "85.09297776543167;89.76101022026228; 90.33083324652476;82.5117423058671; 0\n",
      "85.08200516221628;89.81463476741091; 90.37394816949664;82.52247184508722; 0\n",
      "84.83471648321122;89.68560250934641; 90.56750813106937;82.3503709619547; 0\n",
      "84.71651793465051;89.70716575807032; 90.5566975705175;82.2859011308263; 0\n",
      "84.72717802701482;89.97602926027524; 90.51366366887737;82.28591270530228; 0\n",
      "84.71647163674663;89.95443128812343; 90.52443950600136;82.10301283609385; 0\n",
      "84.81331527715082;89.80387050476291; 90.52440478257347;82.44712200655115; 0\n",
      "85.15748231998795;89.67474565089066; 90.66428232461776;82.39337014016691; 0\n",
      "84.70586941676214;89.84681181059526; 90.80404412190236;82.57623528594742; 0\n",
      "84.96398023079506;89.65330972140237; 90.83632533537042;82.43643876523491; 0\n",
      "85.02851950877923;89.75008391495075; 90.7180689144299;82.60852807389145; 0\n",
      "84.4691829577416;89.77149669548712; 90.73950484391821;82.61922288968367; 0\n",
      "84.31874949361668;89.8575066263875; 90.68574140305799;82.3934395870227; 0\n",
      "84.15735500075235;89.91131636515156; 90.58890933712978;82.53328240563908; 0\n",
      "84.36170237392501;89.97585564313576; 90.59965045082585;82.49023692952301; 0\n",
      "84.26485873352082;90.008078984224; 90.78249244765445;82.50102434112294; 0\n",
      "84.36169079944905;89.92210377675151; 90.66424760118986;82.7053832887716; 0\n",
      "84.5123210296654;89.84680023611931; 90.64273065036981;82.54405824276306; 0\n",
      "84.49069990856165;89.84688125745107; 90.58895563503361;82.52252971746705; 0\n",
      "84.46912508536177;89.63178119610635; 90.44913596536917;82.47946109239903; 0\n",
      "84.55527390997372;89.71789529729041; 90.52440478257347;82.42579024734657; 0\n",
      "84.97451300392373;89.99752306214337; 91.04062641063926;82.69464217507553; 0\n",
      "85.34028959338865;90.12660161811175; 91.11592995127144;82.64084401078742; 0\n",
      "84.7918909221385;89.91148998229106; 91.07295392201117;82.5547414840793; 0\n",
      "85.53427781057212;89.86838663379515; 91.01915575772306;82.44717987893098; 0\n",
      "85.46965751125619;89.79305994421102; 90.9546049052629;82.42569765153883; 0\n",
      "85.55564429320462;89.96514925286758; 90.91161730152668;82.54402351933517; 0\n",
      "85.88901234996585;89.96516082734354; 90.95466277764274;82.72690023959166; 0\n",
      "86.46975010706392;90.96541546581479; 92.30981399817122;83.38292996284594; 0\n",
      "86.60965079806012;91.06212021250737; 92.39584707802354;83.25385140687753; 0\n",
      "86.93216199636561;91.14817644131162; 92.44962209335972;83.1677951780733; 0\n",
      "86.7062860978969;91.08369503570725; 92.49265599499982;83.07100941004896; 0\n",
      "86.80302556801742;91.24497378381194; 92.56799425905993;82.9634593793766; 0\n",
      "86.80316446172898;91.38485132585623; 92.60025232357604;83.13553711355718; 0\n",
      "86.84610576756138;91.3525585379122; 92.52498350637175;83.2646388184775; 0\n",
      "86.79234232670116;91.30960565760387; 92.5034318321238;83.33994235910967; 0\n",
      "86.43743417016793;91.43858004328852; 92.51410349896409;83.35066032385384; 0\n",
      "87.10427445397409;91.69669085732141; 92.94429204717757;83.43665868027826; 0\n",
      "87.42697084389505;91.68591502019746; 92.95503316087364;83.47970415639432; 0\n",
      "87.13637047582671;91.67515075754945; 93.03030197807794;83.4473766450224; 0\n",
      "87.27630589025082;91.6859728925773; 93.00880817620984;83.43667025475423; 0\n",
      "87.22238040672708;91.72889104945773; 92.91203398266144;83.46892831927035; 0\n",
      "87.44830260309963;91.87953285415004; 92.89058647869717;83.44739979397433; 0\n",
      "87.14728520666227;91.69662141046564; 92.85828211627717;83.43665868027826; 0\n",
      "87.2871164508027;91.83641793117816; 92.86904637892522;83.36140143754992; 0\n",
      "87.09339444656642;91.66429389909372; 93.25623574892647;83.6410176279269; 0\n",
      "86.92144403162146;91.71805733995393; 93.1702258180261;83.67329884139497; 0\n",
      "87.3836823037837;91.6428000972256; 93.127191916386;83.45819878005024; 0\n",
      "87.22235725777516;91.65356435987361; 93.04113568758174;83.36137828859798; 0\n",
      "87.34078729585516;91.56751970554534; 93.07344005000174;83.33991921015776; 0\n",
      "87.3622810977233;91.69656353808581; 93.14873201615796;83.53349074620645; 0\n",
      "87.25478893943075;91.64283482065349; 93.21324814519024;83.44745766635414; 0\n",
      "86.856661689642;91.52450895285715; 93.23477667048623;83.55499612255055; 0\n",
      "87.31918932370336;91.65361065777746; 93.24554093313424;83.47969258191836; 0\n",
      "87.21161614407909;91.5998935148211; 93.26701158605046;83.55500769702651; 0\n",
      "87.66333321758857;91.69658668703775; 93.2884938134426;83.50126740511824; 0\n",
      "87.25465004571917;91.84712432144634; 93.27776427422249;83.26467354190538; 0\n",
      "87.38369387825966;91.83639478222622; 93.28848223896664;83.26462724400153; 0\n",
      "87.08261860944246;91.76105651816613; 93.26693056471869;83.4044700626179; 0\n",
      "87.24396680440294;91.92248573445838; 93.29923492713868;83.32918967093764; 0\n",
      "87.06121740338206;91.99777770061462; 93.26697686262256;83.36142458650185; 0\n",
      "87.10415870921445;92.01916733219903; 93.24544833732654;83.33996550806162; 0\n",
      "[195, 75, 114, 167, 242, 119, 189, 29, 163, 225, 100, 92, 212, 151, 222, 120, 18, 146, 209, 12, 157, 179, 76, 84, 226, 135, 221, 147, 91, 228, 194, 13, 99, 173, 196, 104, 59, 210, 136, 131, 77, 177, 227, 188, 3, 168, 115, 45, 238, 141, 241, 180, 162, 93, 14, 193, 152, 243, 116, 103, 205, 60, 211, 130, 34, 164, 22, 178, 206, 61, 83, 229, 109, 237, 183, 11, 204, 90, 19, 145, 30, 213, 172, 85, 98, 208, 244, 190, 148, 125, 166, 46, 219, 129, 224, 27, 101, 161, 4, 220]\n",
      "-----------------------------------\n"
     ]
    }
   ],
   "source": [
    "######################## MrMr ########################\n",
    "print(\"MrMr\")\n",
    "xk = [];\n",
    "current_mi = 0;\n",
    "loop_counter = 100 if (length-1)>100 else length-1;\n",
    "# print(feature_list)\n",
    "\n",
    "while len(xk) < loop_counter:\n",
    "    mi = [-100] * length\n",
    "\n",
    "    for i in range(length - 1):\n",
    "        if (i in xk):\n",
    "            continue;\n",
    "\n",
    "        Ixc = get_mutual_info(i, length - 1);\n",
    "        Ixmxs = 0;\n",
    "        for j in range(len(xk)):\n",
    "            Ixmxs += get_mutual_info(xk[j], i);\n",
    "\n",
    "        if (len(xk)):\n",
    "            Ixmxs = Ixmxs / len(xk);\n",
    "\n",
    "        mi[i] = Ixc - Ixmxs;\n",
    "\n",
    "    (m, p) = max((v, i) for i, v in enumerate(mi))\n",
    "    # print(mi)\n",
    "    xk.append(p)\n",
    "    # print(feature_name(xk))\n",
    "\n",
    "    accurecy = selection_accurecy_dt(feature_array(xk))\n",
    "    accurecy2 = selection_accurecy_svm(feature_array(xk))\n",
    "    accurecy3 = selection_accurecy_KNN(feature_array(xk))\n",
    "    accurecy4 = selection_accurecy_nb(feature_array(xk))\n",
    "    accurecy5 =0\n",
    "    print(f\"%s;%s; %s;%s; %s\" % (accurecy, accurecy2, accurecy3, accurecy4, accurecy5));\n",
    "\n",
    "print(xk)\n",
    "print('-----------------------------------')"
   ]
  }
 ],
 "metadata": {
  "accelerator": "GPU",
  "colab": {
   "provenance": []
  },
  "gpuClass": "standard",
  "kernelspec": {
   "display_name": "Python 3 (ipykernel)",
   "language": "python",
   "name": "python3"
  },
  "language_info": {
   "codemirror_mode": {
    "name": "ipython",
    "version": 3
   },
   "file_extension": ".py",
   "mimetype": "text/x-python",
   "name": "python",
   "nbconvert_exporter": "python",
   "pygments_lexer": "ipython3",
   "version": "3.10.6"
  }
 },
 "nbformat": 4,
 "nbformat_minor": 1
}
