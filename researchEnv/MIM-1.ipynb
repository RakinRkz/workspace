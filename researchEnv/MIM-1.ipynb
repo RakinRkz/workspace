{
 "cells": [
  {
   "cell_type": "code",
   "execution_count": 1,
   "metadata": {
    "scrolled": true
   },
   "outputs": [
    {
     "name": "stdout",
     "output_type": "stream",
     "text": [
      "Requirement already satisfied: caimcaim in ./lib/python3.8/site-packages (0.3)\n",
      "Requirement already satisfied: pandas in ./lib/python3.8/site-packages (2.0.2)\n",
      "Requirement already satisfied: scikit-learn in ./lib/python3.8/site-packages (1.2.2)\n",
      "Requirement already satisfied: xgboost in ./lib/python3.8/site-packages (1.7.5)\n",
      "Requirement already satisfied: numpy in ./lib/python3.8/site-packages (from caimcaim) (1.24.3)\n",
      "Requirement already satisfied: sklearn in ./lib/python3.8/site-packages (from caimcaim) (0.0.post5)\n",
      "Requirement already satisfied: python-dateutil>=2.8.2 in ./lib/python3.8/site-packages (from pandas) (2.8.2)\n",
      "Requirement already satisfied: pytz>=2020.1 in ./lib/python3.8/site-packages (from pandas) (2023.3)\n",
      "Requirement already satisfied: tzdata>=2022.1 in ./lib/python3.8/site-packages (from pandas) (2023.3)\n",
      "Requirement already satisfied: scipy>=1.3.2 in ./lib/python3.8/site-packages (from scikit-learn) (1.10.1)\n",
      "Requirement already satisfied: joblib>=1.1.1 in ./lib/python3.8/site-packages (from scikit-learn) (1.2.0)\n",
      "Requirement already satisfied: threadpoolctl>=2.0.0 in ./lib/python3.8/site-packages (from scikit-learn) (3.1.0)\n",
      "Requirement already satisfied: six>=1.5 in ./lib/python3.8/site-packages (from python-dateutil>=2.8.2->pandas) (1.16.0)\n",
      "\n",
      "\u001b[1m[\u001b[0m\u001b[34;49mnotice\u001b[0m\u001b[1;39;49m]\u001b[0m\u001b[39;49m A new release of pip is available: \u001b[0m\u001b[31;49m23.1.2\u001b[0m\u001b[39;49m -> \u001b[0m\u001b[32;49m23.2.1\u001b[0m\n",
      "\u001b[1m[\u001b[0m\u001b[34;49mnotice\u001b[0m\u001b[1;39;49m]\u001b[0m\u001b[39;49m To update, run: \u001b[0m\u001b[32;49mpip install --upgrade pip\u001b[0m\n",
      "Note: you may need to restart the kernel to use updated packages.\n"
     ]
    }
   ],
   "source": [
    "%pip install caimcaim pandas scikit-learn xgboost"
   ]
  },
  {
   "cell_type": "code",
   "execution_count": 2,
   "metadata": {
    "id": "J9pec9xsYESA"
   },
   "outputs": [],
   "source": [
    "import pandas as pd \n",
    "from IPython.display import  clear_output\n",
    "import numpy as np\n",
    "from sklearn.ensemble import RandomForestClassifier\n",
    "from sklearn.model_selection import train_test_split\n",
    "from sklearn.feature_selection import SelectKBest\n",
    "from sklearn.feature_selection import mutual_info_classif\n",
    "from sklearn.metrics import accuracy_score\n",
    "import math\n",
    "from collections import defaultdict\n",
    "from sklearn.metrics import accuracy_score\n",
    "from scipy.io import loadmat\n",
    "from sklearn.neighbors import KNeighborsClassifier\n",
    "from sklearn.tree import DecisionTreeClassifier\n",
    "from sklearn.svm import SVC\n",
    "from sklearn.naive_bayes import GaussianNB\n",
    "from xgboost import XGBClassifier\n",
    "from sklearn.model_selection import GridSearchCV\n",
    "from sklearn.model_selection import cross_validate\n",
    "from caimcaim import CAIMD\n",
    "import time"
   ]
  },
  {
   "cell_type": "code",
   "execution_count": 3,
   "metadata": {
    "id": "CKNVGHWvYKlA"
   },
   "outputs": [],
   "source": [
    "def entropy(X):\n",
    "    unique, count = np.unique(X, return_counts=True, axis=0)\n",
    "    prob = count / len(X)\n",
    "    en = np.sum((-1) * prob * np.log2(prob))\n",
    "    return en"
   ]
  },
  {
   "cell_type": "code",
   "execution_count": 4,
   "metadata": {
    "id": "rlocyhjyYQ5v"
   },
   "outputs": [],
   "source": [
    "# Joint Entropy H(x,y)\n",
    "def joint_entropy(X, Y):\n",
    "    XY = np.c_[X, Y] \n",
    "    return entropy(XY)\n"
   ]
  },
  {
   "cell_type": "code",
   "execution_count": 5,
   "metadata": {
    "id": "Y5LDDEaBYTu_"
   },
   "outputs": [],
   "source": [
    "# Joint Entropy H(x,y,z)\n",
    "def joint_entropy_3(X, Y, Z):\n",
    "    XYZ = np.c_[X, Y, Z]\n",
    "    return entropy(XYZ)"
   ]
  },
  {
   "cell_type": "code",
   "execution_count": 6,
   "metadata": {
    "id": "qsMtrpWrYe0v"
   },
   "outputs": [],
   "source": [
    "# Conditional Entropy X given Y; H(x|y)\n",
    "def conditional_entropy(X, Y):\n",
    "    return joint_entropy(X, Y) - entropy(Y)"
   ]
  },
  {
   "cell_type": "code",
   "execution_count": 7,
   "metadata": {
    "id": "VvR1xpSjYh4N"
   },
   "outputs": [],
   "source": [
    "def ret_joint_entropy3(x,y):\n",
    "    if(x<y):\n",
    "        return joint_entropy_list3[x][y]\n",
    "    else:\n",
    "        return joint_entropy_list3[y][x]"
   ]
  },
  {
   "cell_type": "code",
   "execution_count": 8,
   "metadata": {
    "id": "WXeUgwjYYlkX"
   },
   "outputs": [],
   "source": [
    "\n",
    "def ret_joint_entropy(x,y):\n",
    "    if(x<y):\n",
    "        return joint_entropy_list[x][y]\n",
    "    else:\n",
    "        return joint_entropy_list[y][x]"
   ]
  },
  {
   "cell_type": "code",
   "execution_count": 9,
   "metadata": {
    "id": "1Zh4WodeYoSO"
   },
   "outputs": [],
   "source": [
    "#### H(x,y|z)\n",
    "def conditional_join_entropy(x, y, z):\n",
    "    if x == length - 1:\n",
    "        return ret_joint_entropy3(y, z) - entropy_list[z];\n",
    "    elif y == length - 1:\n",
    "        return ret_joint_entropy3(x, z) - entropy_list[z];\n",
    "    else:\n",
    "        return ret_joint_entropy3(x, y) - entropy_list[z];"
   ]
  },
  {
   "cell_type": "code",
   "execution_count": 10,
   "metadata": {
    "id": "ToY-jidjYr13"
   },
   "outputs": [],
   "source": [
    "##### I(x,y)\n",
    "def get_mutual_info(x, y):\n",
    "    return entropy_list[x] + entropy_list[y] - ret_joint_entropy(x, y);"
   ]
  },
  {
   "cell_type": "code",
   "execution_count": 11,
   "metadata": {
    "id": "01Jm-Y1vYxP2"
   },
   "outputs": [],
   "source": [
    "########## I(x,y|z)\n",
    "def conditional_mutual_info(x, y, z):\n",
    "    cxz = ret_joint_entropy(x, z)-entropy_list[z];\n",
    "    cyz = ret_joint_entropy(y, z)-entropy_list[z];\n",
    "    return cxz + cyz - conditional_join_entropy(x, y, z)\n"
   ]
  },
  {
   "cell_type": "code",
   "execution_count": 12,
   "metadata": {
    "id": "2CH2HqKPY3JP"
   },
   "outputs": [],
   "source": [
    "def feature_name(arr):\n",
    "    name = \"{\";\n",
    "    for i in range(len(arr)):\n",
    "        if i > 0:\n",
    "            name = name + \", \";\n",
    "\n",
    "        name = name + feature_list[arr[i]]\n",
    "\n",
    "    name = name + \"}\"\n",
    "    return name"
   ]
  },
  {
   "cell_type": "code",
   "execution_count": 13,
   "metadata": {
    "id": "jdd8RosuY6bI"
   },
   "outputs": [],
   "source": [
    "def feature_array(arr):\n",
    "    name = []\n",
    "    for i in range(len(arr)):\n",
    "        name.append(feature_list[arr[i]])\n",
    "    return name"
   ]
  },
  {
   "cell_type": "code",
   "execution_count": 14,
   "metadata": {
    "id": "1eEHsioDY9DW"
   },
   "outputs": [],
   "source": [
    "def return_corelation(x, y):\n",
    "    size = len(x);\n",
    "    ux = x.sum() / size\n",
    "    uy = y.sum() / size\n",
    "\n",
    "    xmux = x - ux\n",
    "    ymuy = y - uy\n",
    "\n",
    "    xmuxymuy = xmux * ymuy;\n",
    "\n",
    "    cov = xmuxymuy.sum() / (size - 1)\n",
    "\n",
    "    var_x = xmux * xmux\n",
    "    var_x = var_x.sum() / (size - 1)\n",
    "\n",
    "    var_y = ymuy * ymuy\n",
    "    var_y = var_y.sum() / (size - 1)\n",
    "\n",
    "    sd_x = math.sqrt(var_x)\n",
    "    sd_y = math.sqrt(var_y)\n",
    "\n",
    "    co_xy = cov / (sd_x * sd_y)\n",
    "\n",
    "    return co_xy"
   ]
  },
  {
   "cell_type": "code",
   "execution_count": 15,
   "metadata": {
    "id": "nXOR_xGzY_q_"
   },
   "outputs": [],
   "source": [
    "def selection_accurecy_svm(selected_features):\n",
    "    x = data[selected_features];\n",
    "    y = data['class'];\n",
    "\n",
    "    model = SVC(gamma='auto', C=10, kernel='linear')\n",
    "    accuracy = cross_validation(model, x, y)\n",
    "    return accuracy;\n"
   ]
  },
  {
   "cell_type": "code",
   "execution_count": 16,
   "metadata": {
    "id": "PdPLyDP6ZDAY"
   },
   "outputs": [],
   "source": [
    "def selection_accurecy_dt(selected_features):\n",
    "\n",
    "    x = data[selected_features];\n",
    "    y = data['class'];\n",
    "\n",
    "    model = DecisionTreeClassifier(random_state=0)\n",
    "    accuracy = cross_validation(model, x, y)\n",
    "    return accuracy;\n"
   ]
  },
  {
   "cell_type": "code",
   "execution_count": 17,
   "metadata": {
    "id": "LTa5Fjt0ZGMI"
   },
   "outputs": [],
   "source": [
    "def selection_accurecy_KNN(selected_features):\n",
    "\n",
    "  x = data[selected_features];\n",
    "  y = data['class'];\n",
    "\n",
    "  model = KNeighborsClassifier(n_neighbors=3)\n",
    "  accuracy = cross_validation(model, x, y)\n",
    "  return accuracy;\n",
    "\n",
    "  return accuracy_score(y_test, predictions)\n"
   ]
  },
  {
   "cell_type": "code",
   "execution_count": 18,
   "metadata": {
    "id": "7HMoILsjZJbm"
   },
   "outputs": [],
   "source": [
    "def selection_accurecy_nb(selected_features):\n",
    "\n",
    "  x = data[selected_features];\n",
    "  y = data['class'];\n",
    "\n",
    "  model = GaussianNB()\n",
    "\n",
    "  accuracy = cross_validation(model, x, y)\n",
    "  return accuracy;"
   ]
  },
  {
   "cell_type": "code",
   "execution_count": 19,
   "metadata": {
    "id": "ky80lJeBZMtn"
   },
   "outputs": [],
   "source": [
    "def selection_accurecy_xgb(selected_features):\n",
    "    x = data[selected_features];\n",
    "    y = data['class'];\n",
    "\n",
    "    model = XGBClassifier()\n",
    "\n",
    "    accuracy = cross_validation(model, x, y)\n",
    "    return accuracy;"
   ]
  },
  {
   "cell_type": "code",
   "execution_count": 20,
   "metadata": {
    "id": "aA4ZJjbYZQWP"
   },
   "outputs": [],
   "source": [
    "def cross_validation(model, _X, _y):\n",
    "    _scoring = ['accuracy', 'precision', 'recall', 'test_score']\n",
    "    results = cross_validate(estimator=model,\n",
    "                             X=_X,\n",
    "                             y=_y,\n",
    "                             cv=10,\n",
    "                             # scoring=_scoring,\n",
    "                             return_train_score=True)\n",
    "\n",
    "    return results['test_score'].mean() * 100"
   ]
  },
  {
   "cell_type": "code",
   "execution_count": 21,
   "metadata": {
    "id": "FhC5EJsbZTfP"
   },
   "outputs": [],
   "source": [
    "def ret_covariance(x,y):\n",
    "    return covariance_list[x][y]\n"
   ]
  },
  {
   "cell_type": "code",
   "execution_count": 22,
   "metadata": {
    "colab": {
     "base_uri": "https://localhost:8080/"
    },
    "id": "h_NjrpMSZWuX",
    "outputId": "2fa5d6c1-dbd1-4d0a-962c-bcbb2346164f"
   },
   "outputs": [
    {
     "name": "stdout",
     "output_type": "stream",
     "text": [
      "Load Data RELATHE_discreate\n"
     ]
    }
   ],
   "source": [
    "print(\"Load Data RELATHE_discreate\")"
   ]
  },
  {
   "cell_type": "code",
   "execution_count": 23,
   "metadata": {
    "colab": {
     "base_uri": "https://localhost:8080/"
    },
    "id": "-e0ni8-KZcQH",
    "outputId": "9236d88b-fb67-4147-ddb9-96b5d7ef9bfe"
   },
   "outputs": [
    {
     "name": "stdout",
     "output_type": "stream",
     "text": [
      "(10992, 17)\n"
     ]
    }
   ],
   "source": [
    "main_data = pd.read_csv(\"pendigits.csv\")\n",
    "clear_output()\n",
    "print(main_data.shape)"
   ]
  },
  {
   "cell_type": "code",
   "execution_count": 24,
   "metadata": {},
   "outputs": [
    {
     "data": {
      "text/html": [
       "<div>\n",
       "<style scoped>\n",
       "    .dataframe tbody tr th:only-of-type {\n",
       "        vertical-align: middle;\n",
       "    }\n",
       "\n",
       "    .dataframe tbody tr th {\n",
       "        vertical-align: top;\n",
       "    }\n",
       "\n",
       "    .dataframe thead th {\n",
       "        text-align: right;\n",
       "    }\n",
       "</style>\n",
       "<table border=\"1\" class=\"dataframe\">\n",
       "  <thead>\n",
       "    <tr style=\"text-align: right;\">\n",
       "      <th></th>\n",
       "      <th>a01</th>\n",
       "      <th>a02</th>\n",
       "      <th>a03</th>\n",
       "      <th>a04</th>\n",
       "      <th>a05</th>\n",
       "      <th>a06</th>\n",
       "      <th>a07</th>\n",
       "      <th>a08</th>\n",
       "      <th>a09</th>\n",
       "      <th>a10</th>\n",
       "      <th>a11</th>\n",
       "      <th>a12</th>\n",
       "      <th>a13</th>\n",
       "      <th>a14</th>\n",
       "      <th>a15</th>\n",
       "      <th>a16</th>\n",
       "      <th>class</th>\n",
       "    </tr>\n",
       "  </thead>\n",
       "  <tbody>\n",
       "    <tr>\n",
       "      <th>0</th>\n",
       "      <td>100</td>\n",
       "      <td>79</td>\n",
       "      <td>67</td>\n",
       "      <td>100</td>\n",
       "      <td>26</td>\n",
       "      <td>76</td>\n",
       "      <td>41</td>\n",
       "      <td>38</td>\n",
       "      <td>47</td>\n",
       "      <td>0</td>\n",
       "      <td>0</td>\n",
       "      <td>8</td>\n",
       "      <td>38</td>\n",
       "      <td>38</td>\n",
       "      <td>96</td>\n",
       "      <td>58</td>\n",
       "      <td>8</td>\n",
       "    </tr>\n",
       "    <tr>\n",
       "      <th>1</th>\n",
       "      <td>100</td>\n",
       "      <td>100</td>\n",
       "      <td>58</td>\n",
       "      <td>83</td>\n",
       "      <td>31</td>\n",
       "      <td>55</td>\n",
       "      <td>17</td>\n",
       "      <td>24</td>\n",
       "      <td>43</td>\n",
       "      <td>0</td>\n",
       "      <td>80</td>\n",
       "      <td>19</td>\n",
       "      <td>50</td>\n",
       "      <td>43</td>\n",
       "      <td>0</td>\n",
       "      <td>39</td>\n",
       "      <td>6</td>\n",
       "    </tr>\n",
       "    <tr>\n",
       "      <th>2</th>\n",
       "      <td>100</td>\n",
       "      <td>100</td>\n",
       "      <td>63</td>\n",
       "      <td>78</td>\n",
       "      <td>28</td>\n",
       "      <td>53</td>\n",
       "      <td>0</td>\n",
       "      <td>27</td>\n",
       "      <td>4</td>\n",
       "      <td>0</td>\n",
       "      <td>60</td>\n",
       "      <td>1</td>\n",
       "      <td>78</td>\n",
       "      <td>22</td>\n",
       "      <td>24</td>\n",
       "      <td>21</td>\n",
       "      <td>6</td>\n",
       "    </tr>\n",
       "    <tr>\n",
       "      <th>3</th>\n",
       "      <td>100</td>\n",
       "      <td>77</td>\n",
       "      <td>92</td>\n",
       "      <td>100</td>\n",
       "      <td>49</td>\n",
       "      <td>76</td>\n",
       "      <td>18</td>\n",
       "      <td>48</td>\n",
       "      <td>0</td>\n",
       "      <td>15</td>\n",
       "      <td>38</td>\n",
       "      <td>0</td>\n",
       "      <td>75</td>\n",
       "      <td>23</td>\n",
       "      <td>29</td>\n",
       "      <td>27</td>\n",
       "      <td>6</td>\n",
       "    </tr>\n",
       "    <tr>\n",
       "      <th>4</th>\n",
       "      <td>100</td>\n",
       "      <td>89</td>\n",
       "      <td>40</td>\n",
       "      <td>83</td>\n",
       "      <td>63</td>\n",
       "      <td>40</td>\n",
       "      <td>84</td>\n",
       "      <td>0</td>\n",
       "      <td>0</td>\n",
       "      <td>7</td>\n",
       "      <td>53</td>\n",
       "      <td>53</td>\n",
       "      <td>80</td>\n",
       "      <td>100</td>\n",
       "      <td>3</td>\n",
       "      <td>78</td>\n",
       "      <td>8</td>\n",
       "    </tr>\n",
       "  </tbody>\n",
       "</table>\n",
       "</div>"
      ],
      "text/plain": [
       "   a01  a02  a03  a04  a05  a06  a07  a08  a09  a10  a11  a12  a13  a14  a15  \\\n",
       "0  100   79   67  100   26   76   41   38   47    0    0    8   38   38   96   \n",
       "1  100  100   58   83   31   55   17   24   43    0   80   19   50   43    0   \n",
       "2  100  100   63   78   28   53    0   27    4    0   60    1   78   22   24   \n",
       "3  100   77   92  100   49   76   18   48    0   15   38    0   75   23   29   \n",
       "4  100   89   40   83   63   40   84    0    0    7   53   53   80  100    3   \n",
       "\n",
       "   a16  class  \n",
       "0   58      8  \n",
       "1   39      6  \n",
       "2   21      6  \n",
       "3   27      6  \n",
       "4   78      8  "
      ]
     },
     "execution_count": 24,
     "metadata": {},
     "output_type": "execute_result"
    }
   ],
   "source": [
    "main_data.head()"
   ]
  },
  {
   "cell_type": "code",
   "execution_count": 26,
   "metadata": {},
   "outputs": [
    {
     "data": {
      "text/plain": [
       "a01      int64\n",
       "a02      int64\n",
       "a03      int64\n",
       "a04      int64\n",
       "a05      int64\n",
       "a06      int64\n",
       "a07      int64\n",
       "a08      int64\n",
       "a09      int64\n",
       "a10      int64\n",
       "a11      int64\n",
       "a12      int64\n",
       "a13      int64\n",
       "a14      int64\n",
       "a15      int64\n",
       "a16      int64\n",
       "class    int64\n",
       "dtype: object"
      ]
     },
     "execution_count": 26,
     "metadata": {},
     "output_type": "execute_result"
    }
   ],
   "source": [
    "main_data.dtypes"
   ]
  },
  {
   "cell_type": "code",
   "execution_count": 25,
   "metadata": {
    "id": "4j-hlntbZfoW"
   },
   "outputs": [],
   "source": [
    "feature_list = main_data.columns"
   ]
  },
  {
   "cell_type": "code",
   "execution_count": 26,
   "metadata": {
    "id": "X57ML-poZih1"
   },
   "outputs": [],
   "source": [
    "caim = CAIMD()\n",
    "x = main_data[feature_list[:-1]];\n",
    "y = main_data['class'];"
   ]
  },
  {
   "cell_type": "code",
   "execution_count": 27,
   "metadata": {
    "colab": {
     "base_uri": "https://localhost:8080/"
    },
    "id": "IeDFXSSVZnt_",
    "outputId": "ad8ccc5c-ca3c-43d7-8646-b41931a355de"
   },
   "outputs": [
    {
     "name": "stdout",
     "output_type": "stream",
     "text": [
      "Categorical [0, 1, 2, 3, 4, 5, 6, 7, 8, 9, 10, 11, 12, 13, 14, 15, 16, 17, 18, 19, 20, 21, 22, 23, 24, 25, 26, 27, 28, 29, 30, 31, 32, 33, 34, 35, 36, 37, 38, 39, 40, 41, 42, 43, 44, 45, 46, 47, 48, 49, 50, 51, 52, 53, 54, 55, 56, 57, 58, 59, 60, 61, 62, 63, 64, 65, 66, 67, 68, 69, 70, 71, 72, 73, 74, 75, 76, 77, 78, 79, 80, 81, 82, 83, 84, 85, 86, 87, 88, 89, 90, 91, 92, 93, 94, 95, 96, 97, 98, 99, 100, 101, 102, 103, 104, 105, 106, 107, 108, 109, 110, 111, 112, 113, 114, 115, 116, 117, 118, 119, 120, 121, 122, 123, 124, 125, 126, 127, 128, 129, 130, 131, 132, 133, 134, 135, 136, 137, 138, 139, 140, 141, 142, 143, 144, 145, 146, 147, 148, 149, 150, 151, 152, 153, 154, 155, 156, 157, 158, 159, 160, 161, 162, 163, 164, 165, 166, 167, 168, 169, 170, 171, 172, 173, 174, 175, 176, 177, 178, 179, 180, 181, 182, 183, 184, 185, 186, 187, 188, 189, 190, 191, 192, 193, 194, 195, 196, 197, 198, 199, 200, 201, 202, 203, 204, 205, 206, 207, 208, 209, 210, 211, 212, 213, 214, 215, 216, 217, 218, 219, 220, 221, 222, 223, 224, 225, 226, 227, 228, 229, 230, 231, 232, 233, 234, 235, 236, 237, 238, 239, 240, 241, 242, 243, 244, 245, 246, 247, 248, 249, 250, 251, 252, 253, 254, 255]\n"
     ]
    }
   ],
   "source": [
    "x_disc = caim.fit_transform(x, y)"
   ]
  },
  {
   "cell_type": "code",
   "execution_count": 28,
   "metadata": {
    "colab": {
     "base_uri": "https://localhost:8080/"
    },
    "id": "j4Cmd5OjZqcn",
    "outputId": "9750192d-c8e8-4be6-9a25-194a9896d97f"
   },
   "outputs": [
    {
     "name": "stdout",
     "output_type": "stream",
     "text": [
      "(9298, 257)\n"
     ]
    }
   ],
   "source": [
    "data = x_disc\n",
    "data['class'] = y;\n",
    "print(data.shape)"
   ]
  },
  {
   "cell_type": "code",
   "execution_count": 29,
   "metadata": {
    "colab": {
     "base_uri": "https://localhost:8080/"
    },
    "id": "afRS1pMCZvxW",
    "outputId": "26e34df7-8403-438b-8f50-b77caa506d6b"
   },
   "outputs": [
    {
     "name": "stdout",
     "output_type": "stream",
     "text": [
      "{'criterion': 'entropy', 'max_depth': 8, 'max_features': 'sqrt', 'n_estimators': 500}\n",
      "Random Forest Accuracy\n",
      "0.9731182795698925\n"
     ]
    }
   ],
   "source": [
    "parameters = {'n_estimators': [200, 500], 'max_features': ['sqrt', 'log2'], 'max_depth': [4, 5, 6, 7, 8], 'criterion':['gini', 'entropy', 'log_loss']}\n",
    "rfc=RandomForestClassifier(random_state=42)\n",
    "clf = GridSearchCV(rfc, parameters)\n",
    "x = data[feature_list[:-1]]\n",
    "y = data['class'];\n",
    "x_train, x_test, y_train, y_test = train_test_split(x, y, test_size=0.20, random_state=1, stratify=y)\n",
    "clf.fit(x, y)\n",
    "sorted(clf.cv_results_)\n",
    "print(clf.best_params_)\n",
    "\n",
    "predictions = clf.predict(x_test)\n",
    "print(\"Random Forest Accuracy\")\n",
    "print(accuracy_score(y_test, predictions))"
   ]
  },
  {
   "cell_type": "code",
   "execution_count": 30,
   "metadata": {
    "colab": {
     "base_uri": "https://localhost:8080/"
    },
    "id": "-CBwY2LfZzW2",
    "outputId": "d9d6f1a8-5572-47e9-e90a-d9749ed3a446"
   },
   "outputs": [
    {
     "name": "stdout",
     "output_type": "stream",
     "text": [
      "x: 0\n",
      "x: 1\n",
      "x: 2\n",
      "x: 3\n",
      "x: 4\n",
      "x: 5\n",
      "x: 6\n",
      "x: 7\n",
      "x: 8\n",
      "x: 9\n",
      "x: 10\n",
      "x: 11\n",
      "x: 12\n",
      "x: 13\n",
      "x: 14\n",
      "x: 15\n",
      "x: 16\n",
      "x: 17\n",
      "x: 18\n",
      "x: 19\n",
      "x: 20\n",
      "x: 21\n",
      "x: 22\n",
      "x: 23\n",
      "x: 24\n",
      "x: 25\n",
      "x: 26\n",
      "x: 27\n",
      "x: 28\n",
      "x: 29\n",
      "x: 30\n",
      "x: 31\n",
      "x: 32\n",
      "x: 33\n",
      "x: 34\n",
      "x: 35\n",
      "x: 36\n",
      "x: 37\n",
      "x: 38\n",
      "x: 39\n",
      "x: 40\n",
      "x: 41\n",
      "x: 42\n",
      "x: 43\n",
      "x: 44\n",
      "x: 45\n",
      "x: 46\n",
      "x: 47\n",
      "x: 48\n",
      "x: 49\n",
      "x: 50\n",
      "x: 51\n",
      "x: 52\n",
      "x: 53\n",
      "x: 54\n",
      "x: 55\n",
      "x: 56\n",
      "x: 57\n",
      "x: 58\n",
      "x: 59\n",
      "x: 60\n",
      "x: 61\n",
      "x: 62\n",
      "x: 63\n",
      "x: 64\n",
      "x: 65\n",
      "x: 66\n",
      "x: 67\n",
      "x: 68\n",
      "x: 69\n",
      "x: 70\n",
      "x: 71\n",
      "x: 72\n",
      "x: 73\n",
      "x: 74\n",
      "x: 75\n",
      "x: 76\n",
      "x: 77\n",
      "x: 78\n",
      "x: 79\n",
      "x: 80\n",
      "x: 81\n",
      "x: 82\n",
      "x: 83\n",
      "x: 84\n",
      "x: 85\n",
      "x: 86\n",
      "x: 87\n",
      "x: 88\n",
      "x: 89\n",
      "x: 90\n",
      "x: 91\n",
      "x: 92\n",
      "x: 93\n",
      "x: 94\n",
      "x: 95\n",
      "x: 96\n",
      "x: 97\n",
      "x: 98\n",
      "x: 99\n",
      "x: 100\n",
      "x: 101\n",
      "x: 102\n",
      "x: 103\n",
      "x: 104\n",
      "x: 105\n",
      "x: 106\n",
      "x: 107\n",
      "x: 108\n",
      "x: 109\n",
      "x: 110\n",
      "x: 111\n",
      "x: 112\n",
      "x: 113\n",
      "x: 114\n",
      "x: 115\n",
      "x: 116\n",
      "x: 117\n",
      "x: 118\n",
      "x: 119\n",
      "x: 120\n",
      "x: 121\n",
      "x: 122\n",
      "x: 123\n",
      "x: 124\n",
      "x: 125\n",
      "x: 126\n",
      "x: 127\n",
      "x: 128\n",
      "x: 129\n",
      "x: 130\n",
      "x: 131\n",
      "x: 132\n",
      "x: 133\n",
      "x: 134\n",
      "x: 135\n",
      "x: 136\n",
      "x: 137\n",
      "x: 138\n",
      "x: 139\n",
      "x: 140\n",
      "x: 141\n",
      "x: 142\n",
      "x: 143\n",
      "x: 144\n",
      "x: 145\n",
      "x: 146\n",
      "x: 147\n",
      "x: 148\n",
      "x: 149\n",
      "x: 150\n",
      "x: 151\n",
      "x: 152\n",
      "x: 153\n",
      "x: 154\n",
      "x: 155\n",
      "x: 156\n",
      "x: 157\n",
      "x: 158\n",
      "x: 159\n",
      "x: 160\n",
      "x: 161\n",
      "x: 162\n",
      "x: 163\n",
      "x: 164\n",
      "x: 165\n",
      "x: 166\n",
      "x: 167\n",
      "x: 168\n",
      "x: 169\n",
      "x: 170\n",
      "x: 171\n",
      "x: 172\n",
      "x: 173\n",
      "x: 174\n",
      "x: 175\n",
      "x: 176\n",
      "x: 177\n",
      "x: 178\n",
      "x: 179\n",
      "x: 180\n",
      "x: 181\n",
      "x: 182\n",
      "x: 183\n",
      "x: 184\n",
      "x: 185\n",
      "x: 186\n",
      "x: 187\n",
      "x: 188\n",
      "x: 189\n",
      "x: 190\n",
      "x: 191\n",
      "x: 192\n",
      "x: 193\n",
      "x: 194\n",
      "x: 195\n",
      "x: 196\n",
      "x: 197\n",
      "x: 198\n",
      "x: 199\n",
      "x: 200\n",
      "x: 201\n",
      "x: 202\n",
      "x: 203\n",
      "x: 204\n",
      "x: 205\n",
      "x: 206\n",
      "x: 207\n",
      "x: 208\n",
      "x: 209\n",
      "x: 210\n",
      "x: 211\n",
      "x: 212\n",
      "x: 213\n",
      "x: 214\n",
      "x: 215\n",
      "x: 216\n",
      "x: 217\n",
      "x: 218\n",
      "x: 219\n",
      "x: 220\n",
      "x: 221\n",
      "x: 222\n",
      "x: 223\n",
      "x: 224\n",
      "x: 225\n",
      "x: 226\n",
      "x: 227\n",
      "x: 228\n",
      "x: 229\n",
      "x: 230\n",
      "x: 231\n",
      "x: 232\n",
      "x: 233\n",
      "x: 234\n",
      "x: 235\n",
      "x: 236\n",
      "x: 237\n",
      "x: 238\n",
      "x: 239\n",
      "x: 240\n",
      "x: 241\n",
      "x: 242\n",
      "x: 243\n",
      "x: 244\n",
      "x: 245\n",
      "x: 246\n",
      "x: 247\n",
      "x: 248\n",
      "x: 249\n",
      "x: 250\n",
      "x: 251\n",
      "x: 252\n",
      "x: 253\n",
      "x: 254\n",
      "x: 255\n",
      "x: 256\n",
      "populate Data\n"
     ]
    }
   ],
   "source": [
    "length=len(feature_list)\n",
    "entropy_list = [0]*length;\n",
    "joint_entropy_list = defaultdict(dict);\n",
    "conditional_entropy_list = defaultdict(dict);\n",
    "joint_entropy_list3 = defaultdict(dict);\n",
    "covariance_list = defaultdict(dict);\n",
    "for i in range(length):\n",
    "    entropy_list[i] = entropy(data[feature_list[i]])\n",
    "    for j in range(i,length):\n",
    "        joint_entropy_list[i][j] = joint_entropy(data[feature_list[i]],data[feature_list[j]])\n",
    "        joint_entropy_list3[i][j] = joint_entropy_3(data[feature_list[i]],data[feature_list[j]],data[feature_list[length-1]]);\n",
    "\n",
    "    print(\"x: %s\" %(i))\n",
    "\n",
    "\n",
    "for i in range(length):\n",
    "  for j in range(length):\n",
    "    conditional_entropy_list[i][j] = ret_joint_entropy(i,j)-entropy_list[j];\n",
    "    covariance_list[i][j] = return_corelation(data[feature_list[i]],data[feature_list[j]])\n",
    "\n",
    "print(\"populate Data\")\n"
   ]
  },
  {
   "cell_type": "code",
   "execution_count": 31,
   "metadata": {
    "colab": {
     "base_uri": "https://localhost:8080/"
    },
    "id": "BOKxhTlJZ3NP",
    "outputId": "8d59923f-545b-4e7d-ff67-a6ea66c39c36"
   },
   "outputs": [
    {
     "name": "stdout",
     "output_type": "stream",
     "text": [
      "MIM\n",
      "35.17967059041402;34.233353009942476; 24.241883398729126;34.222588747294466; 0\n",
      "43.53636121624593;41.47140525712699; 34.5446832644652;35.14756299408544; 0\n",
      "47.225100408579;43.46095350533005; 39.76094077340648;38.352408069724646; 0\n",
      "50.32265009201707;46.30033450235541; 42.93406021042397;40.24530944361494; 0\n",
      "56.60349317684642;54.72140236350798; 52.043705221246114;46.94542634582219; 0\n",
      "58.00136578816394;56.13007396090141; 53.54900054400036;47.92412931004549; 0\n",
      "57.850816579279375;56.635554475271135; 54.215644061715096;48.364896929291525; 0\n",
      "57.37768672523351;57.065696725580736; 54.90404759424518;47.94547264372605; 0\n",
      "57.356181348889436;57.23777445976134; 55.22683657997385;46.55802863525354; 0\n",
      "57.25939558086507;57.947648645207586; 55.796543861476664;46.93451161498663; 0\n",
      "57.99065939789576;60.92680301399355; 59.19506464344828;51.526696528814654; 0\n",
      "60.109448244730714;64.41144947162518; 62.475444749238974;52.881882472771046; 0\n",
      "60.48572288389643;64.79852309686679; 62.1957591120062;52.75279234232671; 0\n",
      "61.27078486521522;65.57293656029724; 63.314432214081506;52.698971029086664; 0\n",
      "62.012836093845856;66.09970253596768; 63.63688554000717;53.118441612556; 0\n",
      "62.970091554104876;66.34717640658819; 64.85229811220296;53.15069967707212; 0\n",
      "63.14229660752109;66.8526916443858; 65.14266699075199;53.16149866314803; 0\n",
      "63.013171753648855;67.09992245101103; 65.41155364190885;53.2044746924083; 0\n",
      "63.14225030961723;67.42253781960021; 65.18568931791613;53.37648297973308; 0\n",
      "63.69067212981931;67.6269546396287; 65.72343947127794;53.49477412410153; 0\n",
      "63.24967302105398;67.766820607197; 65.03516325798351;53.666851858282115; 0\n",
      "64.40078937926084;69.42307024549463; 66.94947741241015;54.667060198849505; 0\n",
      "66.15358172158756;70.35888977626537; 68.20791231177009;55.81792191858514; 0\n",
      "66.31510353368752;70.68150514485455; 68.44464506869453;55.828686181233145; 0\n",
      "66.16445015451924;70.65995347060662; 68.59513640519926;55.893260182645236; 0\n",
      "66.44421681308378;71.01485005266387; 68.73487505353195;55.79647441462089; 0\n",
      "67.08964431635358;71.75693600472239; 69.96090142018821;56.710649675335944; 0\n",
      "67.35848466960658;72.1548780628957; 69.92867807909997;56.57085315462342; 0\n",
      "67.3368751229788;72.498987233353; 69.87482204243203;56.36652893040267; 0\n",
      "67.81003970045256;72.61734782457725; 70.52026112017778;56.05468939893748; 0\n",
      "67.26144426311099;72.75720221766959; 70.54174334756993;55.968656319085156; 0\n",
      "67.31514983159137;72.77867287058578; 70.76765396946654;56.33423614245865; 0\n",
      "67.48754007662303;73.06915749389447; 70.95046124286722;56.613921779691424; 0\n",
      "67.72405291850411;73.17670752456682; 71.41300045140456;56.818280727340074; 0\n",
      "67.53055082931121;72.9507737537183; 71.27320393069203;56.613944928643356; 0\n",
      "69.03612393948865;74.32716413764368; 72.47778279338402;57.420547009734136; 0\n",
      "69.70253596768407;75.99438637915668; 74.17705475884578;58.979976156579525; 0\n",
      "69.89607278030486;76.10183223954536; 74.32777758486985;59.41017627926895; 0\n",
      "70.00381957706865;75.98359896755674; 74.23096866789356;59.2380869706124; 0\n",
      "70.31563595958194;75.87607208583631; 74.23084134865793;59.25961549590841; 0\n",
      "69.91767075245667;76.27402571848559; 74.47814160213896;59.25961549590841; 0\n",
      "70.76728358623562;76.56454506522218; 75.0696204729331;59.80817620982209; 0\n",
      "70.68122735743138;76.61814646341887; 74.90830700140052;59.80817620982211; 0\n",
      "70.79955322522771;76.84409180874336; 75.25249719318958;59.58224243897357; 0\n",
      "70.76724886280775;76.69351945090685; 75.13412502748939;59.496255657025124; 0\n",
      "72.14406750234383;78.08095188490341; 76.2417560794935;60.59329606352073; 0\n",
      "71.40210886952094;78.15626700001158; 76.2202854265773;61.0342488743822; 0\n",
      "71.9826730094795;78.188420894244; 76.188085234441;61.08807018762226; 0\n",
      "71.9073694688473;78.27454656990405; 76.11278169380881;61.45374260680347; 0\n",
      "72.283979767816;78.62947787538918; 76.70431843698276;62.13139345116151; 0\n",
      "72.43444795536882;78.6509716772573; 76.81183374422723;62.22822551708972; 0\n",
      "72.49888306306931;78.56495017188097; 76.8548444969154;62.238874034978075; 0\n",
      "72.86475224834197;78.56496174635691; 76.74736391309884;62.59378219151127; 0\n",
      "72.4772503674896;78.58642082479716; 76.94090072571964;62.292614326886344; 0\n",
      "75.47826892137458;80.7910807088209; 79.62946630091322;63.94884081623204; 0\n",
      "75.16642938990937;80.84487887310901; 79.60791462666528;63.84129078555968; 0\n",
      "75.98352952070094;81.82381332685165; 80.41460930356378;64.863050800375; 0\n",
      "76.69335740824334;82.09267682905657; 81.18899961804227;65.39001354213687; 0\n",
      "76.63966341423892;82.21088695209325; 81.44712200655115;65.43300114587312; 0\n",
      "76.75794298413139;82.38284894151417; 81.23191777492274;65.61587786612961; 0\n",
      "76.40306955102606;82.30754540088198; 81.13520145375418;65.3254395407248; 0\n",
      "76.59665266155075;82.4366008078984; 81.40415755176684;65.2071368218804; 0\n",
      "79.24236952671968;84.72757155919766; 83.97465189763534;66.90643193629408; 0\n",
      "78.85522645462227;84.78126555320206; 83.9745940252555;66.7666238411056; 0\n",
      "79.46840746785189;85.20056251953193; 84.15747074551201;67.43352199729158; 0\n",
      "79.44691366598377;85.14683380209961; 84.45860388670903;67.8745326805329; 0\n",
      "80.1674595182703;85.56633910899684; 85.23293632880771;69.31567068300983; 0\n",
      "79.97383010984177;85.81368566038172; 85.56640855585265;69.77807099783557; 0\n",
      "81.08139171499012;86.30840191210342; 86.6740627568087;72.61741727143304; 0\n",
      "81.08148431079782;86.3514473882195; 86.62025301804461;72.4345868490804; 0\n",
      "81.79133534729216;86.27612069863538; 86.74937787191685;72.8110003819577; 0\n",
      "81.2965033508108;86.28687338680741; 86.9107260668773;73.31643459842357; 0\n",
      "81.72696968644743;87.08287324791371; 87.29785756449877;74.32743035059089; 0\n",
      "82.00640068520897;87.58824959199971; 87.71737444587198;74.9942474854451; 0\n",
      "82.04937671446926;87.64200145838397; 87.57750847830363;74.94049561906084; 0\n",
      "81.79140479414795;87.46987742629952; 87.69583434609997;75.03725823813328; 0\n",
      "81.80209960994016;87.5559220806278; 87.64205933076381;74.86518050395269; 0\n",
      "82.49046841904233;87.7064597150364; 87.93245135826476;75.28460478951816; 0\n",
      "83.23262381795665;88.34109980670624; 88.45950669583435;75.88682477400836; 0\n",
      "83.34023172100883;88.38404111253861; 88.5671608967904;76.28477840665764; 0\n",
      "83.59841198189753;88.53461347037512; 88.50269106566199;76.26327303031356; 0\n",
      "83.25405974744493;88.38412213387039; 88.50266791671008;75.94059978934453; 0\n",
      "83.44778175168119;88.35187564383024; 88.58871257103836;75.97285785386066; 0\n",
      "83.4263458221929;88.5562924638587; 88.93287961387546;76.42462122527402; 0\n",
      "83.64121439401832;88.48100049770247; 88.90055210250355;76.5644640438904; 0\n",
      "83.51217056147782;88.54549347778277; 88.86824774008358;76.46764355243818; 0\n",
      "83.61976689005405;88.67458360822712; 88.8574371795317;76.69348472747896; 0\n",
      "83.37235089181337;88.86808569742006; 88.86818986770373;77.0806856719562; 0\n",
      "83.37255923238075;88.77132307834763; 88.95429239441185;77.33880806046506; 0\n",
      "83.08202831116822;88.7282313043277; 88.9758093452319;77.40337048740119; 0\n",
      "83.71674942416982;88.73892612011991; 89.22319062004469;77.73676169311435; 0\n",
      "83.28639883329284;88.77123048253989; 89.07259511325624;77.53236802203779; 0\n",
      "83.6304848547982;88.78206419204369; 89.13708809333656;77.65069388983413; 0\n",
      "83.46906721298193;88.82508651920786; 89.10484160329639;77.5968725765941; 0\n",
      "83.4260101623899;88.83582763290391; 89.12640485202033;77.48935726934963; 0\n",
      "83.60889845712235;88.83581605842797; 89.08342882276006;77.6076368392421; 0\n",
      "83.6303228121347;88.87883838559209; 89.10487632672431;77.90873525701124; 0\n",
      "83.87780825723115;88.71757121196339; 89.59958100397006;78.38199243029271; 0\n",
      "84.1574012986562;88.85743717953169; 89.9974420408116;78.62943157748535; 0\n",
      "83.8454923203352;88.93271757121197; 90.08344039723602;79.00576408903086; 0\n",
      "[195, 179, 194, 178, 189, 209, 211, 193, 210, 212, 173, 162, 226, 163, 188, 205, 177, 225, 196, 204, 227, 146, 157, 206, 190, 221, 147, 242, 222, 161, 241, 228, 174, 172, 243, 130, 141, 145, 208, 220, 203, 131, 192, 238, 237, 114, 158, 224, 219, 115, 129, 229, 180, 176, 167, 207, 151, 125, 156, 142, 244, 213, 93, 223, 99, 109, 77, 98, 75, 191, 92, 76, 29, 100, 236, 113, 160, 135, 120, 136, 164, 254, 126, 84, 83, 253, 116, 61, 152, 82, 45, 175, 148, 240, 239, 235, 91, 119, 13, 44]\n",
      "-----------------------------------\n"
     ]
    }
   ],
   "source": [
    "print(\"MIM\")\n",
    "xk = [];\n",
    "current_mi = 0;\n",
    "loop_counter = 100 if (length-1)>100 else length-1;\n",
    "# print(feature_list)\n",
    "while len(xk) < loop_counter:\n",
    "    mi = [0] * length;\n",
    "    accurecy = [0] * length;\n",
    "    current_mi = 0;\n",
    "\n",
    "    for i in range(length - 1):\n",
    "        if (i in xk):\n",
    "            continue;\n",
    "            \n",
    "\n",
    "        mi[i] = get_mutual_info(i, length - 1);\n",
    "\n",
    "    (m, p) = max((v, i) for i, v in enumerate(mi))\n",
    "    # print(mi)\n",
    "    xk.append(p)\n",
    "     #print(feature_name(xk))\n",
    "\n",
    "    accurecy = selection_accurecy_dt(feature_array(xk))\n",
    "    accurecy2 = selection_accurecy_svm(feature_array(xk))\n",
    "    accurecy3 = selection_accurecy_KNN(feature_array(xk))\n",
    "    accurecy4 = selection_accurecy_nb(feature_array(xk))\n",
    "    accurecy5 =0\n",
    "    print(f\"%s;%s; %s;%s; %s\" % (accurecy, accurecy2, accurecy3, accurecy4, accurecy5));\n",
    "\n",
    "\n",
    "print(xk)\n",
    "pref = xk[0];\n",
    "print('-----------------------------------')\n"
   ]
  },
  {
   "cell_type": "code",
   "execution_count": 32,
   "metadata": {
    "id": "7YyrRqVGZ8P-"
   },
   "outputs": [
    {
     "name": "stdout",
     "output_type": "stream",
     "text": [
      "{'criterion': 'gini', 'max_depth': 8, 'max_features': 'sqrt', 'n_estimators': 200}\n",
      "Random Forest Accuracy\n",
      "0.6419354838709678\n"
     ]
    }
   ],
   "source": [
    "parameters = {'n_estimators': [200, 500], 'max_features': ['sqrt', 'log2'], 'max_depth': [4, 5, 6, 7, 8], 'criterion':['gini', 'entropy', 'log_loss']}\n",
    "rfc=RandomForestClassifier(random_state=42)\n",
    "clf = GridSearchCV(rfc, parameters)\n",
    "column_positions = [195, 179, 194, 178, 189, 209]\n",
    "x = data.iloc[:, column_positions]\n",
    "y = data['class'];\n",
    "x_train, x_test, y_train, y_test = train_test_split(x, y, test_size=0.20, random_state=1, stratify=y)\n",
    "clf.fit(x, y)\n",
    "sorted(clf.cv_results_)\n",
    "print(clf.best_params_)\n",
    "\n",
    "predictions = clf.predict(x_test)\n",
    "print(\"Random Forest Accuracy\")\n",
    "print(accuracy_score(y_test, predictions))"
   ]
  },
  {
   "cell_type": "code",
   "execution_count": 33,
   "metadata": {},
   "outputs": [
    {
     "name": "stdout",
     "output_type": "stream",
     "text": [
      "{'criterion': 'gini', 'max_depth': 8, 'max_features': 'sqrt', 'n_estimators': 500}\n",
      "Try no. 0 Random Forest Accuracy: Using features [195, 179, 194]\n",
      "0.5026881720430108\n",
      "{'criterion': 'entropy', 'max_depth': 8, 'max_features': 'sqrt', 'n_estimators': 200}\n",
      "Try no. 1 Random Forest Accuracy: Using features [195, 179, 178]\n",
      "0.5145161290322581\n",
      "{'criterion': 'entropy', 'max_depth': 7, 'max_features': 'sqrt', 'n_estimators': 500}\n",
      "Try no. 2 Random Forest Accuracy: Using features [195, 179, 189]\n",
      "0.5483870967741935\n",
      "{'criterion': 'entropy', 'max_depth': 6, 'max_features': 'sqrt', 'n_estimators': 200}\n",
      "Try no. 3 Random Forest Accuracy: Using features [195, 179, 209]\n",
      "0.5\n",
      "{'criterion': 'gini', 'max_depth': 8, 'max_features': 'sqrt', 'n_estimators': 500}\n",
      "Try no. 4 Random Forest Accuracy: Using features [195, 194, 178]\n",
      "0.49193548387096775\n",
      "{'criterion': 'gini', 'max_depth': 8, 'max_features': 'sqrt', 'n_estimators': 200}\n",
      "Try no. 5 Random Forest Accuracy: Using features [195, 194, 189]\n",
      "0.5198924731182796\n",
      "{'criterion': 'entropy', 'max_depth': 7, 'max_features': 'sqrt', 'n_estimators': 200}\n",
      "Try no. 6 Random Forest Accuracy: Using features [195, 194, 209]\n",
      "0.46774193548387094\n",
      "{'criterion': 'gini', 'max_depth': 8, 'max_features': 'sqrt', 'n_estimators': 200}\n",
      "Try no. 7 Random Forest Accuracy: Using features [195, 178, 189]\n",
      "0.5655913978494623\n",
      "{'criterion': 'gini', 'max_depth': 8, 'max_features': 'sqrt', 'n_estimators': 500}\n",
      "Try no. 8 Random Forest Accuracy: Using features [195, 178, 209]\n",
      "0.5134408602150538\n",
      "{'criterion': 'gini', 'max_depth': 8, 'max_features': 'sqrt', 'n_estimators': 500}\n",
      "Try no. 9 Random Forest Accuracy: Using features [195, 189, 209]\n",
      "0.5311827956989247\n",
      "{'criterion': 'gini', 'max_depth': 8, 'max_features': 'sqrt', 'n_estimators': 200}\n",
      "Try no. 10 Random Forest Accuracy: Using features [179, 194, 178]\n",
      "0.5155913978494624\n",
      "{'criterion': 'gini', 'max_depth': 7, 'max_features': 'sqrt', 'n_estimators': 200}\n",
      "Try no. 11 Random Forest Accuracy: Using features [179, 194, 189]\n",
      "0.5387096774193548\n",
      "{'criterion': 'gini', 'max_depth': 6, 'max_features': 'sqrt', 'n_estimators': 500}\n",
      "Try no. 12 Random Forest Accuracy: Using features [179, 194, 209]\n",
      "0.4720430107526882\n",
      "{'criterion': 'entropy', 'max_depth': 8, 'max_features': 'sqrt', 'n_estimators': 200}\n",
      "Try no. 13 Random Forest Accuracy: Using features [179, 178, 189]\n",
      "0.5473118279569893\n",
      "{'criterion': 'entropy', 'max_depth': 6, 'max_features': 'sqrt', 'n_estimators': 500}\n",
      "Try no. 14 Random Forest Accuracy: Using features [179, 178, 209]\n",
      "0.5252688172043011\n",
      "{'criterion': 'entropy', 'max_depth': 7, 'max_features': 'sqrt', 'n_estimators': 500}\n",
      "Try no. 15 Random Forest Accuracy: Using features [179, 189, 209]\n",
      "0.5655913978494623\n",
      "{'criterion': 'gini', 'max_depth': 8, 'max_features': 'sqrt', 'n_estimators': 200}\n",
      "Try no. 16 Random Forest Accuracy: Using features [194, 178, 189]\n",
      "0.560752688172043\n",
      "{'criterion': 'gini', 'max_depth': 7, 'max_features': 'sqrt', 'n_estimators': 500}\n",
      "Try no. 17 Random Forest Accuracy: Using features [194, 178, 209]\n",
      "0.48118279569892475\n",
      "{'criterion': 'entropy', 'max_depth': 7, 'max_features': 'sqrt', 'n_estimators': 500}\n",
      "Try no. 18 Random Forest Accuracy: Using features [194, 189, 209]\n",
      "0.5037634408602151\n",
      "{'criterion': 'gini', 'max_depth': 8, 'max_features': 'sqrt', 'n_estimators': 200}\n",
      "Try no. 19 Random Forest Accuracy: Using features [178, 189, 209]\n",
      "0.5731182795698925\n"
     ]
    }
   ],
   "source": [
    "from itertools import combinations\n",
    "\n",
    "items = [195, 179, 194, 178, 189, 209]\n",
    "selected_combinations = list(combinations(items, 3))\n",
    "\n",
    "tries = len(selected_combinations)\n",
    "\n",
    "for i in range(0, (tries)):\n",
    "    features = list(selected_combinations[i])\n",
    "\n",
    "    parameters = {'n_estimators': [200, 500], 'max_features': ['sqrt', 'log2'], 'max_depth': [4, 5, 6, 7, 8], 'criterion':['gini', 'entropy', 'log_loss']}\n",
    "    rfc=RandomForestClassifier(random_state=42)\n",
    "    clf = GridSearchCV(rfc, parameters)\n",
    "    x = data.iloc[:, features]\n",
    "    y = data['class'];\n",
    "    x_train, x_test, y_train, y_test = train_test_split(x, y, test_size=0.20, random_state=1, stratify=y)\n",
    "    clf.fit(x, y)\n",
    "    sorted(clf.cv_results_)\n",
    "    print(clf.best_params_)\n",
    "\n",
    "    predictions = clf.predict(x_test)\n",
    "    print(f\"Try no. {i} Random Forest Accuracy: Using features {features}\")\n",
    "    print(accuracy_score(y_test, predictions))\n"
   ]
  }
 ],
 "metadata": {
  "accelerator": "GPU",
  "colab": {
   "provenance": []
  },
  "gpuClass": "standard",
  "kernelspec": {
   "display_name": "Python 3 (ipykernel)",
   "language": "python",
   "name": "python3"
  },
  "language_info": {
   "codemirror_mode": {
    "name": "ipython",
    "version": 3
   },
   "file_extension": ".py",
   "mimetype": "text/x-python",
   "name": "python",
   "nbconvert_exporter": "python",
   "pygments_lexer": "ipython3",
   "version": "3.8.10"
  }
 },
 "nbformat": 4,
 "nbformat_minor": 1
}
