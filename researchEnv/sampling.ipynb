{
 "cells": [
  {
   "cell_type": "code",
   "execution_count": null,
   "metadata": {
    "colab": {
     "base_uri": "https://localhost:8080/"
    },
    "id": "3om5b7ViaZ0_",
    "outputId": "4840f409-cdd0-423e-ada8-5fc4ad97c4c4"
   },
   "outputs": [],
   "source": [
    "%pip install  pandas scikit-learn xgboost "
   ]
  },
  {
   "cell_type": "code",
   "execution_count": null,
   "metadata": {
    "colab": {
     "base_uri": "https://localhost:8080/",
     "height": 356
    },
    "id": "J9pec9xsYESA",
    "outputId": "940341e9-2204-43e7-af39-967448623870"
   },
   "outputs": [],
   "source": [
    "import pandas as pd \n",
    "import numpy as np"
   ]
  },
  {
   "cell_type": "code",
   "execution_count": null,
   "metadata": {
    "id": "-e0ni8-KZcQH"
   },
   "outputs": [],
   "source": [
    "\n",
    "file_location = \"/home/rakin/Desktop/Thesis datasets/unsw_nb_15_cat_in_num_binaryclass.csv\"\n",
    "main_data = pd.read_csv(file_location)\n",
    "print(main_data.shape)"
   ]
  },
  {
   "cell_type": "code",
   "execution_count": null,
   "metadata": {},
   "outputs": [],
   "source": [
    "\n",
    "# Select 10,000 random rows\n",
    "df_sample = main_data.sample(5000)\n"
   ]
  },
  {
   "cell_type": "code",
   "execution_count": null,
   "metadata": {},
   "outputs": [],
   "source": [
    "main_data.head()"
   ]
  },
  {
   "cell_type": "code",
   "execution_count": null,
   "metadata": {},
   "outputs": [],
   "source": [
    "def stratified_sample(df, n, column_name):\n",
    "    \"\"\"\n",
    "    Randomly selects a sample of n rows from a Pandas DataFrame, maintaining the ratio of the specified column.\n",
    "\n",
    "    Args:\n",
    "        df (pandas.DataFrame): The DataFrame to sample from.\n",
    "        n (int): The number of rows to sample.\n",
    "        column_name (str): The name of the column to maintain the ratio for.\n",
    "\n",
    "    Returns:\n",
    "        pandas.DataFrame: A DataFrame containing the sampled rows.\n",
    "    \"\"\"\n",
    "    # Calculate the ratio of values in the specified column\n",
    "    ratios = df[column_name].value_counts() / df[column_name].count()\n",
    "\n",
    "    # Sample from each category based on the calculated ratios\n",
    "    sampled_df = pd.DataFrame()\n",
    "    for category, ratio in ratios.items():\n",
    "        # Calculate the number of rows to sample from this category\n",
    "        n_sample = int(n * ratio)\n",
    "\n",
    "        # Sample rows from this category\n",
    "        sampled_category = df[df[column_name] == category].sample(n_sample)\n",
    "        sampled_df = pd.concat([sampled_df, sampled_category])\n",
    "\n",
    "    # Shuffle the sampled rows\n",
    "    sampled_df = sampled_df.sample(frac=1)\n",
    "\n",
    "    return sampled_df\n",
    "\n",
    "\n"
   ]
  },
  {
   "cell_type": "code",
   "execution_count": null,
   "metadata": {},
   "outputs": [],
   "source": [
    "class_cnt = main_data['0'].value_counts()\n",
    "\n",
    "# Print the frequency of values\n",
    "print(class_cnt)"
   ]
  },
  {
   "cell_type": "code",
   "execution_count": null,
   "metadata": {},
   "outputs": [],
   "source": [
    "# Select 10,000 random rows maintaining the ratio of the column '0'\n",
    "df_sample = stratified_sample(main_data, 100000, '0')"
   ]
  },
  {
   "cell_type": "code",
   "execution_count": null,
   "metadata": {},
   "outputs": [],
   "source": [
    "df_sample.head()"
   ]
  },
  {
   "cell_type": "code",
   "execution_count": null,
   "metadata": {},
   "outputs": [],
   "source": [
    "class_cnt = df_sample['0'].value_counts()\n",
    "\n",
    "# Print the frequency of values\n",
    "print(class_cnt)"
   ]
  },
  {
   "cell_type": "code",
   "execution_count": null,
   "metadata": {},
   "outputs": [],
   "source": [
    "df_sample.to_csv('../datasets/unsw_nb_15_cat_in_num_binaryclass_100k_sample.csv', index=False)\n"
   ]
  }
 ],
 "metadata": {
  "accelerator": "GPU",
  "colab": {
   "provenance": []
  },
  "gpuClass": "standard",
  "kernelspec": {
   "display_name": "Python 3 (ipykernel)",
   "language": "python",
   "name": "python3"
  },
  "language_info": {
   "codemirror_mode": {
    "name": "ipython",
    "version": 3
   },
   "file_extension": ".py",
   "mimetype": "text/x-python",
   "name": "python",
   "nbconvert_exporter": "python",
   "pygments_lexer": "ipython3",
   "version": "3.9.18"
  }
 },
 "nbformat": 4,
 "nbformat_minor": 1
}
