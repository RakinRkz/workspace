{
 "cells": [
  {
   "cell_type": "code",
   "execution_count": 2,
   "metadata": {
    "colab": {
     "base_uri": "https://localhost:8080/"
    },
    "id": "3om5b7ViaZ0_",
    "outputId": "4840f409-cdd0-423e-ada8-5fc4ad97c4c4"
   },
   "outputs": [
    {
     "name": "stdout",
     "output_type": "stream",
     "text": [
      "Requirement already satisfied: caimcaim in ./lib/python3.8/site-packages (0.3)\n",
      "Requirement already satisfied: pandas in ./lib/python3.8/site-packages (2.0.2)\n",
      "Requirement already satisfied: scikit-learn in ./lib/python3.8/site-packages (1.2.2)\n",
      "Requirement already satisfied: xgboost in ./lib/python3.8/site-packages (1.7.5)\n",
      "Requirement already satisfied: numpy in ./lib/python3.8/site-packages (from caimcaim) (1.24.3)\n",
      "Requirement already satisfied: sklearn in ./lib/python3.8/site-packages (from caimcaim) (0.0.post5)\n",
      "Requirement already satisfied: python-dateutil>=2.8.2 in ./lib/python3.8/site-packages (from pandas) (2.8.2)\n",
      "Requirement already satisfied: pytz>=2020.1 in ./lib/python3.8/site-packages (from pandas) (2023.3)\n",
      "Requirement already satisfied: tzdata>=2022.1 in ./lib/python3.8/site-packages (from pandas) (2023.3)\n",
      "Requirement already satisfied: scipy>=1.3.2 in ./lib/python3.8/site-packages (from scikit-learn) (1.10.1)\n",
      "Requirement already satisfied: joblib>=1.1.1 in ./lib/python3.8/site-packages (from scikit-learn) (1.2.0)\n",
      "Requirement already satisfied: threadpoolctl>=2.0.0 in ./lib/python3.8/site-packages (from scikit-learn) (3.1.0)\n",
      "Requirement already satisfied: six>=1.5 in ./lib/python3.8/site-packages (from python-dateutil>=2.8.2->pandas) (1.16.0)\n",
      "Note: you may need to restart the kernel to use updated packages.\n"
     ]
    }
   ],
   "source": [
    "%pip install caimcaim pandas scikit-learn xgboost"
   ]
  },
  {
   "cell_type": "code",
   "execution_count": 3,
   "metadata": {
    "colab": {
     "base_uri": "https://localhost:8080/",
     "height": 356
    },
    "id": "J9pec9xsYESA",
    "outputId": "940341e9-2204-43e7-af39-967448623870"
   },
   "outputs": [],
   "source": [
    "import pandas as pd \n",
    "from IPython.display import  clear_output\n",
    "import numpy as np\n",
    "from sklearn.ensemble import RandomForestClassifier\n",
    "from sklearn.model_selection import train_test_split \n",
    "from sklearn.feature_selection import SelectKBest\n",
    "from sklearn.feature_selection import mutual_info_classif\n",
    "import math\n",
    "from collections import defaultdict\n",
    "from sklearn.metrics import accuracy_score\n",
    "from scipy.io import loadmat\n",
    "from sklearn.neighbors import KNeighborsClassifier\n",
    "from sklearn.tree import DecisionTreeClassifier\n",
    "from sklearn.svm import SVC\n",
    "from sklearn.naive_bayes import GaussianNB\n",
    "from xgboost import XGBClassifier\n",
    "from sklearn.model_selection import GridSearchCV\n",
    "from sklearn.model_selection import cross_validate\n",
    "from caimcaim import CAIMD\n",
    "import time"
   ]
  },
  {
   "cell_type": "code",
   "execution_count": 4,
   "metadata": {
    "id": "CKNVGHWvYKlA"
   },
   "outputs": [],
   "source": [
    "def entropy(X):\n",
    "    unique, count = np.unique(X, return_counts=True, axis=0)\n",
    "    prob = count / len(X)\n",
    "    en = np.sum((-1) * prob * np.log2(prob))\n",
    "    return en"
   ]
  },
  {
   "cell_type": "code",
   "execution_count": 5,
   "metadata": {
    "id": "rlocyhjyYQ5v"
   },
   "outputs": [],
   "source": [
    "# Joint Entropy H(x,y)\n",
    "def joint_entropy(X, Y):\n",
    "    XY = np.c_[X, Y] \n",
    "    return entropy(XY)\n"
   ]
  },
  {
   "cell_type": "code",
   "execution_count": 6,
   "metadata": {
    "id": "Y5LDDEaBYTu_"
   },
   "outputs": [],
   "source": [
    "# Joint Entropy H(x,y,z)\n",
    "def joint_entropy_3(X, Y, Z):\n",
    "    XYZ = np.c_[X, Y, Z]\n",
    "    return entropy(XYZ)"
   ]
  },
  {
   "cell_type": "code",
   "execution_count": 7,
   "metadata": {
    "id": "qsMtrpWrYe0v"
   },
   "outputs": [],
   "source": [
    "# Conditional Entropy X given Y; H(x|y)\n",
    "def conditional_entropy(X, Y):\n",
    "    return joint_entropy(X, Y) - entropy(Y)"
   ]
  },
  {
   "cell_type": "code",
   "execution_count": 8,
   "metadata": {
    "id": "VvR1xpSjYh4N"
   },
   "outputs": [],
   "source": [
    "def ret_joint_entropy3(x,y):\n",
    "    if(x<y):\n",
    "        return joint_entropy_list3[x][y]\n",
    "    else:\n",
    "        return joint_entropy_list3[y][x]"
   ]
  },
  {
   "cell_type": "code",
   "execution_count": 9,
   "metadata": {
    "id": "WXeUgwjYYlkX"
   },
   "outputs": [],
   "source": [
    "\n",
    "def ret_joint_entropy(x,y):\n",
    "    if(x<y):\n",
    "        return joint_entropy_list[x][y]\n",
    "    else:\n",
    "        return joint_entropy_list[y][x]"
   ]
  },
  {
   "cell_type": "code",
   "execution_count": 10,
   "metadata": {
    "id": "1Zh4WodeYoSO"
   },
   "outputs": [],
   "source": [
    "#### H(x,y|z)\n",
    "def conditional_join_entropy(x, y, z):\n",
    "    if x == length - 1:\n",
    "        return ret_joint_entropy3(y, z) - entropy_list[z];\n",
    "    elif y == length - 1:\n",
    "        return ret_joint_entropy3(x, z) - entropy_list[z];\n",
    "    else:\n",
    "        return ret_joint_entropy3(x, y) - entropy_list[z];"
   ]
  },
  {
   "cell_type": "code",
   "execution_count": 11,
   "metadata": {
    "id": "ToY-jidjYr13"
   },
   "outputs": [],
   "source": [
    "##### I(x,y)\n",
    "def get_mutual_info(x, y):\n",
    "    return entropy_list[x] + entropy_list[y] - ret_joint_entropy(x, y);"
   ]
  },
  {
   "cell_type": "code",
   "execution_count": 12,
   "metadata": {
    "id": "01Jm-Y1vYxP2"
   },
   "outputs": [],
   "source": [
    "########## I(x,y|z)\n",
    "def conditional_mutual_info(x, y, z):\n",
    "    cxz = ret_joint_entropy(x, z)-entropy_list[z];\n",
    "    cyz = ret_joint_entropy(y, z)-entropy_list[z];\n",
    "    return cxz + cyz - conditional_join_entropy(x, y, z)\n"
   ]
  },
  {
   "cell_type": "code",
   "execution_count": 13,
   "metadata": {
    "id": "2CH2HqKPY3JP"
   },
   "outputs": [],
   "source": [
    "def feature_name(arr):\n",
    "    name = \"{\";\n",
    "    for i in range(len(arr)):\n",
    "        if i > 0:\n",
    "            name = name + \", \";\n",
    "\n",
    "        name = name + feature_list[arr[i]]\n",
    "\n",
    "    name = name + \"}\"\n",
    "    return name"
   ]
  },
  {
   "cell_type": "code",
   "execution_count": 14,
   "metadata": {
    "id": "jdd8RosuY6bI"
   },
   "outputs": [],
   "source": [
    "def feature_array(arr):\n",
    "    name = []\n",
    "    for i in range(len(arr)):\n",
    "        name.append(feature_list[arr[i]])\n",
    "    return name"
   ]
  },
  {
   "cell_type": "code",
   "execution_count": 15,
   "metadata": {
    "id": "1eEHsioDY9DW"
   },
   "outputs": [],
   "source": [
    "def return_corelation(x, y):\n",
    "    size = len(x);\n",
    "    ux = x.sum() / size\n",
    "    uy = y.sum() / size\n",
    "\n",
    "    xmux = x - ux\n",
    "    ymuy = y - uy\n",
    "\n",
    "    xmuxymuy = xmux * ymuy;\n",
    "\n",
    "    cov = xmuxymuy.sum() / (size - 1)\n",
    "\n",
    "    var_x = xmux * xmux\n",
    "    var_x = var_x.sum() / (size - 1)\n",
    "\n",
    "    var_y = ymuy * ymuy\n",
    "    var_y = var_y.sum() / (size - 1)\n",
    "\n",
    "    sd_x = math.sqrt(var_x)\n",
    "    sd_y = math.sqrt(var_y)\n",
    "\n",
    "    co_xy = cov / (sd_x * sd_y)\n",
    "\n",
    "    return co_xy"
   ]
  },
  {
   "cell_type": "code",
   "execution_count": 16,
   "metadata": {
    "id": "nXOR_xGzY_q_"
   },
   "outputs": [],
   "source": [
    "def selection_accurecy_svm(selected_features):\n",
    "    x = data[selected_features];\n",
    "    y = data['class'];\n",
    "\n",
    "    model = SVC(gamma='auto', C=10, kernel='linear')\n",
    "    accuracy = cross_validation(model, x, y)\n",
    "    return accuracy;\n"
   ]
  },
  {
   "cell_type": "code",
   "execution_count": 17,
   "metadata": {
    "id": "PdPLyDP6ZDAY"
   },
   "outputs": [],
   "source": [
    "def selection_accurecy_dt(selected_features):\n",
    "\n",
    "    x = data[selected_features];\n",
    "    y = data['class'];\n",
    "\n",
    "    model = DecisionTreeClassifier(random_state=0)\n",
    "    accuracy = cross_validation(model, x, y)\n",
    "    return accuracy;\n"
   ]
  },
  {
   "cell_type": "code",
   "execution_count": 18,
   "metadata": {
    "id": "LTa5Fjt0ZGMI"
   },
   "outputs": [],
   "source": [
    "def selection_accurecy_KNN(selected_features):\n",
    "\n",
    "  x = data[selected_features];\n",
    "  y = data['class'];\n",
    "\n",
    "  model = KNeighborsClassifier(n_neighbors=3)\n",
    "  accuracy = cross_validation(model, x, y)\n",
    "  return accuracy;\n",
    "\n",
    "  return accuracy_score(y_test, predictions)\n"
   ]
  },
  {
   "cell_type": "code",
   "execution_count": 19,
   "metadata": {
    "id": "7HMoILsjZJbm"
   },
   "outputs": [],
   "source": [
    "def selection_accurecy_nb(selected_features):\n",
    "\n",
    "  x = data[selected_features];\n",
    "  y = data['class'];\n",
    "\n",
    "  model = GaussianNB()\n",
    "\n",
    "  accuracy = cross_validation(model, x, y)\n",
    "  return accuracy;"
   ]
  },
  {
   "cell_type": "code",
   "execution_count": 20,
   "metadata": {
    "id": "ky80lJeBZMtn"
   },
   "outputs": [],
   "source": [
    "def selection_accurecy_xgb(selected_features):\n",
    "    x = data[selected_features];\n",
    "    y = data['class'];\n",
    "\n",
    "    model = XGBClassifier()\n",
    "\n",
    "    accuracy = cross_validation(model, x, y)\n",
    "    return accuracy;"
   ]
  },
  {
   "cell_type": "code",
   "execution_count": 21,
   "metadata": {
    "id": "aA4ZJjbYZQWP"
   },
   "outputs": [],
   "source": [
    "def cross_validation(model, _X, _y):\n",
    "    _scoring = ['accuracy', 'precision', 'recall', 'test_score']\n",
    "    results = cross_validate(estimator=model,\n",
    "                             X=_X,\n",
    "                             y=_y,\n",
    "                             cv=10,\n",
    "                             # scoring=_scoring,\n",
    "                             return_train_score=True)\n",
    "\n",
    "    return results['test_score'].mean() * 100"
   ]
  },
  {
   "cell_type": "code",
   "execution_count": 22,
   "metadata": {
    "id": "FhC5EJsbZTfP"
   },
   "outputs": [],
   "source": [
    "def ret_covariance(x,y):\n",
    "    return covariance_list[x][y]\n"
   ]
  },
  {
   "cell_type": "code",
   "execution_count": 23,
   "metadata": {
    "id": "h_NjrpMSZWuX"
   },
   "outputs": [
    {
     "name": "stdout",
     "output_type": "stream",
     "text": [
      "Load Data RELATHE_discreate\n"
     ]
    }
   ],
   "source": [
    "print(\"Load Data RELATHE_discreate\")"
   ]
  },
  {
   "cell_type": "code",
   "execution_count": 24,
   "metadata": {
    "id": "-e0ni8-KZcQH"
   },
   "outputs": [
    {
     "name": "stdout",
     "output_type": "stream",
     "text": [
      "(10992, 17)\n"
     ]
    }
   ],
   "source": [
    "main_data = pd.read_csv(\"pendigits.csv\")\n",
    "clear_output()\n",
    "print(main_data.shape)"
   ]
  },
  {
   "cell_type": "code",
   "execution_count": 25,
   "metadata": {
    "id": "4j-hlntbZfoW"
   },
   "outputs": [],
   "source": [
    "feature_list = main_data.columns"
   ]
  },
  {
   "cell_type": "code",
   "execution_count": 26,
   "metadata": {
    "id": "X57ML-poZih1"
   },
   "outputs": [],
   "source": [
    "caim = CAIMD()\n",
    "x = main_data[feature_list[:-1]];\n",
    "y = main_data['class'];"
   ]
  },
  {
   "cell_type": "code",
   "execution_count": 27,
   "metadata": {
    "id": "IeDFXSSVZnt_"
   },
   "outputs": [
    {
     "name": "stdout",
     "output_type": "stream",
     "text": [
      "Categorical []\n"
     ]
    },
    {
     "name": "stdout",
     "output_type": "stream",
     "text": [
      "# 0  GLOBAL CAIM  97.98861085672317\n",
      "# 1  GLOBAL CAIM  127.52179668015063\n",
      "# 2  GLOBAL CAIM  70.69479583427037\n",
      "# 3  GLOBAL CAIM  101.67496475466642\n",
      "# 4  GLOBAL CAIM  109.78659760885364\n",
      "# 5  GLOBAL CAIM  146.48743397661866\n",
      "# 6  GLOBAL CAIM  98.85261390017756\n",
      "# 7  GLOBAL CAIM  162.63023326307626\n",
      "# 8  GLOBAL CAIM  72.82436463178126\n",
      "# 9  GLOBAL CAIM  118.59612313091051\n",
      "# 10  GLOBAL CAIM  76.70440033288963\n",
      "# 11  GLOBAL CAIM  111.99841534555728\n",
      "# 12  GLOBAL CAIM  80.75074886932973\n",
      "# 13  GLOBAL CAIM  166.7675540264832\n",
      "# 14  GLOBAL CAIM  109.94047950292438\n",
      "# 15  GLOBAL CAIM  184.838964313185\n"
     ]
    }
   ],
   "source": [
    "x_disc = caim.fit_transform(x, y)"
   ]
  },
  {
   "cell_type": "code",
   "execution_count": 28,
   "metadata": {
    "id": "j4Cmd5OjZqcn"
   },
   "outputs": [
    {
     "name": "stdout",
     "output_type": "stream",
     "text": [
      "(10992, 17)\n"
     ]
    }
   ],
   "source": [
    "data = x_disc\n",
    "data['class'] = y;\n",
    "print(data.shape)"
   ]
  },
  {
   "cell_type": "markdown",
   "metadata": {
    "id": "afRS1pMCZvxW"
   },
   "source": [
    "parameters = {'n_estimators': [200, 500], 'max_features': ['sqrt', 'log2'], 'max_depth': [4, 5, 6, 7, 8], 'criterion':['gini', 'entropy', 'log_loss']}\n",
    "rfc=RandomForestClassifier(random_state=42)\n",
    "clf = GridSearchCV(rfc, parameters)\n",
    "x = data[feature_list[:-1]]\n",
    "y = data['class'];\n",
    "x_train, x_test, y_train, y_test = train_test_split(x, y, test_size=0.20, random_state=1, stratify=y)\n",
    "clf.fit(x, y)\n",
    "sorted(clf.cv_results_)\n",
    "print(clf.best_params_)\n",
    "\n",
    "predictions = clf.predict(x_test)\n",
    "print(\"Random Forest Accuracy with all columns\")\n",
    "print(accuracy_score(y_test, predictions))"
   ]
  },
  {
   "cell_type": "code",
   "execution_count": 29,
   "metadata": {
    "id": "-CBwY2LfZzW2"
   },
   "outputs": [
    {
     "name": "stdout",
     "output_type": "stream",
     "text": [
      "x: 0\n",
      "x: 1\n",
      "x: 2\n",
      "x: 3\n",
      "x: 4\n",
      "x: 5\n",
      "x: 6\n",
      "x: 7\n",
      "x: 8\n",
      "x: 9\n",
      "x: 10\n",
      "x: 11\n",
      "x: 12\n",
      "x: 13\n",
      "x: 14\n",
      "x: 15\n",
      "x: 16\n",
      "populate Data\n"
     ]
    }
   ],
   "source": [
    "length=len(feature_list)\n",
    "entropy_list = [0]*length;\n",
    "joint_entropy_list = defaultdict(dict);\n",
    "conditional_entropy_list = defaultdict(dict);\n",
    "joint_entropy_list3 = defaultdict(dict);\n",
    "covariance_list = defaultdict(dict);\n",
    "for i in range(length):\n",
    "    entropy_list[i] = entropy(data[feature_list[i]])\n",
    "    for j in range(i,length):\n",
    "        joint_entropy_list[i][j] = joint_entropy(data[feature_list[i]],data[feature_list[j]])\n",
    "        joint_entropy_list3[i][j] = joint_entropy_3(data[feature_list[i]],data[feature_list[j]],data[feature_list[length-1]]);\n",
    "\n",
    "    print(\"x: %s\" %(i))\n",
    "\n",
    "\n",
    "for i in range(length):\n",
    "  for j in range(length):\n",
    "    conditional_entropy_list[i][j] = ret_joint_entropy(i,j)-entropy_list[j];\n",
    "    covariance_list[i][j] = return_corelation(data[feature_list[i]],data[feature_list[j]])\n",
    "\n",
    "print(\"populate Data\")"
   ]
  },
  {
   "cell_type": "code",
   "execution_count": 36,
   "metadata": {},
   "outputs": [
    {
     "name": "stdout",
     "output_type": "stream",
     "text": [
      "MIM\n",
      "1.1581871371500716\n",
      "13\n",
      "1.13967040133993\n",
      "15\n",
      "0.9604890708114207\n",
      "7\n",
      "0.8237733029861234\n",
      "5\n",
      "0.7664921191560037\n",
      "9\n",
      "0.7262446945370309\n",
      "4\n",
      "0.7212929585792427\n",
      "14\n",
      "0.6928609213286885\n",
      "11\n",
      "0.6549877913007265\n",
      "1\n",
      "0.6346584904520167\n",
      "3\n",
      "0.625680461567474\n",
      "10\n",
      "0.6246388556069302\n",
      "0\n",
      "0.5724175129023799\n",
      "8\n",
      "0.462105304143952\n",
      "6\n",
      "0.3517099810363602\n",
      "2\n",
      "0.34409909949738626\n",
      "12\n",
      "[13, 15, 7, 5, 9, 4, 14, 11, 1, 3, 10, 0, 8, 6, 2, 12]\n",
      "-----------------------------------\n"
     ]
    }
   ],
   "source": [
    "print(\"MIM\")\n",
    "xk = [];\n",
    "\n",
    "loop_counter = 100 if (length-1)>100 else length-1;\n",
    "# print(feature_list)\n",
    "while len(xk) < loop_counter:\n",
    "    mi = [-100] * length\n",
    " \n",
    "    for i in range(length - 1):\n",
    "        if (i in xk):\n",
    "            continue\n",
    "        mi[i] = get_mutual_info(i, length - 1)\n",
    "\n",
    "    (m, p) = max((v, i) for i, v in enumerate(mi))\n",
    "    print(m)\n",
    "    print(p)\n",
    "\n",
    "    xk.append(p)\n",
    "     #print(feature_name(xk))\n",
    "\n",
    "    \n",
    "print(xk)\n",
    "pref = xk[0];\n",
    "print('-----------------------------------')\n"
   ]
  },
  {
   "cell_type": "code",
   "execution_count": 34,
   "metadata": {},
   "outputs": [
    {
     "name": "stdout",
     "output_type": "stream",
     "text": [
      "[0.46209778030079995, 0.45101587062120885, 0.11032997275068102, 0.16807315063941797, 0.553748589311228, 0.13577074429984837, 0.29691475824074676, 0.14685717637616857, 0.418676867002592, 0.36792062914338963, 0.4883427982729973, -0.06210883469066797, 0.19239014344188732, -100, 0.42687220683744, 0.10516635935424468, -100]\n",
      "4th column with mrmr value: 0.553748589311228\n",
      "MRMR features serially\n",
      "[13, 4, 15, 9, 1, 14, 7, 0, 10, 5, 8, 11, 3, 6, 12, 2]\n",
      "-----------------------------------\n"
     ]
    }
   ],
   "source": [
    "xk_mrmr = [] \n",
    "\n",
    "current_mi = 0 \n",
    "loop_counter = 100 if (length-1)>100 else length-1 \n",
    "# print(feature_list)\n",
    "\n",
    "while len(xk_mrmr) < loop_counter:\n",
    "    mi = [-100] * length\n",
    "    mrmr = [-100] * length\n",
    "    \n",
    "    for i in range(length - 1):\n",
    "        if (i in xk_mrmr):\n",
    "            continue \n",
    "\n",
    "        icfk = get_mutual_info(i, length - 1) #calculation done for MIM\n",
    "\n",
    "        mi[i] = icfk    #I (c; fk )\n",
    "        ifkxk = 0 #1/f x I (fk ; Xk ) the 2nd term of mrmr\n",
    "        for j in range(len(xk_mrmr)):\n",
    "            ifkxk += get_mutual_info(xk_mrmr[j], i)\n",
    "\n",
    "        if (len(xk_mrmr)):\n",
    "            ifkxk = ifkxk / len(xk_mrmr)\n",
    "\n",
    "        mrmr[i] = icfk - ifkxk  #calculation done for MRMR\n",
    "\n",
    "    \n",
    "    \n",
    "    (m, p) = max((v, i) for i, v in enumerate(mrmr))\n",
    "    xk_mrmr.append(p)\n",
    "\n",
    "    # if len(xk_mrmr) == 2:\n",
    "    #     print(mrmr)\n",
    "    #     print(f'{p}th column with highest mrmr value: {m}')\n",
    "\n",
    "    print(f'MRMR max value {m} for feature {p}')\n",
    "\n",
    "\n",
    "    # print(feature_name(xk))\n",
    "\n",
    "print(\"MRMR features serially\")    \n",
    "print(xk_mrmr)\n",
    "print('-----------------------------------')"
   ]
  },
  {
   "cell_type": "code",
   "execution_count": 163,
   "metadata": {
    "id": "BOKxhTlJZ3NP",
    "scrolled": false
   },
   "outputs": [
    {
     "name": "stdout",
     "output_type": "stream",
     "text": [
      "max value 1.1581871371500716 for feature 13, DI value: 1, C ratio: -1.1581871371500716\n",
      "max value 1.3460428693912343 for feature 10, DI value: 2.7563483564239206, C ratio: 0.18176968225181867\n",
      "max value 0.9712194667582096 for feature 4, DI value: 1.8325216595562932, C ratio: 0.021248928064011352\n",
      "max value 0.9980106349693216 for feature 9, DI value: 1.9569890463794077, C ratio: 0.12295332239337542\n",
      "max value 0.9746667786535503 for feature 15, DI value: 1.3728366060286243, C ratio: -0.11910692176015125\n",
      "max value 0.8496112573478319 for feature 1, DI value: 1.7130670393809015, C ratio: -0.02338521147691819\n",
      "max value 0.7875070502112804 for feature 7, DI value: 1.5538492729330786, C ratio: -0.060856942670878045\n",
      "max value 0.8082586448574612 for feature 0, DI value: 1.7883545050492093, C ratio: 0.02836152845832063\n",
      "max value 0.8064174292061752 for feature 14, DI value: 1.7284739593472658, C ratio: 0.02818707809923482\n",
      "max value 0.6683103963743617 for feature 8, DI value: 1.890660170798169, C ratio: 0.10947389379452233\n",
      "max value 0.6847746214480142 for feature 5, DI value: 1.535743406756958, C ratio: -0.024192691015737067\n",
      "max value 0.6042598841833414 for feature 11, DI value: 1.8426958313125081, C ratio: 0.10821675737722025\n",
      "max value 0.501451155601023 for feature 6, DI value: 1.9041956603721284, C ratio: 0.14214086324995978\n",
      "max value 0.5074153994306116 for feature 3, DI value: 1.5845174605304155, C ratio: 0.025117473486432562\n",
      "max value 0.3754326027552937 for feature 12, DI value: 1.8546477289684054, C ratio: 0.1510275366690732\n",
      "max value 0.3146845033525828 for feature 2, DI value: 1.7005532113158748, C ratio: 0.10891230581632355\n",
      "DIMRMR features serially\n",
      "[13, 10, 4, 9, 15, 1, 7, 0, 14, 8, 5, 11, 6, 3, 12, 2]\n",
      "-----------------------------------\n"
     ]
    }
   ],
   "source": [
    "xk_mim = [] \n",
    "xk_mrmr = [] \n",
    "xk_dimrmr = [] \n",
    "\n",
    "loop_counter = 100 if (length-1)>100 else length-1 \n",
    "# print(feature_list)\n",
    "\n",
    "while len(xk_dimrmr) < loop_counter:\n",
    "    mi = [0] * length\n",
    "    mrmr = [-100] * length\n",
    "    c_ratios = [0] * length\n",
    "    di = [-100] * (length - 1)\n",
    "    dimrmr = [-100] * (length - 1)\n",
    "\n",
    "\n",
    "    for i in range(length - 1):\n",
    "        if (i in xk_dimrmr):\n",
    "            continue \n",
    "\n",
    "        icfk = get_mutual_info(i, length - 1) #calculation done for MIM\n",
    "        mi[i] = icfk    #I (c; fk )\n",
    "\n",
    "        ifkxk = 0 #1/f x I (fk ; Xk ) the 2nd term of mrmr\n",
    "        for j in range(len(xk_dimrmr)):\n",
    "            ifkxk += get_mutual_info(i, xk_dimrmr[j])\n",
    "\n",
    "        if (len(xk_dimrmr)):\n",
    "            ifkxk = ifkxk / len(xk_dimrmr)\n",
    "\n",
    "        mrmr[i] = icfk - ifkxk  #calculation done for MRMR\n",
    "        \n",
    "        #DIMRMRicfk\n",
    "        avg_dep = 0\n",
    "        iFcfk = 0\n",
    "        # print(feature_list[i])\n",
    "\n",
    "        for j in range(len(xk_dimrmr)):\n",
    "            avg_dep += conditional_mutual_info(i, length - 1, xk_dimrmr[j])\n",
    "            iFcfk += conditional_mutual_info(xk_dimrmr[j], length - 1, i)\n",
    "        \n",
    "        if (len(xk_dimrmr)):\n",
    "            avg_dep = avg_dep / len(xk_dimrmr);\n",
    "            iFcfk = iFcfk / len(xk_dimrmr);\n",
    "\n",
    "        cr = avg_dep - get_mutual_info(i, length - 1)   #c ratio\n",
    "        c_ratios[i] = cr\n",
    "        cr_st = 2 * (cr) / (entropy_list[i] + entropy_list[length - 1]) # c ratio normalized\n",
    "    \n",
    "        di[i] = (2 + cr_st) * (iFcfk)   #DI, dynamic interaction weight\n",
    "\n",
    "        if len(xk_dimrmr) == 0:\n",
    "            di[i] = 1  \n",
    "        dimrmr[i] = (icfk - ifkxk) * di[i]\n",
    "    \n",
    "\n",
    "    (m, p) = max((v, i) for i, v in enumerate(dimrmr))\n",
    "    print(f'max value {m} for feature {p}, DI value: {di[p]}, C ratio: {c_ratios[p]}')\n",
    "    # if len(xk_dimrmr)==0:\n",
    "    #     print(p)\n",
    "    #     print(mrmr[p])\n",
    "    #     print(f'dimrmr: {dimrmr[p]}')\n",
    "    # print(dimrmr)\n",
    "\n",
    "    xk_dimrmr.append(p)\n",
    "\n",
    "\n",
    "\n",
    "print(\"DIMRMR features serially\")    \n",
    "print(xk_dimrmr)\n",
    "print('-----------------------------------')"
   ]
  },
  {
   "cell_type": "code",
   "execution_count": 142,
   "metadata": {},
   "outputs": [
    {
     "name": "stdout",
     "output_type": "stream",
     "text": [
      "DIMRMR features serially\n",
      "[15, 4, 9, 14, 13, 1, 0, 7, 10, 8, 5, 11, 6, 3, 12, 2]\n",
      "-----------------------------------\n"
     ]
    }
   ],
   "source": [
    "######################## DIMRMR ########################\n",
    "print(\"DIMRMR features serially\")\n",
    "xk = []\n",
    "current_mi = 0\n",
    "loop_counter = 100 if (length-1)>100 else length-1\n",
    "# print(feature_list)\n",
    "\n",
    "while len(xk) < loop_counter:\n",
    "    di = [-100] * (length - 1)\n",
    "    dimrmr = [-100] * (length - 1)\n",
    "    dijmi = [-1] * (length - 1)\n",
    "    # print(f\"F = %s\"%feature_name(xk))\n",
    "\n",
    "    for i in range(length - 1):\n",
    "        if (i in xk):\n",
    "            continue\n",
    "\n",
    "        avg_dep = 0\n",
    "        iFcfk = 0\n",
    "        # print(feature_list[i])\n",
    "\n",
    "        for j in range(len(xk)):\n",
    "            avg_dep += conditional_mutual_info(i, length - 1, xk[j])\n",
    "            iFcfk += conditional_mutual_info(xk[j], length - 1, i)\n",
    "\n",
    "        if (len(xk)):\n",
    "            avg_dep = avg_dep / len(xk)\n",
    "            iFcfk = iFcfk / len(xk)\n",
    "\n",
    "        cr = avg_dep - get_mutual_info(i, length - 1)\n",
    "\n",
    "        cr_st = 2 * (cr) / (entropy_list[i] + entropy_list[length - 1])\n",
    "\n",
    "        di[i] = (2 + cr_st) * (iFcfk)\n",
    "\n",
    "        ifkxk = 0\n",
    "        IfkxkC = 0\n",
    "\n",
    "        icfk = get_mutual_info(i, length - 1)\n",
    "        for j in range(len(xk)):\n",
    "            ifkxk += get_mutual_info(i, xk[j])\n",
    "            IfkxkC += get_mutual_info(i, xk[j]) - conditional_mutual_info(i, xk[j], length - 1)\n",
    "\n",
    "        if (len(xk)):\n",
    "            ifkxk = ifkxk / len(xk)\n",
    "            IfkxkC = IfkxkC / len(xk)\n",
    "\n",
    "        dimrmr[i] = (icfk - ifkxk) * di[i]\n",
    "        dijmi[i] = (icfk - IfkxkC) * di[i]\n",
    "\n",
    "        # F = xk.copy();\n",
    "        # F.append(i)\n",
    "\n",
    "    (m, p) = max((v, i) for i, v in enumerate(dimrmr))\n",
    "    xk.append(p)\n",
    "\n",
    "print(xk)\n",
    "print('-----------------------------------')"
   ]
  },
  {
   "cell_type": "code",
   "execution_count": 38,
   "metadata": {},
   "outputs": [
    {
     "name": "stdout",
     "output_type": "stream",
     "text": [
      "{'criterion': 'entropy', 'max_depth': 8, 'max_features': 'sqrt', 'n_estimators': 200}\n",
      "Random Forest Accuracy\n",
      "0.8258064516129032\n"
     ]
    }
   ],
   "source": [
    "parameters = {'n_estimators': [200, 500], 'max_features': ['sqrt', 'log2'], 'max_depth': [4, 5, 6, 7, 8], 'criterion':['gini', 'entropy', 'log_loss']}\n",
    "rfc=RandomForestClassifier(random_state=42)\n",
    "clf = GridSearchCV(rfc, parameters)\n",
    "column_positions = [255, 29, 114, 119, 193, 77]\n",
    "x = data.iloc[:, column_positions]\n",
    "y = data['class'];\n",
    "x_train, x_test, y_train, y_test = train_test_split(x, y, test_size=0.20, random_state=1, stratify=y)\n",
    "clf.fit(x, y)\n",
    "sorted(clf.cv_results_)\n",
    "print(clf.best_params_)\n",
    "\n",
    "predictions = clf.predict(x_test)\n",
    "print(\"Random Forest Accuracy\")\n",
    "print(accuracy_score(y_test, predictions))"
   ]
  },
  {
   "cell_type": "code",
   "execution_count": 39,
   "metadata": {},
   "outputs": [
    {
     "name": "stdout",
     "output_type": "stream",
     "text": [
      "{'criterion': 'entropy', 'max_depth': 7, 'max_features': 'sqrt', 'n_estimators': 200}\n",
      "Try no. 0 Random Forest Accuracy: Using features [255, 29, 114]\n",
      "0.646236559139785\n",
      "\n",
      "\n",
      "\n",
      "{'criterion': 'entropy', 'max_depth': 7, 'max_features': 'sqrt', 'n_estimators': 200}\n",
      "Try no. 1 Random Forest Accuracy: Using features [255, 29, 119]\n",
      "0.6209677419354839\n",
      "\n",
      "\n",
      "\n",
      "{'criterion': 'gini', 'max_depth': 7, 'max_features': 'sqrt', 'n_estimators': 200}\n",
      "Try no. 2 Random Forest Accuracy: Using features [255, 29, 193]\n",
      "0.5924731182795699\n",
      "\n",
      "\n",
      "\n",
      "{'criterion': 'entropy', 'max_depth': 7, 'max_features': 'sqrt', 'n_estimators': 500}\n",
      "Try no. 3 Random Forest Accuracy: Using features [255, 29, 77]\n",
      "0.6016129032258064\n",
      "\n",
      "\n",
      "\n",
      "{'criterion': 'entropy', 'max_depth': 7, 'max_features': 'sqrt', 'n_estimators': 200}\n",
      "Try no. 4 Random Forest Accuracy: Using features [255, 114, 119]\n",
      "0.6204301075268818\n",
      "\n",
      "\n",
      "\n",
      "{'criterion': 'entropy', 'max_depth': 7, 'max_features': 'sqrt', 'n_estimators': 200}\n",
      "Try no. 5 Random Forest Accuracy: Using features [255, 114, 193]\n",
      "0.5865591397849462\n",
      "\n",
      "\n",
      "\n",
      "{'criterion': 'gini', 'max_depth': 8, 'max_features': 'sqrt', 'n_estimators': 200}\n",
      "Try no. 6 Random Forest Accuracy: Using features [255, 114, 77]\n",
      "0.6403225806451613\n",
      "\n",
      "\n",
      "\n",
      "{'criterion': 'gini', 'max_depth': 6, 'max_features': 'sqrt', 'n_estimators': 200}\n",
      "Try no. 7 Random Forest Accuracy: Using features [255, 119, 193]\n",
      "0.5736559139784946\n",
      "\n",
      "\n",
      "\n",
      "{'criterion': 'gini', 'max_depth': 6, 'max_features': 'sqrt', 'n_estimators': 500}\n",
      "Try no. 8 Random Forest Accuracy: Using features [255, 119, 77]\n",
      "0.6118279569892473\n",
      "\n",
      "\n",
      "\n",
      "{'criterion': 'gini', 'max_depth': 7, 'max_features': 'sqrt', 'n_estimators': 500}\n",
      "Try no. 9 Random Forest Accuracy: Using features [255, 193, 77]\n",
      "0.5903225806451613\n",
      "\n",
      "\n",
      "\n",
      "{'criterion': 'entropy', 'max_depth': 7, 'max_features': 'sqrt', 'n_estimators': 500}\n",
      "Try no. 10 Random Forest Accuracy: Using features [29, 114, 119]\n",
      "0.6172043010752688\n",
      "\n",
      "\n",
      "\n",
      "{'criterion': 'entropy', 'max_depth': 7, 'max_features': 'sqrt', 'n_estimators': 200}\n",
      "Try no. 11 Random Forest Accuracy: Using features [29, 114, 193]\n",
      "0.7053763440860215\n",
      "\n",
      "\n",
      "\n",
      "{'criterion': 'entropy', 'max_depth': 8, 'max_features': 'sqrt', 'n_estimators': 200}\n",
      "Try no. 12 Random Forest Accuracy: Using features [29, 114, 77]\n",
      "0.6279569892473118\n",
      "\n",
      "\n",
      "\n",
      "{'criterion': 'gini', 'max_depth': 7, 'max_features': 'sqrt', 'n_estimators': 200}\n",
      "Try no. 13 Random Forest Accuracy: Using features [29, 119, 193]\n",
      "0.6505376344086021\n",
      "\n",
      "\n",
      "\n",
      "{'criterion': 'entropy', 'max_depth': 7, 'max_features': 'sqrt', 'n_estimators': 500}\n",
      "Try no. 14 Random Forest Accuracy: Using features [29, 119, 77]\n",
      "0.5956989247311828\n",
      "\n",
      "\n",
      "\n",
      "{'criterion': 'entropy', 'max_depth': 8, 'max_features': 'sqrt', 'n_estimators': 200}\n",
      "Try no. 15 Random Forest Accuracy: Using features [29, 193, 77]\n",
      "0.6591397849462366\n",
      "\n",
      "\n",
      "\n",
      "{'criterion': 'gini', 'max_depth': 8, 'max_features': 'sqrt', 'n_estimators': 200}\n",
      "Try no. 16 Random Forest Accuracy: Using features [114, 119, 193]\n",
      "0.6854838709677419\n",
      "\n",
      "\n",
      "\n",
      "{'criterion': 'gini', 'max_depth': 7, 'max_features': 'sqrt', 'n_estimators': 500}\n",
      "Try no. 17 Random Forest Accuracy: Using features [114, 119, 77]\n",
      "0.6220430107526882\n",
      "\n",
      "\n",
      "\n",
      "{'criterion': 'entropy', 'max_depth': 8, 'max_features': 'sqrt', 'n_estimators': 200}\n",
      "Try no. 18 Random Forest Accuracy: Using features [114, 193, 77]\n",
      "0.7118279569892473\n",
      "\n",
      "\n",
      "\n",
      "{'criterion': 'gini', 'max_depth': 7, 'max_features': 'sqrt', 'n_estimators': 200}\n",
      "Try no. 19 Random Forest Accuracy: Using features [119, 193, 77]\n",
      "0.6666666666666666\n",
      "\n",
      "\n",
      "\n"
     ]
    }
   ],
   "source": [
    "from itertools import combinations\n",
    "\n",
    "items = [255, 29, 114, 119, 193, 77]\n",
    "selected_combinations = list(combinations(items, 3))\n",
    "\n",
    "tries = len(selected_combinations)\n",
    "\n",
    "for i in range(0, (tries)):\n",
    "    features = list(selected_combinations[i])\n",
    "\n",
    "    parameters = {'n_estimators': [200, 500], 'max_features': ['sqrt', 'log2'], 'max_depth': [4, 5, 6, 7, 8], 'criterion':['gini', 'entropy', 'log_loss']}\n",
    "    rfc=RandomForestClassifier(random_state=42)\n",
    "    clf = GridSearchCV(rfc, parameters)\n",
    "    x = data.iloc[:, features]\n",
    "    y = data['class'];\n",
    "    x_train, x_test, y_train, y_test = train_test_split(x, y, test_size=0.20, random_state=1, stratify=y)\n",
    "    clf.fit(x, y)\n",
    "    sorted(clf.cv_results_)\n",
    "    print(clf.best_params_)\n",
    "\n",
    "    predictions = clf.predict(x_test)\n",
    "    print(f\"Try no. {i} Random Forest Accuracy: Using features {features}\")\n",
    "    print(accuracy_score(y_test, predictions))\n",
    "    print(\"\\n\\n\")\n"
   ]
  }
 ],
 "metadata": {
  "accelerator": "GPU",
  "colab": {
   "provenance": []
  },
  "gpuClass": "standard",
  "kernelspec": {
   "display_name": "Python 3 (ipykernel)",
   "language": "python",
   "name": "python3"
  },
  "language_info": {
   "codemirror_mode": {
    "name": "ipython",
    "version": 3
   },
   "file_extension": ".py",
   "mimetype": "text/x-python",
   "name": "python",
   "nbconvert_exporter": "python",
   "pygments_lexer": "ipython3",
   "version": "3.8.10"
  }
 },
 "nbformat": 4,
 "nbformat_minor": 1
}
