{
 "cells": [
  {
   "cell_type": "code",
   "execution_count": 1,
   "metadata": {
    "colab": {
     "base_uri": "https://localhost:8080/"
    },
    "id": "3om5b7ViaZ0_",
    "outputId": "4840f409-cdd0-423e-ada8-5fc4ad97c4c4"
   },
   "outputs": [
    {
     "name": "stdout",
     "output_type": "stream",
     "text": [
      "Requirement already satisfied: pandas in /home/rakinrkz/anaconda3/envs/thesis1/lib/python3.11/site-packages (2.1.4)\n",
      "Requirement already satisfied: scikit-learn in /home/rakinrkz/anaconda3/envs/thesis1/lib/python3.11/site-packages (1.3.2)\n",
      "Requirement already satisfied: xgboost in /home/rakinrkz/anaconda3/envs/thesis1/lib/python3.11/site-packages (2.0.2)\n",
      "Requirement already satisfied: caimcaim in /home/rakinrkz/anaconda3/envs/thesis1/lib/python3.11/site-packages (0.3)\n",
      "Requirement already satisfied: numpy<2,>=1.23.2 in /home/rakinrkz/anaconda3/envs/thesis1/lib/python3.11/site-packages (from pandas) (1.26.2)\n",
      "Requirement already satisfied: python-dateutil>=2.8.2 in /home/rakinrkz/anaconda3/envs/thesis1/lib/python3.11/site-packages (from pandas) (2.8.2)\n",
      "Requirement already satisfied: pytz>=2020.1 in /home/rakinrkz/anaconda3/envs/thesis1/lib/python3.11/site-packages (from pandas) (2023.3.post1)\n",
      "Requirement already satisfied: tzdata>=2022.1 in /home/rakinrkz/anaconda3/envs/thesis1/lib/python3.11/site-packages (from pandas) (2023.3)\n",
      "Requirement already satisfied: scipy>=1.5.0 in /home/rakinrkz/anaconda3/envs/thesis1/lib/python3.11/site-packages (from scikit-learn) (1.11.4)\n",
      "Requirement already satisfied: joblib>=1.1.1 in /home/rakinrkz/anaconda3/envs/thesis1/lib/python3.11/site-packages (from scikit-learn) (1.3.2)\n",
      "Requirement already satisfied: threadpoolctl>=2.0.0 in /home/rakinrkz/anaconda3/envs/thesis1/lib/python3.11/site-packages (from scikit-learn) (3.2.0)\n",
      "Requirement already satisfied: sklearn in /home/rakinrkz/anaconda3/envs/thesis1/lib/python3.11/site-packages (from caimcaim) (0.0.post12)\n",
      "Requirement already satisfied: six>=1.5 in /home/rakinrkz/anaconda3/envs/thesis1/lib/python3.11/site-packages (from python-dateutil>=2.8.2->pandas) (1.16.0)\n",
      "Note: you may need to restart the kernel to use updated packages.\n"
     ]
    }
   ],
   "source": [
    "%pip install pandas scikit-learn xgboost caimcaim"
   ]
  },
  {
   "cell_type": "code",
   "execution_count": 2,
   "metadata": {
    "colab": {
     "base_uri": "https://localhost:8080/",
     "height": 356
    },
    "id": "J9pec9xsYESA",
    "outputId": "940341e9-2204-43e7-af39-967448623870"
   },
   "outputs": [],
   "source": [
    "import pandas as pd \n",
    "from IPython.display import  clear_output\n",
    "import numpy as np\n",
    "from sklearn.ensemble import RandomForestClassifier\n",
    "from sklearn.model_selection import train_test_split \n",
    "from sklearn.feature_selection import SelectKBest\n",
    "from sklearn.feature_selection import mutual_info_classif\n",
    "import math\n",
    "from collections import defaultdict\n",
    "from sklearn.metrics import accuracy_score\n",
    "from scipy.io import loadmat\n",
    "from sklearn.neighbors import KNeighborsClassifier\n",
    "from sklearn.tree import DecisionTreeClassifier\n",
    "from sklearn.svm import SVC\n",
    "from sklearn.naive_bayes import GaussianNB\n",
    "from xgboost import XGBClassifier\n",
    "from sklearn.model_selection import GridSearchCV\n",
    "from sklearn.model_selection import cross_validate\n",
    "import time\n",
    "\n",
    "# from caimcaim import CAIMD\n",
    "from caim import CAIMD"
   ]
  },
  {
   "cell_type": "code",
   "execution_count": 3,
   "metadata": {},
   "outputs": [],
   "source": [
    "datasetFile = 'datasets/unsw_nb_15_cat_in_num_binaryclass_50k_sample.csv' #need to edit this depending on dataset file"
   ]
  },
  {
   "cell_type": "code",
   "execution_count": 4,
   "metadata": {
    "id": "-e0ni8-KZcQH"
   },
   "outputs": [
    {
     "name": "stdout",
     "output_type": "stream",
     "text": [
      "   0  proto  state        dur  sbytes  dbytes  sttl  dttl  sloss  dloss  ...  \\\n",
      "0  0      3      3   0.028016    3926   56526    31    29      7     27  ...   \n",
      "1  0      3      3   1.007838    1580   10168    31    29      3      5  ...   \n",
      "2  0      3      3   0.037968    2766   27384    31    29      7     16  ...   \n",
      "3  1      4      2  13.790198   12832       0   254     0      0      0  ...   \n",
      "4  0      3      3   0.018681    1540    1644    31    29      4      4  ...   \n",
      "\n",
      "   ct_flw_http_mthd  is_ftp_login  ct_ftp_cmd  ct_srv_src  ct_srv_dst  \\\n",
      "0               0.0           0.0         0.0          13           4   \n",
      "1               1.0           0.0         0.0           2           1   \n",
      "2               0.0           0.0         0.0          16           6   \n",
      "3               0.0           0.0         0.0           1           1   \n",
      "4               0.0           0.0         0.0           6          12   \n",
      "\n",
      "   ct_dst_ltm  ct_src_ltm  ct_src_dport_ltm  ct_dst_sport_ltm  ct_dst_src_ltm  \n",
      "0           2           7                 1                 1               2  \n",
      "1           3           4                 1                 1               1  \n",
      "2           5           5                 1                 1               3  \n",
      "3           1           1                 1                 1               1  \n",
      "4          12           9                 6                 1               6  \n",
      "\n",
      "[5 rows x 44 columns]\n",
      "(49999, 44)\n"
     ]
    }
   ],
   "source": [
    "main_data = pd.read_csv(datasetFile)\n",
    "clear_output()\n",
    "print(main_data.head())\n",
    "print(main_data.shape)"
   ]
  },
  {
   "cell_type": "code",
   "execution_count": 5,
   "metadata": {},
   "outputs": [],
   "source": [
    "class_column = '0' #might need to edit this depending on dataset's target or class' name"
   ]
  },
  {
   "cell_type": "code",
   "execution_count": 6,
   "metadata": {
    "id": "4j-hlntbZfoW"
   },
   "outputs": [],
   "source": [
    "feature_list = main_data\n",
    "feature_list =  feature_list.drop(class_column, axis=1)\n",
    "feature_list = feature_list.columns\n",
    "\n",
    "x = main_data[feature_list]\n",
    "y = main_data[class_column]\n",
    "\n",
    "feature_list = main_data.columns"
   ]
  },
  {
   "cell_type": "code",
   "execution_count": 7,
   "metadata": {
    "id": "IeDFXSSVZnt_"
   },
   "outputs": [
    {
     "name": "stdout",
     "output_type": "stream",
     "text": [
      "Categorical [14, 20, 31, 34]\n",
      "# 6  GLOBAL CAIM  19604.953512205066\n",
      "Processed 1 out of 43 features.\n",
      "# 1  GLOBAL CAIM  19346.623547682168\n",
      "Processed 2 out of 43 features.\n",
      "# 5  GLOBAL CAIM  24145.30555174917\n",
      "Processed 3 out of 43 features.\n",
      "# 15  GLOBAL CAIM  19352.849569774182\n",
      "Processed 4 out of 43 features.\n",
      "# 9  GLOBAL CAIM  19106.946386482137\n",
      "Processed 5 out of 43 features.\n",
      "# 7  GLOBAL CAIM  19375.16483686022\n",
      "Processed 6 out of 43 features.\n",
      "# 0  GLOBAL CAIM  19698.96860800065\n",
      "Processed 7 out of 43 features.\n",
      "# 8  GLOBAL CAIM  19415.419523265515\n",
      "Processed 8 out of 43 features.\n",
      "# 12  GLOBAL CAIM  19462.903064847582\n",
      "Processed 9 out of 43 features.\n",
      "# 13  GLOBAL CAIM  20322.806889333457\n",
      "Processed 10 out of 43 features.\n",
      "# 21  GLOBAL CAIM  19095.965062512903\n",
      "Processed 11 out of 43 features.\n",
      "# 18  GLOBAL CAIM  19855.90937076841\n",
      "Processed 12 out of 43 features.\n",
      "# 19  GLOBAL CAIM  20433.670090528576\n",
      "Processed 13 out of 43 features.\n",
      "# 3  GLOBAL CAIM  22746.154343306458\n",
      "Processed 14 out of 43 features.\n",
      "# 4  GLOBAL CAIM  20326.88745604856\n",
      "Processed 15 out of 43 features.\n",
      "# 28  GLOBAL CAIM  19540.34393364891\n",
      "Processed 16 out of 43 features.\n",
      "# 29  GLOBAL CAIM  19504.481416262446\n",
      "Processed 17 out of 43 features.\n",
      "# 30  GLOBAL CAIM  19542.03895731099\n",
      "Processed 18 out of 43 features.\n",
      "# 32  GLOBAL CAIM  23551.58110137377\n",
      "Processed 19 out of 43 features.\n",
      "# 33  GLOBAL CAIM  19078.96394639464\n",
      "Processed 20 out of 43 features.\n",
      "# 35  GLOBAL CAIM  19075.886200268305\n",
      "Processed 21 out of 43 features.\n",
      "# 36  GLOBAL CAIM  19588.515229441437\n",
      "Processed 22 out of 43 features.\n",
      "# 37  GLOBAL CAIM  19606.48390666224\n",
      "Processed 23 out of 43 features.\n",
      "# 38  GLOBAL CAIM  19534.084916343505\n",
      "Processed 24 out of 43 features.\n",
      "# 39  GLOBAL CAIM  19519.67706964094\n",
      "Processed 25 out of 43 features.\n",
      "# 40  GLOBAL CAIM  19681.534094481824\n",
      "Processed 26 out of 43 features.\n",
      "# 41  GLOBAL CAIM  19740.06965781285\n",
      "Processed 27 out of 43 features.\n",
      "# 42  GLOBAL CAIM  19731.234280024335\n",
      "Processed 28 out of 43 features.\n",
      "# 2  GLOBAL CAIM  20350.765250883967\n",
      "Processed 29 out of 43 features.\n",
      "# 16  GLOBAL CAIM  19353.217168875715\n",
      "Processed 30 out of 43 features.\n",
      "# 17  GLOBAL CAIM  19352.941897959514\n",
      "Processed 31 out of 43 features.\n",
      "# 22  GLOBAL CAIM  19387.931610106087\n",
      "Processed 32 out of 43 features.\n",
      "# 26  GLOBAL CAIM  19526.08693974442\n",
      "Processed 33 out of 43 features.\n",
      "# 27  GLOBAL CAIM  20132.836018993148\n",
      "Processed 34 out of 43 features.\n",
      "# 23  GLOBAL CAIM  19455.566162333733\n",
      "Processed 35 out of 43 features.\n",
      "# 11  GLOBAL CAIM  20321.53085044143\n",
      "Processed 36 out of 43 features.\n",
      "# 10  GLOBAL CAIM  20425.44994057103\n",
      "Processed 37 out of 43 features.\n",
      "# 24  GLOBAL CAIM  19293.98303167044\n",
      "Processed 38 out of 43 features.\n",
      "# 25  GLOBAL CAIM  19293.98303167044\n",
      "Processed 39 out of 43 features.\n"
     ]
    }
   ],
   "source": [
    "caim = CAIMD()\n",
    "\n",
    "x_disc = caim.fit_transform(x, y)"
   ]
  },
  {
   "cell_type": "code",
   "execution_count": 8,
   "metadata": {
    "id": "j4Cmd5OjZqcn"
   },
   "outputs": [
    {
     "name": "stdout",
     "output_type": "stream",
     "text": [
      "(49999, 44)\n"
     ]
    }
   ],
   "source": [
    "data = x_disc\n",
    "data[class_column] = y \n",
    "print(data.shape)"
   ]
  },
  {
   "cell_type": "code",
   "execution_count": 9,
   "metadata": {},
   "outputs": [],
   "source": [
    "# data.to_csv('./datasets/unsw_nb_15_cat_in_num_binaryclass_50k_discretized.csv', index=False)"
   ]
  }
 ],
 "metadata": {
  "accelerator": "GPU",
  "colab": {
   "provenance": []
  },
  "gpuClass": "standard",
  "kernelspec": {
   "display_name": "Python 3 (ipykernel)",
   "language": "python",
   "name": "python3"
  },
  "language_info": {
   "codemirror_mode": {
    "name": "ipython",
    "version": 3
   },
   "file_extension": ".py",
   "mimetype": "text/x-python",
   "name": "python",
   "nbconvert_exporter": "python",
   "pygments_lexer": "ipython3",
   "version": "3.11.5"
  }
 },
 "nbformat": 4,
 "nbformat_minor": 1
}
