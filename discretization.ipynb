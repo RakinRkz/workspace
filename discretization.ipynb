{
 "cells": [
  {
   "cell_type": "code",
   "execution_count": 1,
   "metadata": {
    "colab": {
     "base_uri": "https://localhost:8080/"
    },
    "id": "3om5b7ViaZ0_",
    "outputId": "4840f409-cdd0-423e-ada8-5fc4ad97c4c4"
   },
   "outputs": [
    {
     "name": "stdout",
     "output_type": "stream",
     "text": [
      "Requirement already satisfied: caimcaim in /home/rakin/.local/lib/python3.10/site-packages (0.3)\n",
      "Requirement already satisfied: pandas in /home/rakin/.local/lib/python3.10/site-packages (2.1.3)\n",
      "Requirement already satisfied: scikit-learn in /home/rakin/.local/lib/python3.10/site-packages (1.3.2)\n",
      "Requirement already satisfied: xgboost in /home/rakin/.local/lib/python3.10/site-packages (2.0.2)\n",
      "Requirement already satisfied: numpy in /home/rakin/.local/lib/python3.10/site-packages (from caimcaim) (1.26.2)\n",
      "Requirement already satisfied: sklearn in /home/rakin/.local/lib/python3.10/site-packages (from caimcaim) (0.0.post11)\n",
      "Requirement already satisfied: python-dateutil>=2.8.2 in /home/rakin/.local/lib/python3.10/site-packages (from pandas) (2.8.2)\n",
      "Requirement already satisfied: pytz>=2020.1 in /home/rakin/.local/lib/python3.10/site-packages (from pandas) (2023.3.post1)\n",
      "Requirement already satisfied: tzdata>=2022.1 in /home/rakin/.local/lib/python3.10/site-packages (from pandas) (2023.3)\n",
      "Requirement already satisfied: scipy>=1.5.0 in /home/rakin/.local/lib/python3.10/site-packages (from scikit-learn) (1.11.3)\n",
      "Requirement already satisfied: joblib>=1.1.1 in /home/rakin/.local/lib/python3.10/site-packages (from scikit-learn) (1.3.2)\n",
      "Requirement already satisfied: threadpoolctl>=2.0.0 in /home/rakin/.local/lib/python3.10/site-packages (from scikit-learn) (3.2.0)\n",
      "Requirement already satisfied: six>=1.5 in /home/rakin/miniconda3/envs/fazle/lib/python3.10/site-packages (from python-dateutil>=2.8.2->pandas) (1.16.0)\n",
      "Note: you may need to restart the kernel to use updated packages.\n"
     ]
    }
   ],
   "source": [
    "%pip install caimcaim pandas scikit-learn xgboost"
   ]
  },
  {
   "cell_type": "code",
   "execution_count": 2,
   "metadata": {
    "colab": {
     "base_uri": "https://localhost:8080/",
     "height": 356
    },
    "id": "J9pec9xsYESA",
    "outputId": "940341e9-2204-43e7-af39-967448623870"
   },
   "outputs": [],
   "source": [
    "import pandas as pd \n",
    "from IPython.display import  clear_output\n",
    "import numpy as np\n",
    "from sklearn.ensemble import RandomForestClassifier\n",
    "from sklearn.model_selection import train_test_split \n",
    "from sklearn.feature_selection import SelectKBest\n",
    "from sklearn.feature_selection import mutual_info_classif\n",
    "import math\n",
    "from collections import defaultdict\n",
    "from sklearn.metrics import accuracy_score\n",
    "from scipy.io import loadmat\n",
    "from sklearn.neighbors import KNeighborsClassifier\n",
    "from sklearn.tree import DecisionTreeClassifier\n",
    "from sklearn.svm import SVC\n",
    "from sklearn.naive_bayes import GaussianNB\n",
    "from xgboost import XGBClassifier\n",
    "from sklearn.model_selection import GridSearchCV\n",
    "from sklearn.model_selection import cross_validate\n",
    "from caimcaim import CAIMD\n",
    "import time"
   ]
  },
  {
   "cell_type": "code",
   "execution_count": 3,
   "metadata": {},
   "outputs": [],
   "source": [
    "datasetFile = '/home/rakin/Desktop/workspace/datasets/unsw_nb_15_cat_in_num_binaryclass_100k_sample.csv' #need to edit this depending on dataset file"
   ]
  },
  {
   "cell_type": "code",
   "execution_count": 4,
   "metadata": {
    "id": "-e0ni8-KZcQH"
   },
   "outputs": [
    {
     "name": "stdout",
     "output_type": "stream",
     "text": [
      "   0  proto  state       dur  sbytes  dbytes  sttl  dttl  sloss  dloss  ...  \\\n",
      "0  0      1      1  0.001033     146     178    31    29      0      0  ...   \n",
      "1  0      1      2  0.000001     264       0    60     0      0      0  ...   \n",
      "2  0      3      3  0.009146    2334   16822    31    29      7     12  ...   \n",
      "3  0      1      1  0.001021     146     178    31    29      0      0  ...   \n",
      "4  0      3      3  1.207694    1684   10168    31    29      3      5  ...   \n",
      "\n",
      "   ct_flw_http_mthd  is_ftp_login  ct_ftp_cmd  ct_srv_src  ct_srv_dst  \\\n",
      "0               0.0           0.0         0.0           2           2   \n",
      "1               0.0           0.0         0.0          36          36   \n",
      "2               0.0           0.0         0.0           5           7   \n",
      "3               0.0           0.0         0.0           5           2   \n",
      "4               0.0           0.0         0.0           9           5   \n",
      "\n",
      "   ct_dst_ltm  ct_src_ltm  ct_src_dport_ltm  ct_dst_sport_ltm  ct_dst_src_ltm  \n",
      "0           7           5                 1                 1               5  \n",
      "1          36          36                36                19              36  \n",
      "2           3           4                 1                 1               2  \n",
      "3           2           5                 3                 1               1  \n",
      "4           3           1                 1                 1               1  \n",
      "\n",
      "[5 rows x 44 columns]\n",
      "(99999, 44)\n"
     ]
    }
   ],
   "source": [
    "main_data = pd.read_csv(datasetFile)\n",
    "clear_output()\n",
    "print(main_data.head())\n",
    "print(main_data.shape)"
   ]
  },
  {
   "cell_type": "code",
   "execution_count": 5,
   "metadata": {},
   "outputs": [],
   "source": [
    "class_column = '0' #might need to edit this depending on dataset's target or class' name"
   ]
  },
  {
   "cell_type": "code",
   "execution_count": 6,
   "metadata": {
    "id": "4j-hlntbZfoW"
   },
   "outputs": [],
   "source": [
    "feature_list = main_data\n",
    "feature_list =  feature_list.drop(class_column, axis=1)\n",
    "feature_list = feature_list.columns\n",
    "\n",
    "x = main_data[feature_list]\n",
    "y = main_data[class_column]\n",
    "\n",
    "feature_list = main_data.columns"
   ]
  },
  {
   "cell_type": "code",
   "execution_count": 7,
   "metadata": {
    "id": "IeDFXSSVZnt_"
   },
   "outputs": [
    {
     "name": "stdout",
     "output_type": "stream",
     "text": [
      "Categorical [14, 15, 20, 31]\n",
      "# 0  GLOBAL CAIM  39419.65213786455\n",
      "# 1  GLOBAL CAIM  38705.54900814523\n",
      "# 2  GLOBAL CAIM  40661.79076424859\n",
      "# 3  GLOBAL CAIM  45394.2737621501\n",
      "# 4  GLOBAL CAIM  40668.12519276774\n",
      "# 5  GLOBAL CAIM  48391.64198701542\n",
      "# 6  GLOBAL CAIM  39278.09527137314\n",
      "# 7  GLOBAL CAIM  38769.93312852413\n",
      "# 8  GLOBAL CAIM  38845.605468389054\n",
      "# 9  GLOBAL CAIM  38214.30312708835\n",
      "# 10  GLOBAL CAIM  40802.33745870921\n",
      "# 11  GLOBAL CAIM  40663.01454908309\n",
      "# 12  GLOBAL CAIM  38939.15900454432\n",
      "# 13  GLOBAL CAIM  40663.65332994538\n",
      "# 16  GLOBAL CAIM  38718.83560670896\n",
      "# 17  GLOBAL CAIM  38718.5730205938\n",
      "# 18  GLOBAL CAIM  39697.68200253398\n",
      "# 19  GLOBAL CAIM  40963.69796425871\n",
      "# 21  GLOBAL CAIM  38191.776762171685\n",
      "# 22  GLOBAL CAIM  38785.75429579359\n",
      "# 23  GLOBAL CAIM  38933.49318778721\n",
      "# 24  GLOBAL CAIM  38593.79024725723\n",
      "# 25  GLOBAL CAIM  38593.768146761606\n",
      "# 26  GLOBAL CAIM  39064.7660373148\n",
      "# 27  GLOBAL CAIM  40277.696300972886\n",
      "# 28  GLOBAL CAIM  39169.230282281635\n",
      "# 29  GLOBAL CAIM  39087.066264166744\n",
      "# 30  GLOBAL CAIM  39180.726605050084\n",
      "# 32  GLOBAL CAIM  47118.47882482141\n",
      "# 33  GLOBAL CAIM  38153.56223638602\n",
      "# 34  GLOBAL CAIM  38151.39803365168\n",
      "# 35  GLOBAL CAIM  38152.381822097144\n",
      "# 36  GLOBAL CAIM  39156.99894789528\n",
      "# 37  GLOBAL CAIM  39217.6191570433\n",
      "# 38  GLOBAL CAIM  39038.02324857041\n",
      "# 39  GLOBAL CAIM  39028.8407493381\n",
      "# 40  GLOBAL CAIM  39349.96555031649\n",
      "# 41  GLOBAL CAIM  39430.329970272476\n",
      "# 42  GLOBAL CAIM  39435.681788164846\n"
     ]
    }
   ],
   "source": [
    "caim = CAIMD()\n",
    "\n",
    "x_disc = caim.fit_transform(x, y)"
   ]
  },
  {
   "cell_type": "code",
   "execution_count": 8,
   "metadata": {
    "id": "j4Cmd5OjZqcn"
   },
   "outputs": [
    {
     "name": "stdout",
     "output_type": "stream",
     "text": [
      "(99999, 44)\n"
     ]
    }
   ],
   "source": [
    "data = x_disc\n",
    "data[class_column] = y \n",
    "print(data.shape)"
   ]
  },
  {
   "cell_type": "code",
   "execution_count": 11,
   "metadata": {},
   "outputs": [],
   "source": [
    "data.to_csv('./datasets/unsw_nb_15_cat_in_num_binaryclass_100k_sample_discretized.csv', index=False)"
   ]
  }
 ],
 "metadata": {
  "accelerator": "GPU",
  "colab": {
   "provenance": []
  },
  "gpuClass": "standard",
  "kernelspec": {
   "display_name": "Python 3 (ipykernel)",
   "language": "python",
   "name": "python3"
  },
  "language_info": {
   "codemirror_mode": {
    "name": "ipython",
    "version": 3
   },
   "file_extension": ".py",
   "mimetype": "text/x-python",
   "name": "python",
   "nbconvert_exporter": "python",
   "pygments_lexer": "ipython3",
   "version": "3.10.13"
  }
 },
 "nbformat": 4,
 "nbformat_minor": 1
}
